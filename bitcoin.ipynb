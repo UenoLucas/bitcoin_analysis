{
 "cells": [
  {
   "cell_type": "markdown",
   "metadata": {},
   "source": [
    "<h2>Bitcoin basic analysis from 2014/09 to 2021/11 importing data of yahoo finance</h2>"
   ]
  },
  {
   "cell_type": "code",
   "execution_count": 207,
   "metadata": {},
   "outputs": [],
   "source": [
    "import numpy as np\n",
    "import pandas as pd\n",
    "import cufflinks as cf \n",
    "import plotly.graph_objs as go\n",
    "import yfinance as yf\n",
    "from plotly.offline import download_plotlyjs, init_notebook_mode, plot, iplot\n",
    "import plotly.io as pio\n",
    "pio.renderers\n",
    "yf.pdr_override()\n",
    "pio.renderers.default = \"svg\""
   ]
  },
  {
   "cell_type": "code",
   "execution_count": 208,
   "metadata": {},
   "outputs": [
    {
     "data": {
      "text/html": [
       "        <script type=\"text/javascript\">\n",
       "        window.PlotlyConfig = {MathJaxConfig: 'local'};\n",
       "        if (window.MathJax) {MathJax.Hub.Config({SVG: {font: \"STIX-Web\"}});}\n",
       "        if (typeof require !== 'undefined') {\n",
       "        require.undef(\"plotly\");\n",
       "        requirejs.config({\n",
       "            paths: {\n",
       "                'plotly': ['https://cdn.plot.ly/plotly-2.4.2.min']\n",
       "            }\n",
       "        });\n",
       "        require(['plotly'], function(Plotly) {\n",
       "            window._Plotly = Plotly;\n",
       "        });\n",
       "        }\n",
       "        </script>\n",
       "        "
      ]
     },
     "metadata": {},
     "output_type": "display_data"
    },
    {
     "data": {
      "text/html": [
       "        <script type=\"text/javascript\">\n",
       "        window.PlotlyConfig = {MathJaxConfig: 'local'};\n",
       "        if (window.MathJax) {MathJax.Hub.Config({SVG: {font: \"STIX-Web\"}});}\n",
       "        if (typeof require !== 'undefined') {\n",
       "        require.undef(\"plotly\");\n",
       "        requirejs.config({\n",
       "            paths: {\n",
       "                'plotly': ['https://cdn.plot.ly/plotly-2.4.2.min']\n",
       "            }\n",
       "        });\n",
       "        require(['plotly'], function(Plotly) {\n",
       "            window._Plotly = Plotly;\n",
       "        });\n",
       "        }\n",
       "        </script>\n",
       "        "
      ]
     },
     "metadata": {},
     "output_type": "display_data"
    }
   ],
   "source": [
    "init_notebook_mode(connected=True) # para conectar a biblioteca no notebook\n",
    "cf.go_offline()"
   ]
  },
  {
   "cell_type": "code",
   "execution_count": 209,
   "metadata": {},
   "outputs": [],
   "source": [
    "tickers = 'BTC-USD'"
   ]
  },
  {
   "cell_type": "code",
   "execution_count": 210,
   "metadata": {},
   "outputs": [],
   "source": [
    "start='2014-09-22'\n",
    "end='2021-11-08'"
   ]
  },
  {
   "cell_type": "code",
   "execution_count": 211,
   "metadata": {},
   "outputs": [
    {
     "name": "stdout",
     "output_type": "stream",
     "text": [
      "[*********************100%***********************]  1 of 1 completed\n"
     ]
    },
    {
     "data": {
      "text/html": [
       "<div>\n",
       "<style scoped>\n",
       "    .dataframe tbody tr th:only-of-type {\n",
       "        vertical-align: middle;\n",
       "    }\n",
       "\n",
       "    .dataframe tbody tr th {\n",
       "        vertical-align: top;\n",
       "    }\n",
       "\n",
       "    .dataframe thead th {\n",
       "        text-align: right;\n",
       "    }\n",
       "</style>\n",
       "<table border=\"1\" class=\"dataframe\">\n",
       "  <thead>\n",
       "    <tr style=\"text-align: right;\">\n",
       "      <th></th>\n",
       "      <th>Open</th>\n",
       "      <th>High</th>\n",
       "      <th>Low</th>\n",
       "      <th>Close</th>\n",
       "      <th>Adj Close</th>\n",
       "      <th>Volume</th>\n",
       "    </tr>\n",
       "    <tr>\n",
       "      <th>Date</th>\n",
       "      <th></th>\n",
       "      <th></th>\n",
       "      <th></th>\n",
       "      <th></th>\n",
       "      <th></th>\n",
       "      <th></th>\n",
       "    </tr>\n",
       "  </thead>\n",
       "  <tbody>\n",
       "    <tr>\n",
       "      <th>2014-09-22</th>\n",
       "      <td>399.100006</td>\n",
       "      <td>441.557007</td>\n",
       "      <td>374.332001</td>\n",
       "      <td>377.181000</td>\n",
       "      <td>377.181000</td>\n",
       "      <td>186772600</td>\n",
       "    </tr>\n",
       "    <tr>\n",
       "      <th>2014-09-29</th>\n",
       "      <td>376.928009</td>\n",
       "      <td>391.378998</td>\n",
       "      <td>289.295990</td>\n",
       "      <td>320.510010</td>\n",
       "      <td>320.510010</td>\n",
       "      <td>276657896</td>\n",
       "    </tr>\n",
       "    <tr>\n",
       "      <th>2014-10-06</th>\n",
       "      <td>320.389008</td>\n",
       "      <td>382.726013</td>\n",
       "      <td>302.559998</td>\n",
       "      <td>378.549011</td>\n",
       "      <td>378.549011</td>\n",
       "      <td>341152804</td>\n",
       "    </tr>\n",
       "    <tr>\n",
       "      <th>2014-10-13</th>\n",
       "      <td>377.920990</td>\n",
       "      <td>411.697998</td>\n",
       "      <td>368.897003</td>\n",
       "      <td>389.545990</td>\n",
       "      <td>389.545990</td>\n",
       "      <td>156902070</td>\n",
       "    </tr>\n",
       "    <tr>\n",
       "      <th>2014-10-20</th>\n",
       "      <td>389.230988</td>\n",
       "      <td>392.645996</td>\n",
       "      <td>342.877014</td>\n",
       "      <td>354.704010</td>\n",
       "      <td>354.704010</td>\n",
       "      <td>113691800</td>\n",
       "    </tr>\n",
       "  </tbody>\n",
       "</table>\n",
       "</div>"
      ],
      "text/plain": [
       "                  Open        High         Low       Close   Adj Close  \\\n",
       "Date                                                                     \n",
       "2014-09-22  399.100006  441.557007  374.332001  377.181000  377.181000   \n",
       "2014-09-29  376.928009  391.378998  289.295990  320.510010  320.510010   \n",
       "2014-10-06  320.389008  382.726013  302.559998  378.549011  378.549011   \n",
       "2014-10-13  377.920990  411.697998  368.897003  389.545990  389.545990   \n",
       "2014-10-20  389.230988  392.645996  342.877014  354.704010  354.704010   \n",
       "\n",
       "               Volume  \n",
       "Date                   \n",
       "2014-09-22  186772600  \n",
       "2014-09-29  276657896  \n",
       "2014-10-06  341152804  \n",
       "2014-10-13  156902070  \n",
       "2014-10-20  113691800  "
      ]
     },
     "execution_count": 211,
     "metadata": {},
     "output_type": "execute_result"
    }
   ],
   "source": [
    "btc = yf.download(tickers,start=start,end=end,interval=\"1wk\")\n",
    "btc.fillna(method='bfill',inplace=True)\n",
    "btc.head()"
   ]
  },
  {
   "cell_type": "code",
   "execution_count": 212,
   "metadata": {},
   "outputs": [
    {
     "data": {
      "text/html": [
       "<div>\n",
       "<style scoped>\n",
       "    .dataframe tbody tr th:only-of-type {\n",
       "        vertical-align: middle;\n",
       "    }\n",
       "\n",
       "    .dataframe tbody tr th {\n",
       "        vertical-align: top;\n",
       "    }\n",
       "\n",
       "    .dataframe thead th {\n",
       "        text-align: right;\n",
       "    }\n",
       "</style>\n",
       "<table border=\"1\" class=\"dataframe\">\n",
       "  <thead>\n",
       "    <tr style=\"text-align: right;\">\n",
       "      <th></th>\n",
       "      <th>Open</th>\n",
       "      <th>High</th>\n",
       "      <th>Low</th>\n",
       "      <th>Close</th>\n",
       "      <th>Adj Close</th>\n",
       "      <th>Volume</th>\n",
       "    </tr>\n",
       "  </thead>\n",
       "  <tbody>\n",
       "    <tr>\n",
       "      <th>count</th>\n",
       "      <td>373.000000</td>\n",
       "      <td>373.000000</td>\n",
       "      <td>373.000000</td>\n",
       "      <td>373.000000</td>\n",
       "      <td>373.000000</td>\n",
       "      <td>3.730000e+02</td>\n",
       "    </tr>\n",
       "    <tr>\n",
       "      <th>mean</th>\n",
       "      <td>9930.420871</td>\n",
       "      <td>10813.766786</td>\n",
       "      <td>9146.055537</td>\n",
       "      <td>10111.107318</td>\n",
       "      <td>10111.107318</td>\n",
       "      <td>9.725721e+10</td>\n",
       "    </tr>\n",
       "    <tr>\n",
       "      <th>std</th>\n",
       "      <td>14693.673426</td>\n",
       "      <td>15943.527777</td>\n",
       "      <td>13510.736765</td>\n",
       "      <td>14988.048786</td>\n",
       "      <td>14988.048786</td>\n",
       "      <td>1.313035e+11</td>\n",
       "    </tr>\n",
       "    <tr>\n",
       "      <th>min</th>\n",
       "      <td>211.470993</td>\n",
       "      <td>231.712997</td>\n",
       "      <td>171.509995</td>\n",
       "      <td>210.339005</td>\n",
       "      <td>210.339005</td>\n",
       "      <td>8.067957e+07</td>\n",
       "    </tr>\n",
       "    <tr>\n",
       "      <th>25%</th>\n",
       "      <td>592.736023</td>\n",
       "      <td>611.836975</td>\n",
       "      <td>567.513977</td>\n",
       "      <td>600.825989</td>\n",
       "      <td>600.825989</td>\n",
       "      <td>5.481147e+08</td>\n",
       "    </tr>\n",
       "    <tr>\n",
       "      <th>50%</th>\n",
       "      <td>5791.693359</td>\n",
       "      <td>6434.209961</td>\n",
       "      <td>5216.487793</td>\n",
       "      <td>5830.254883</td>\n",
       "      <td>5830.254883</td>\n",
       "      <td>3.234097e+10</td>\n",
       "    </tr>\n",
       "    <tr>\n",
       "      <th>75%</th>\n",
       "      <td>9905.217773</td>\n",
       "      <td>10512.328125</td>\n",
       "      <td>9252.296875</td>\n",
       "      <td>9924.515625</td>\n",
       "      <td>9924.515625</td>\n",
       "      <td>1.607027e+11</td>\n",
       "    </tr>\n",
       "    <tr>\n",
       "      <th>max</th>\n",
       "      <td>63344.066406</td>\n",
       "      <td>67673.742188</td>\n",
       "      <td>63344.066406</td>\n",
       "      <td>67566.828125</td>\n",
       "      <td>67566.828125</td>\n",
       "      <td>7.666798e+11</td>\n",
       "    </tr>\n",
       "  </tbody>\n",
       "</table>\n",
       "</div>"
      ],
      "text/plain": [
       "               Open          High           Low         Close     Adj Close  \\\n",
       "count    373.000000    373.000000    373.000000    373.000000    373.000000   \n",
       "mean    9930.420871  10813.766786   9146.055537  10111.107318  10111.107318   \n",
       "std    14693.673426  15943.527777  13510.736765  14988.048786  14988.048786   \n",
       "min      211.470993    231.712997    171.509995    210.339005    210.339005   \n",
       "25%      592.736023    611.836975    567.513977    600.825989    600.825989   \n",
       "50%     5791.693359   6434.209961   5216.487793   5830.254883   5830.254883   \n",
       "75%     9905.217773  10512.328125   9252.296875   9924.515625   9924.515625   \n",
       "max    63344.066406  67673.742188  63344.066406  67566.828125  67566.828125   \n",
       "\n",
       "             Volume  \n",
       "count  3.730000e+02  \n",
       "mean   9.725721e+10  \n",
       "std    1.313035e+11  \n",
       "min    8.067957e+07  \n",
       "25%    5.481147e+08  \n",
       "50%    3.234097e+10  \n",
       "75%    1.607027e+11  \n",
       "max    7.666798e+11  "
      ]
     },
     "execution_count": 212,
     "metadata": {},
     "output_type": "execute_result"
    }
   ],
   "source": [
    "btc.describe()"
   ]
  },
  {
   "cell_type": "markdown",
   "metadata": {},
   "source": [
    "<h2 style='color:rgb(240, 213, 36);font-weight:bold'>Part I</h2>\n",
    "<h3>Simulating btc return in an investiment of $1000 in 2014/09/15 <br>\n",
    "With pyfolio library to analyze a tear sheet of this investment</h3>"
   ]
  },
  {
   "cell_type": "code",
   "execution_count": 213,
   "metadata": {},
   "outputs": [
    {
     "data": {
      "text/plain": [
       "Date\n",
       "2014-09-29   -0.150249\n",
       "2014-10-06    0.181083\n",
       "2014-10-13    0.029050\n",
       "2014-10-20   -0.089443\n",
       "2014-10-27   -0.081228\n",
       "                ...   \n",
       "2021-10-11    0.123824\n",
       "2021-10-18   -0.010118\n",
       "2021-10-25    0.006370\n",
       "2021-11-01    0.032747\n",
       "2021-11-08    0.066952\n",
       "Name: Adj Close, Length: 372, dtype: float64"
      ]
     },
     "execution_count": 213,
     "metadata": {},
     "output_type": "execute_result"
    }
   ],
   "source": [
    "retorno = btc.pct_change() # making percentage variation for line to line\n",
    "retorno.dropna(inplace=True)\n",
    "retorno = retorno['Adj Close']  # taking just the adjusted close\n",
    "retorno"
   ]
  },
  {
   "cell_type": "code",
   "execution_count": 214,
   "metadata": {},
   "outputs": [
    {
     "data": {
      "text/plain": [
       "Date\n",
       "2014-09-29      1.000000\n",
       "2014-10-06      1.003627\n",
       "2014-10-13      1.032783\n",
       "2014-10-20      0.940408\n",
       "2014-10-27      0.864020\n",
       "                 ...    \n",
       "2021-10-11    163.193844\n",
       "2021-10-18    161.542697\n",
       "2021-10-25    162.571702\n",
       "2021-11-01    167.895489\n",
       "2021-11-08    179.136351\n",
       "Name: Adj Close, Length: 372, dtype: float64"
      ]
     },
     "execution_count": 214,
     "metadata": {},
     "output_type": "execute_result"
    }
   ],
   "source": [
    "# cumprod = produto cumulativo de uma série\n",
    "retorno_acumulado = (1+retorno).cumprod()\n",
    "retorno_acumulado.iloc[0]=1\n",
    "retorno_acumulado"
   ]
  },
  {
   "cell_type": "code",
   "execution_count": 215,
   "metadata": {},
   "outputs": [
    {
     "data": {
      "text/html": [
       "<div>\n",
       "<style scoped>\n",
       "    .dataframe tbody tr th:only-of-type {\n",
       "        vertical-align: middle;\n",
       "    }\n",
       "\n",
       "    .dataframe tbody tr th {\n",
       "        vertical-align: top;\n",
       "    }\n",
       "\n",
       "    .dataframe thead th {\n",
       "        text-align: right;\n",
       "    }\n",
       "</style>\n",
       "<table border=\"1\" class=\"dataframe\">\n",
       "  <thead>\n",
       "    <tr style=\"text-align: right;\">\n",
       "      <th></th>\n",
       "      <th>Adj Close</th>\n",
       "      <th>Retorno</th>\n",
       "    </tr>\n",
       "    <tr>\n",
       "      <th>Date</th>\n",
       "      <th></th>\n",
       "      <th></th>\n",
       "    </tr>\n",
       "  </thead>\n",
       "  <tbody>\n",
       "    <tr>\n",
       "      <th>2014-09-29</th>\n",
       "      <td>1000.000000</td>\n",
       "      <td>NaN</td>\n",
       "    </tr>\n",
       "    <tr>\n",
       "      <th>2014-10-06</th>\n",
       "      <td>1003.626936</td>\n",
       "      <td>0.003627</td>\n",
       "    </tr>\n",
       "    <tr>\n",
       "      <th>2014-10-13</th>\n",
       "      <td>1032.782643</td>\n",
       "      <td>0.029050</td>\n",
       "    </tr>\n",
       "    <tr>\n",
       "      <th>2014-10-20</th>\n",
       "      <td>940.407948</td>\n",
       "      <td>-0.089443</td>\n",
       "    </tr>\n",
       "    <tr>\n",
       "      <th>2014-10-27</th>\n",
       "      <td>864.020188</td>\n",
       "      <td>-0.081228</td>\n",
       "    </tr>\n",
       "    <tr>\n",
       "      <th>...</th>\n",
       "      <td>...</td>\n",
       "      <td>...</td>\n",
       "    </tr>\n",
       "    <tr>\n",
       "      <th>2021-10-11</th>\n",
       "      <td>163193.843877</td>\n",
       "      <td>0.123824</td>\n",
       "    </tr>\n",
       "    <tr>\n",
       "      <th>2021-10-18</th>\n",
       "      <td>161542.696946</td>\n",
       "      <td>-0.010118</td>\n",
       "    </tr>\n",
       "    <tr>\n",
       "      <th>2021-10-25</th>\n",
       "      <td>162571.701838</td>\n",
       "      <td>0.006370</td>\n",
       "    </tr>\n",
       "    <tr>\n",
       "      <th>2021-11-01</th>\n",
       "      <td>167895.488697</td>\n",
       "      <td>0.032747</td>\n",
       "    </tr>\n",
       "    <tr>\n",
       "      <th>2021-11-08</th>\n",
       "      <td>179136.351430</td>\n",
       "      <td>0.066952</td>\n",
       "    </tr>\n",
       "  </tbody>\n",
       "</table>\n",
       "<p>372 rows × 2 columns</p>\n",
       "</div>"
      ],
      "text/plain": [
       "                Adj Close   Retorno\n",
       "Date                               \n",
       "2014-09-29    1000.000000       NaN\n",
       "2014-10-06    1003.626936  0.003627\n",
       "2014-10-13    1032.782643  0.029050\n",
       "2014-10-20     940.407948 -0.089443\n",
       "2014-10-27     864.020188 -0.081228\n",
       "...                   ...       ...\n",
       "2021-10-11  163193.843877  0.123824\n",
       "2021-10-18  161542.696946 -0.010118\n",
       "2021-10-25  162571.701838  0.006370\n",
       "2021-11-01  167895.488697  0.032747\n",
       "2021-11-08  179136.351430  0.066952\n",
       "\n",
       "[372 rows x 2 columns]"
      ]
     },
     "execution_count": 215,
     "metadata": {},
     "output_type": "execute_result"
    }
   ],
   "source": [
    "# If had done an investment of $1000 in 2014/10, just guessing 😭\n",
    "investimento_btc = 1000*retorno_acumulado\n",
    "investimento = pd.DataFrame(investimento_btc)\n",
    "investimento['Retorno'] = investimento.pct_change()\n",
    "investimento"
   ]
  },
  {
   "cell_type": "code",
   "execution_count": 216,
   "metadata": {},
   "outputs": [],
   "source": [
    "import pyfolio as pf "
   ]
  },
  {
   "cell_type": "code",
   "execution_count": 217,
   "metadata": {},
   "outputs": [
    {
     "data": {
      "text/html": [
       "<table border=\"1\" class=\"dataframe\">\n",
       "  <thead>\n",
       "    <tr style=\"text-align: right;\"><th>Start date</th><td colspan=2>2014-09-29</td></tr>\n",
       "    <tr style=\"text-align: right;\"><th>End date</th><td colspan=2>2021-11-08</td></tr>\n",
       "    <tr style=\"text-align: right;\"><th>Total months</th><td colspan=2>17</td></tr>\n",
       "    <tr style=\"text-align: right;\">\n",
       "      <th></th>\n",
       "      <th>Backtest</th>\n",
       "    </tr>\n",
       "  </thead>\n",
       "  <tbody>\n",
       "    <tr>\n",
       "      <th>Annual return</th>\n",
       "      <td>3260.085%</td>\n",
       "    </tr>\n",
       "    <tr>\n",
       "      <th>Cumulative returns</th>\n",
       "      <td>17813.635%</td>\n",
       "    </tr>\n",
       "    <tr>\n",
       "      <th>Annual volatility</th>\n",
       "      <td>166.93%</td>\n",
       "    </tr>\n",
       "    <tr>\n",
       "      <th>Sharpe ratio</th>\n",
       "      <td>2.96</td>\n",
       "    </tr>\n",
       "    <tr>\n",
       "      <th>Calmar ratio</th>\n",
       "      <td>39.28</td>\n",
       "    </tr>\n",
       "    <tr>\n",
       "      <th>Stability</th>\n",
       "      <td>0.89</td>\n",
       "    </tr>\n",
       "    <tr>\n",
       "      <th>Max drawdown</th>\n",
       "      <td>-83.006%</td>\n",
       "    </tr>\n",
       "    <tr>\n",
       "      <th>Omega ratio</th>\n",
       "      <td>1.67</td>\n",
       "    </tr>\n",
       "    <tr>\n",
       "      <th>Sortino ratio</th>\n",
       "      <td>4.86</td>\n",
       "    </tr>\n",
       "    <tr>\n",
       "      <th>Skew</th>\n",
       "      <td>NaN</td>\n",
       "    </tr>\n",
       "    <tr>\n",
       "      <th>Kurtosis</th>\n",
       "      <td>NaN</td>\n",
       "    </tr>\n",
       "    <tr>\n",
       "      <th>Tail ratio</th>\n",
       "      <td>1.3</td>\n",
       "    </tr>\n",
       "    <tr>\n",
       "      <th>Daily value at risk</th>\n",
       "      <td>-19.074%</td>\n",
       "    </tr>\n",
       "  </tbody>\n",
       "</table>"
      ],
      "text/plain": [
       "<IPython.core.display.HTML object>"
      ]
     },
     "metadata": {},
     "output_type": "display_data"
    },
    {
     "data": {
      "text/html": [
       "<table border=\"1\" class=\"dataframe\">\n",
       "  <thead>\n",
       "    <tr style=\"text-align: right;\">\n",
       "      <th>Worst drawdown periods</th>\n",
       "      <th>Net drawdown in %</th>\n",
       "      <th>Peak date</th>\n",
       "      <th>Valley date</th>\n",
       "      <th>Recovery date</th>\n",
       "      <th>Duration</th>\n",
       "    </tr>\n",
       "  </thead>\n",
       "  <tbody>\n",
       "    <tr>\n",
       "      <th>0</th>\n",
       "      <td>83.01</td>\n",
       "      <td>2017-12-11</td>\n",
       "      <td>2018-12-10</td>\n",
       "      <td>2020-11-30</td>\n",
       "      <td>776</td>\n",
       "    </tr>\n",
       "    <tr>\n",
       "      <th>1</th>\n",
       "      <td>47.19</td>\n",
       "      <td>2021-04-05</td>\n",
       "      <td>2021-07-12</td>\n",
       "      <td>2021-10-11</td>\n",
       "      <td>136</td>\n",
       "    </tr>\n",
       "    <tr>\n",
       "      <th>2</th>\n",
       "      <td>46.0</td>\n",
       "      <td>2014-10-13</td>\n",
       "      <td>2015-01-12</td>\n",
       "      <td>2015-12-07</td>\n",
       "      <td>301</td>\n",
       "    </tr>\n",
       "    <tr>\n",
       "      <th>3</th>\n",
       "      <td>34.76</td>\n",
       "      <td>2017-06-05</td>\n",
       "      <td>2017-07-10</td>\n",
       "      <td>2017-07-31</td>\n",
       "      <td>41</td>\n",
       "    </tr>\n",
       "    <tr>\n",
       "      <th>4</th>\n",
       "      <td>25.31</td>\n",
       "      <td>2016-06-13</td>\n",
       "      <td>2016-08-08</td>\n",
       "      <td>2016-11-28</td>\n",
       "      <td>121</td>\n",
       "    </tr>\n",
       "  </tbody>\n",
       "</table>"
      ],
      "text/plain": [
       "<IPython.core.display.HTML object>"
      ]
     },
     "metadata": {},
     "output_type": "display_data"
    },
    {
     "data": {
      "text/html": [
       "<table border=\"1\" class=\"dataframe\">\n",
       "  <thead>\n",
       "    <tr style=\"text-align: right;\">\n",
       "      <th>Stress Events</th>\n",
       "      <th>mean</th>\n",
       "      <th>min</th>\n",
       "      <th>max</th>\n",
       "    </tr>\n",
       "  </thead>\n",
       "  <tbody>\n",
       "    <tr>\n",
       "      <th>Oct14</th>\n",
       "      <td>-3.45%</td>\n",
       "      <td>-8.94%</td>\n",
       "      <td>2.91%</td>\n",
       "    </tr>\n",
       "    <tr>\n",
       "      <th>Fall2015</th>\n",
       "      <td>-1.03%</td>\n",
       "      <td>-11.74%</td>\n",
       "      <td>4.84%</td>\n",
       "    </tr>\n",
       "    <tr>\n",
       "      <th>New Normal</th>\n",
       "      <td>1.96%</td>\n",
       "      <td>-33.49%</td>\n",
       "      <td>41.48%</td>\n",
       "    </tr>\n",
       "  </tbody>\n",
       "</table>"
      ],
      "text/plain": [
       "<IPython.core.display.HTML object>"
      ]
     },
     "metadata": {},
     "output_type": "display_data"
    },
    {
     "data": {
      "image/png": "[encoded data removed]",
      "text/plain": [
       "<Figure size 1008x4752 with 12 Axes>"
      ]
     },
     "metadata": {},
     "output_type": "display_data"
    },
    {
     "data": {
      "image/png": "[encoded data removed]",
      "text/plain": [
       "<Figure size 1008x864 with 3 Axes>"
      ]
     },
     "metadata": {},
     "output_type": "display_data"
    }
   ],
   "source": [
    "pf.create_full_tear_sheet(investimento[\"Retorno\"])"
   ]
  },
  {
   "cell_type": "markdown",
   "metadata": {},
   "source": [
    "<h2 style='color:rgb(240, 213, 36);font-weight:bold'>Part II</h2>\n",
    "<h3>Historical candlestick and analysis of some drawdowns</h3>\n",
    "<i>using the plotly library</i>"
   ]
  },
  {
   "cell_type": "code",
   "execution_count": 218,
   "metadata": {},
   "outputs": [],
   "source": [
    "class propriedades():\n",
    "    def __new__(self,**kw):\n",
    "        dic1 = dict(\n",
    "            borderpad=4,\n",
    "            borderwidth=1.5,\n",
    "            bordercolor='rgb(50,55,60,0.40)',\n",
    "            bgcolor='rgb(242,242,242,0.95)',\n",
    "            arrowwidth=1.5,\n",
    "            arrowhead=2,\n",
    "            yref='y',\n",
    "            xref='x',\n",
    "            showarrow=True, \n",
    "            font=dict(\n",
    "                size=9.5,\n",
    "                family='monospace'\n",
    "            )\n",
    "            )\n",
    "        self.dic2 = kw\n",
    "        return dict(**self.dic2,**dic1)\n",
    "         "
   ]
  },
  {
   "cell_type": "code",
   "execution_count": 219,
   "metadata": {},
   "outputs": [],
   "source": [
    "crash_2017 = {'x':'2017-12-11',\n",
    "    'y':'20000',\n",
    "    'text':'Bitcoin bubble crash, and hacking attacks in Korea and Japan'}\n",
    "crash_dec_2017 = propriedades(**crash_2017)\n",
    "\n",
    "musk_china = {\n",
    "    'x':'2021-04',\n",
    "    'y':'60000',\n",
    "    'ax':-20,\n",
    "    'text':'Tesla and China against btc, enviroment concerns, cryptocurrency tax bill USA',\n",
    "    'startarrowsize':5\n",
    "}\n",
    "\n",
    "musk_china_ban_bitcoin = propriedades(**musk_china)\n",
    "\n",
    "china_ban = {\n",
    "    'x':'2021-09',\n",
    "    'y':'45000',\n",
    "    'ax':10,\n",
    "    'ay':100,\n",
    "    'align':'right',\n",
    "    'text':'China banned criptocurrencies',\n",
    "}\n",
    "\n",
    "china_ban = propriedades(**china_ban)"
   ]
  },
  {
   "cell_type": "code",
   "execution_count": 220,
   "metadata": {},
   "outputs": [],
   "source": [
    "annotations = [\n",
    "    crash_dec_2017, \n",
    "    musk_china_ban_bitcoin,\n",
    "    china_ban\n",
    "]"
   ]
  },
  {
   "cell_type": "code",
   "execution_count": 221,
   "metadata": {},
   "outputs": [
    {
     "data": {
      "application/vnd.plotly.v1+json": {
       "config": {
        "linkText": "Export to plot.ly",
        "plotlyServerURL": "https://plot.ly",
        "showLink": true
       },
       "data": [
        {
         "close": [
          377.1809997558594,
          320.510009765625,
          378.54901123046875,
          389.5459899902344,
          354.7040100097656,
          325.8919982910156,
          363.2640075683594,
          387.8819885253906,
          367.572998046875,
          378.0469970703125,
          375.0950012207031,
          351.6319885253906,
          320.8429870605469,
          317.239013671875,
          264.19500732421875,
          265.6600036621094,
          210.33900451660156,
          253.71800231933594,
          226.9720001220703,
          223.41200256347656,
          234.8249969482422,
          235.9770050048828,
          260.2019958496094,
          274.35400390625,
          286.39300537109375,
          267.9599914550781,
          242.71299743652344,
          260.5979919433594,
          236.1529998779297,
          222.60000610351562,
          219.42999267578125,
          240.35800170898438,
          240.29600524902344,
          236.802001953125,
          240.9530029296875,
          230.19000244140625,
          222.88099670410156,
          233.54299926757812,
          243.94400024414062,
          249.01100158691406,
          271.9129943847656,
          310.86700439453125,
          273.614013671875,
          292.6860046386719,
          282.614013671875,
          265.0830078125,
          258.5069885253906,
          228.16900634765625,
          228.76100158691406,
          239.83999633789062,
          230.51199340820312,
          231.21200561523438,
          232.7570037841797,
          238.25900268554688,
          247.0500030517578,
          261.64300537109375,
          283.67999267578125,
          325.4309997558594,
          373.3680114746094,
          320.1659851074219,
          324.5360107421875,
          371.29400634765625,
          388.7829895019531,
          433.7550048828125,
          442.68499755859375,
          422.822998046875,
          430.010986328125,
          447.9909973144531,
          382.29901123046875,
          402.97100830078125,
          368.7669982910156,
          376.6199951171875,
          407.2300109863281,
          438.7980041503906,
          433.5039978027344,
          407.7070007324219,
          414.06500244140625,
          413.7550048828125,
          426.7650146484375,
          420.90399169921875,
          421.5639953613281,
          427.39898681640625,
          458.55499267578125,
          451.875,
          458.5480041503906,
          457.5679931640625,
          439.322998046875,
          526.2329711914062,
          574.9769897460938,
          672.7839965820312,
          763.781005859375,
          629.3670043945312,
          658.6640014648438,
          649.3599853515625,
          679.458984375,
          661.2849731445312,
          624.6810302734375,
          592.6900024414062,
          570.4730224609375,
          581.3079833984375,
          573.9119873046875,
          608.6339721679688,
          606.718994140625,
          609.8740234375,
          600.8259887695312,
          610.8920288085938,
          616.7520141601562,
          641.6309814453125,
          657.0709838867188,
          701.864013671875,
          711.52197265625,
          702.031005859375,
          731.0260009765625,
          732.0349731445312,
          773.8720092773438,
          769.7310180664062,
          790.530029296875,
          896.1829833984375,
          998.3250122070312,
          911.198974609375,
          821.7979736328125,
          924.6729736328125,
          919.4959716796875,
          1027.3399658203125,
          999.1810302734375,
          1047.8699951171875,
          1165.199951171875,
          1267.1199951171875,
          1221.3800048828125,
          1036.739990234375,
          966.7249755859375,
          1102.1700439453125,
          1187.8699951171875,
          1182.93994140625,
          1207.2099609375,
          1347.8900146484375,
          1596.7099609375,
          1808.9100341796875,
          2041.199951171875,
          2155.800048828125,
          2511.81005859375,
          2958.110107421875,
          2548.2900390625,
          2589.409912109375,
          2506.469970703125,
          2518.43994140625,
          1929.8199462890625,
          2730.39990234375,
          2757.179931640625,
          3213.93994140625,
          4073.260009765625,
          4087.659912109375,
          4382.8798828125,
          4582.9599609375,
          4122.93994140625,
          3582.8798828125,
          3682.840087890625,
          4403.740234375,
          4610.47998046875,
          5678.18994140625,
          6008.419921875,
          6153.85009765625,
          7407.41015625,
          5950.06982421875,
          8036.490234375,
          9330.5498046875,
          11323.2001953125,
          15455.400390625,
          19140.80078125,
          13925.7998046875,
          14156.400390625,
          16477.599609375,
          13772,
          11600.099609375,
          11786.2998046875,
          8277.009765625,
          8129.97021484375,
          10551.7998046875,
          9664.73046875,
          11512.599609375,
          9578.6298828125,
          8223.6796875,
          8495.7802734375,
          6844.22998046875,
          7023.52001953125,
          8329.1103515625,
          8802.4599609375,
          9419.080078125,
          9654.7998046875,
          8723.9404296875,
          8513.25,
          7368.22021484375,
          7720.25,
          6786.02001953125,
          6499.27001953125,
          6173.22998046875,
          6385.81982421875,
          6773.8798828125,
          6359.64013671875,
          7418.490234375,
          8218.4599609375,
          7068.47998046875,
          6322.68994140625,
          6506.06982421875,
          6707.259765625,
          7272.72021484375,
          6300.85986328125,
          6517.18017578125,
          6710.6298828125,
          6625.56005859375,
          6602.9501953125,
          6290.93017578125,
          6482.35009765625,
          6486.39013671875,
          6376.1298828125,
          6411.27001953125,
          5623.5400390625,
          4009.969970703125,
          4139.8779296875,
          3614.234375,
          3252.839111328125,
          3998.980224609375,
          3865.95263671875,
          4076.632568359375,
          3552.953125,
          3601.013671875,
          3583.9658203125,
          3464.013427734375,
          3690.188232421875,
          3673.836181640625,
          3810.427490234375,
          3847.17578125,
          3951.599853515625,
          4025.22900390625,
          4022.168212890625,
          4105.404296875,
          5198.89697265625,
          5167.72216796875,
          5314.53125,
          5285.13916015625,
          5795.70849609375,
          6972.37158203125,
          8197.689453125,
          8673.2158203125,
          8742.9580078125,
          7688.0771484375,
          8994.48828125,
          10855.37109375,
          10817.1552734375,
          11450.8466796875,
          10256.05859375,
          10599.10546875,
          9552.8603515625,
          10970.1845703125,
          11523.5791015625,
          10345.810546875,
          10138.517578125,
          9757.970703125,
          10441.2763671875,
          10347.712890625,
          10070.392578125,
          8104.185546875,
          7988.15576171875,
          8321.005859375,
          8222.078125,
          9551.71484375,
          9235.3544921875,
          9055.5263671875,
          8577.9755859375,
          7047.9169921875,
          7424.29248046875,
          7564.34521484375,
          7152.3017578125,
          7511.5888671875,
          7422.65283203125,
          7411.3173828125,
          8192.494140625,
          8706.2451171875,
          8596.830078125,
          9344.365234375,
          10116.673828125,
          9934.43359375,
          9924.515625,
          8562.4541015625,
          8108.1162109375,
          5392.31494140625,
          5830.2548828125,
          5922.04296875,
          6791.12939453125,
          6971.091796875,
          7189.4248046875,
          7679.8671875,
          8897.46875,
          8756.4306640625,
          9670.7392578125,
          8790.3681640625,
          9461.05859375,
          9758.8525390625,
          9386.7880859375,
          9303.6298828125,
          9143.58203125,
          9073.9423828125,
          9276.5,
          9185.8173828125,
          9905.1669921875,
          11053.6142578125,
          11675.7392578125,
          11892.8037109375,
          11664.84765625,
          11711.505859375,
          10280.3515625,
          10323.755859375,
          10938.271484375,
          10774.4267578125,
          10684.4287109375,
          11384.181640625,
          11483.359375,
          13031.173828125,
          13737.109375,
          15479.5673828125,
          15955.587890625,
          18370.001953125,
          18177.484375,
          19345.12109375,
          19142.3828125,
          23477.294921875,
          26272.294921875,
          32782.0234375,
          38356.44140625,
          35791.27734375,
          32289.37890625,
          33114.359375,
          38903.44140625,
          48717.2890625,
          57539.9453125,
          45137.76953125,
          51206.69140625,
          59302.31640625,
          57523.421875,
          55950.74609375,
          58758.5546875,
          60204.96484375,
          56216.18359375,
          49004.25390625,
          56631.078125,
          58232.31640625,
          46456.05859375,
          34770.58203125,
          35678.12890625,
          35862.37890625,
          39097.859375,
          35698.296875,
          34649.64453125,
          35287.78125,
          34240.1875,
          31796.810546875,
          35350.1875,
          39974.89453125,
          43798.1171875,
          47047.00390625,
          49321.65234375,
          48829.83203125,
          51753.41015625,
          46063.26953125,
          47260.21875,
          43208.5390625,
          48199.953125,
          54771.578125,
          61553.6171875,
          60930.8359375,
          61318.95703125,
          63326.98828125,
          67566.828125
         ],
         "high": [
          441.5570068359375,
          391.3789978027344,
          382.72601318359375,
          411.697998046875,
          392.64599609375,
          359.9840087890625,
          363.6260070800781,
          457.0929870605469,
          410.1990051269531,
          394.70098876953125,
          384.0379943847656,
          376.02899169921875,
          351.81500244140625,
          336.2869873046875,
          320.43499755859375,
          298.7539978027344,
          272.2030029296875,
          255.07400512695312,
          309.3840026855469,
          245.95700073242188,
          265.6109924316406,
          255.32000732421875,
          261.6600036621094,
          285.7959899902344,
          300.04400634765625,
          294.11199951171875,
          277.2969970703125,
          260.67498779296875,
          261.7980041503906,
          236.93499755859375,
          237.90899658203125,
          243.24000549316406,
          247.8040008544922,
          244.27000427246094,
          241.97799682617188,
          241.02099609375,
          231.71299743652344,
          234.85800170898438,
          256.8529968261719,
          251.33900451660156,
          274.5060119628906,
          314.3940124511719,
          310.947998046875,
          293.052001953125,
          297.77398681640625,
          285.7149963378906,
          270.6730041503906,
          260.5050048828125,
          235.218994140625,
          242.91200256347656,
          245.781005859375,
          259.1820068359375,
          237.427001953125,
          239.802001953125,
          247.2429962158203,
          273.5780029296875,
          294.0589904785156,
          334.16900634765625,
          495.56201171875,
          385.27801513671875,
          338.3500061035156,
          371.9389953613281,
          402.8089904785156,
          469.1029968261719,
          465.58099365234375,
          458.45599365234375,
          436.2460021972656,
          462.9339904785156,
          450.6619873046875,
          425.2669982910156,
          402.3169860839844,
          391.6080017089844,
          407.2300109863281,
          448.0459899902344,
          439.8580017089844,
          441.5069885253906,
          423.9259948730469,
          420.99700927734375,
          428.7969970703125,
          426.85699462890625,
          425.3609924316406,
          432.625,
          460.14599609375,
          467.9649963378906,
          461.375,
          462.4809875488281,
          458.20001220703125,
          553.9600219726562,
          590.1320190429688,
          684.843994140625,
          777.989990234375,
          764.083984375,
          704.968017578125,
          683.6619873046875,
          682.364990234375,
          681.5549926757812,
          661.8280029296875,
          626.1190185546875,
          599.9840087890625,
          584.1580200195312,
          589.4739990234375,
          611.8369750976562,
          628.8179931640625,
          611.9520263671875,
          610.9320068359375,
          615.2369995117188,
          619.8489990234375,
          642.8980102539062,
          661.1290283203125,
          720.4019775390625,
          745.7730102539062,
          740.0460205078125,
          756.2369995117188,
          753.8699951171875,
          781.2960205078125,
          777.0919799804688,
          794.7369995117188,
          925.1170043945312,
          1003.0800170898438,
          1191.0999755859375,
          919.447998046875,
          937.5250244140625,
          928.2659912109375,
          1045.9000244140625,
          1088.989990234375,
          1061.0999755859375,
          1200.3900146484375,
          1280.31005859375,
          1276,
          1257.97998046875,
          1122.4300537109375,
          1107.5899658203125,
          1197.2099609375,
          1208.0699462890625,
          1240.7900390625,
          1347.9100341796875,
          1618.030029296875,
          1873.9300537109375,
          2119.080078125,
          2763.7099609375,
          2585.889892578125,
          2999.909912109375,
          2997.260009765625,
          2772.010009765625,
          2615.25,
          2916.139892578125,
          2537.159912109375,
          2900.699951171875,
          2897.449951171875,
          3293.2900390625,
          4208.39013671875,
          4484.7001953125,
          4455.7001953125,
          4975.0400390625,
          4661,
          4344.64990234375,
          4094.070068359375,
          4403.740234375,
          4624.14013671875,
          5852.47998046875,
          6194.8798828125,
          6255.7099609375,
          7617.47998046875,
          7776.419921875,
          8101.91015625,
          9522.9296875,
          11858.7001953125,
          18353.400390625,
          20089,
          19371,
          16930.900390625,
          17712.400390625,
          16537.900390625,
          14445.5,
          12040.2998046875,
          11875.599609375,
          9122.5498046875,
          11349.7998046875,
          11958.5,
          11528.2001953125,
          11704.099609375,
          9937.5,
          9177.3701171875,
          8530.080078125,
          7530.93994140625,
          8338.419921875,
          9001.6396484375,
          9745.3203125,
          9964.5,
          9665.849609375,
          8881.1201171875,
          8557.51953125,
          7754.89013671875,
          7753.81982421875,
          6910.18017578125,
          6822.5,
          6465.509765625,
          6885.91015625,
          6838.68017578125,
          7594.669921875,
          8424.26953125,
          8235.5,
          7166.5498046875,
          6617.35009765625,
          6816.7900390625,
          7306.31005859375,
          7388.43017578125,
          6596.10009765625,
          6814.56005859375,
          6785.02978515625,
          6653.2998046875,
          6675.06005859375,
          6965.06005859375,
          6543.7998046875,
          6547.14013671875,
          6552.16015625,
          6434.2099609375,
          5620.77978515625,
          4413.0205078125,
          4155.9794921875,
          3647.33251953125,
          4198.4296875,
          4271.79248046875,
          4093.29736328125,
          4109.02099609375,
          3758.533447265625,
          3654.93310546875,
          3586.7509765625,
          3695.614013671875,
          3695.613037109375,
          4210.6416015625,
          3913.707275390625,
          3987.23779296875,
          4077.036376953125,
          4097.35986328125,
          4296.806640625,
          5307.00341796875,
          5421.6513671875,
          5359.9248046875,
          5642.04443359375,
          5886.8935546875,
          7503.8720703125,
          8320.82421875,
          8687.5205078125,
          9008.314453125,
          8743.5,
          9335.8671875,
          11246.14453125,
          13796.4892578125,
          12006.0751953125,
          13129.529296875,
          11052.7666015625,
          10651.791015625,
          11009.20703125,
          12273.8212890625,
          11528.189453125,
          10947.0419921875,
          10512.328125,
          10898.76171875,
          10450.3115234375,
          10386.8671875,
          10074.23828125,
          8497.6923828125,
          8721.7802734375,
          8410.71484375,
          10021.744140625,
          9805.1181640625,
          9505.0517578125,
          9081.279296875,
          8653.2802734375,
          7836.10205078125,
          7743.431640625,
          7618.091796875,
          7518.033203125,
          7656.17626953125,
          7544.4970703125,
          8396.73828125,
          9164.3623046875,
          8792.994140625,
          9553.1259765625,
          10129.435546875,
          10457.626953125,
          10191.67578125,
          9951.74609375,
          9167.6953125,
          8177.79345703125,
          6844.26171875,
          6892.51123046875,
          7088.24755859375,
          7427.939453125,
          7280.52197265625,
          7700.59423828125,
          9440.650390625,
          9996.7431640625,
          9823.001953125,
          9906.0302734375,
          9704.0302734375,
          10199.5654296875,
          9938.2978515625,
          9579.4306640625,
          9680.3671875,
          9309.7548828125,
          9450.3359375,
          9306.4052734375,
          10023.8076171875,
          12034.14453125,
          11902.3359375,
          12150.994140625,
          12359.056640625,
          11807.6318359375,
          12067.0810546875,
          10578.837890625,
          11134.0927734375,
          10988.3046875,
          10949.123046875,
          11442.2109375,
          11569.9140625,
          13329.18359375,
          14028.2138671875,
          15903.4375,
          16463.177734375,
          18936.62109375,
          19390.96484375,
          19845.974609375,
          19411.828125,
          24209.66015625,
          28288.83984375,
          34608.55859375,
          41946.73828125,
          39966.40625,
          37755.890625,
          38406.26171875,
          40846.546875,
          49487.640625,
          58330.5703125,
          57533.390625,
          52535.13671875,
          61683.86328125,
          60540.9921875,
          58471.48046875,
          60267.1875,
          61276.6640625,
          64863.09765625,
          57520.0546875,
          58448.33984375,
          59464.61328125,
          59519.35546875,
          46623.55859375,
          40782.078125,
          39478.953125,
          39322.78125,
          41295.26953125,
          35721.640625,
          36542.109375,
          35284.34375,
          34592.15625,
          35364.92578125,
          42541.6796875,
          45282.3515625,
          48098.68359375,
          49717.01953125,
          50482.078125,
          51868.6796875,
          52853.765625,
          48791.78125,
          47328.19921875,
          49130.69140625,
          56401.3046875,
          62757.12890625,
          66930.390625,
          63729.32421875,
          64242.79296875,
          67673.7421875
         ],
         "low": [
          374.3320007324219,
          289.2959899902344,
          302.55999755859375,
          368.8970031738281,
          342.87701416015625,
          320.6260070800781,
          325.0769958496094,
          357.5610046386719,
          344.11199951171875,
          358.4549865722656,
          365.7560119628906,
          338.76300048828125,
          304.23199462890625,
          311.0780029296875,
          257.61199951171875,
          265.03900146484375,
          171.50999450683594,
          205.1529998779297,
          212.01499938964844,
          214.72500610351562,
          215.33200073242188,
          229.02200317382812,
          232.42100524902344,
          258.31298828125,
          273.89300537109375,
          248.63600158691406,
          236.51499938964844,
          239.21400451660156,
          232.77099609375,
          216.322998046875,
          214.87399291992188,
          218.0229949951172,
          228.572998046875,
          234.0570068359375,
          231.81700134277344,
          229.54200744628906,
          221.29600524902344,
          222.83900451660156,
          233.4219970703125,
          240.36500549316406,
          248.58099365234375,
          264.385986328125,
          272.0429992675781,
          272.9599914550781,
          277.52899169921875,
          260.4679870605469,
          257.0409851074219,
          211.07899475097656,
          199.56700134277344,
          225.9149932861328,
          229.33200073242188,
          227.40199279785156,
          225.11700439453125,
          232.4669952392578,
          237.03500366210938,
          243.7570037841797,
          260.95098876953125,
          280.510009765625,
          323.2090148925781,
          300.99700927734375,
          312.2170104980469,
          316.7699890136719,
          349.4649963378906,
          385.4110107421875,
          430.45599365234375,
          405.760009765625,
          418.4809875488281,
          426.34100341796875,
          354.91400146484375,
          375.2820129394531,
          365.4519958496094,
          367.9570007324219,
          372.89801025390625,
          397.7489929199219,
          413.9070129394531,
          394.0350036621094,
          406.3089904785156,
          406.1369934082031,
          410.3810119628906,
          412.4960021972656,
          416.5150146484375,
          420.5329895019531,
          427.08599853515625,
          436.6499938964844,
          441.7760009765625,
          448.9540100097656,
          437.3890075683594,
          438.822998046875,
          520.6619873046875,
          567.5139770507812,
          662.8040161132812,
          558.1389770507812,
          620.5239868164062,
          611.833984375,
          644.97998046875,
          646.7219848632812,
          624.364990234375,
          531.333984375,
          564.781005859375,
          563.239990234375,
          568.6300048828125,
          570.8109741210938,
          600.5059814453125,
          605.1920166015625,
          595.7860107421875,
          600.3489990234375,
          609.47900390625,
          616.197021484375,
          628.0130004882812,
          652.594970703125,
          678.156005859375,
          687.3150024414062,
          699.8079833984375,
          729.625,
          732.4840087890625,
          751.7130126953125,
          770.0399780273438,
          790.3200073242188,
          896.8980102539062,
          823.5560302734375,
          755.7559814453125,
          820.27099609375,
          891.68701171875,
          919.4739990234375,
          946.6909790039062,
          976.0020141601562,
          1041.68994140625,
          1163.3800048828125,
          1077.25,
          957.655029296875,
          903.7130126953125,
          971.9840087890625,
          1102.949951171875,
          1156.43994140625,
          1172.6500244140625,
          1209.6300048828125,
          1348.300048828125,
          1596.9200439453125,
          1661.9100341796875,
          1855.8299560546875,
          2107.169921875,
          2510.219970703125,
          2212.9599609375,
          2549.030029296875,
          2332.989990234375,
          2480.469970703125,
          1843.030029296875,
          1932.6199951171875,
          2450.800048828125,
          2668.590087890625,
          3180.889892578125,
          3906.179931640625,
          3674.580078125,
          4224.64013671875,
          3951.0400390625,
          2946.6201171875,
          3553.530029296875,
          3681.580078125,
          4164.0498046875,
          4564.25,
          5151.43994140625,
          5397.8798828125,
          6040.85009765625,
          5519.009765625,
          5844.2900390625,
          7762.7099609375,
          9202.0498046875,
          11081.7998046875,
          15404.7998046875,
          11833,
          12350.099609375,
          13154.7001953125,
          13105.900390625,
          9402.2900390625,
          10129.7001953125,
          7796.490234375,
          6048.259765625,
          8141.43017578125,
          9407.0595703125,
          9501.73046875,
          8513.0302734375,
          7397.990234375,
          8182.39990234375,
          6526.8701171875,
          6575,
          6661.990234375,
          7881.72021484375,
          8727.08984375,
          8891.0498046875,
          8223.5,
          7974.81982421875,
          7270.9599609375,
          7090.68017578125,
          6709.06982421875,
          6285.6298828125,
          5826.41015625,
          5835.75,
          6305.7001953125,
          6136.419921875,
          6357.009765625,
          7409.10009765625,
          6940.7001953125,
          6109.02978515625,
          5971.0498046875,
          6297.93017578125,
          6689.7099609375,
          6197.52001953125,
          6260.2099609375,
          6208.33984375,
          6381.85986328125,
          6454.02978515625,
          6236.47021484375,
          6258.68017578125,
          6447.02978515625,
          6294.56982421875,
          6350.169921875,
          5358.3798828125,
          3585.06005859375,
          3643.919921875,
          3280.228759765625,
          3191.303466796875,
          3253.123046875,
          3642.632080078125,
          3707.231201171875,
          3544.92724609375,
          3552.28515625,
          3539.721435546875,
          3400.81982421875,
          3391.023681640625,
          3607.69775390625,
          3669.982421875,
          3787.058837890625,
          3733.749755859375,
          3863.55908203125,
          4005.1513671875,
          3934.03125,
          4096.9013671875,
          4955.8525390625,
          5024.0693359375,
          5177.36865234375,
          5216.48779296875,
          5653.6875,
          6898.2822265625,
          7533.19677734375,
          8172.55078125,
          7564.48876953125,
          7586.73095703125,
          8988.923828125,
          10491.8525390625,
          9737.884765625,
          10234.576171875,
          9163.134765625,
          9252.296875,
          9437.3359375,
          10960.7353515625,
          9675.31640625,
          9831.462890625,
          9421.6298828125,
          9730.650390625,
          9980.7763671875,
          9851.6923828125,
          7895.62939453125,
          7830.7587890625,
          7905.76611328125,
          7902.1640625,
          7446.98876953125,
          9028.7177734375,
          8775.5341796875,
          8473.9736328125,
          6936.70654296875,
          6617.1669921875,
          7170.9228515625,
          6924.3759765625,
          6540.04931640625,
          7189.93408203125,
          6914.99609375,
          7409.29296875,
          8079.70068359375,
          8266.8408203125,
          8597.30859375,
          9112.8115234375,
          9722.38671875,
          9507.6376953125,
          8471.212890625,
          8105.2529296875,
          4106.98095703125,
          4575.35791015625,
          5785.00439453125,
          5903.234375,
          6782.8896484375,
          6555.50439453125,
          6834.4423828125,
          7679.4189453125,
          8395.107421875,
          8374.3232421875,
          8787.2509765625,
          8719.66796875,
          9450.8994140625,
          9263.0693359375,
          8990.17578125,
          8975.525390625,
          8977.015625,
          9058.6640625,
          9088.947265625,
          9137.509765625,
          9903.9697265625,
          11012.4150390625,
          11195.708984375,
          11448.8056640625,
          11185.94140625,
          9946.67578125,
          9916.4931640625,
          10266.0087890625,
          10185.7744140625,
          10440.3115234375,
          10565.197265625,
          11223.0126953125,
          11408.2900390625,
          12822.3828125,
          13243.16015625,
          14865.529296875,
          15880.7060546875,
          16351.03515625,
          18178.322265625,
          17619.533203125,
          19012.708984375,
          22159.3671875,
          25987.298828125,
          28722.755859375,
          30549.599609375,
          28953.373046875,
          29367.138671875,
          32384.228515625,
          38076.32421875,
          46347.4765625,
          43241.6171875,
          45115.09375,
          49506.0546875,
          53555.02734375,
          50856.5703125,
          55139.33984375,
          55604.0234375,
          52829.53515625,
          47159.484375,
          48852.796875,
          52969.0546875,
          43963.3515625,
          30681.49609375,
          33520.73828125,
          34241.9453125,
          31114.443359375,
          33432.07421875,
          28893.62109375,
          32770.6796875,
          32133.18359375,
          31100.673828125,
          29360.955078125,
          35287.3125,
          37458.00390625,
          42848.6875,
          43998.31640625,
          46394.28125,
          46562.4375,
          43285.20703125,
          43591.3203125,
          39787.609375,
          40829.66796875,
          47045.00390625,
          54370.97265625,
          59643.34375,
          58206.91796875,
          59695.18359375,
          63344.06640625
         ],
         "open": [
          399.1000061035156,
          376.9280090332031,
          320.3890075683594,
          377.9209899902344,
          389.2309875488281,
          354.7770080566406,
          325.5690002441406,
          362.2650146484375,
          388.3489990234375,
          366.947998046875,
          378.2489929199219,
          374.9649963378906,
          351.3609924316406,
          321.0679931640625,
          317.70098876953125,
          265.0840148925781,
          266.14599609375,
          211.4709930419922,
          254.07899475097656,
          226.49099731445312,
          223.38900756835938,
          234.8249969482422,
          235.9949951171875,
          260.35699462890625,
          274.81201171875,
          285.68499755859375,
          267.8949890136719,
          242.87899780273438,
          260.72100830078125,
          235.9499969482422,
          222.61199951171875,
          219.4290008544922,
          240.3560028076172,
          240.2989959716797,
          236.88699340820312,
          240.927001953125,
          230.23300170898438,
          222.87899780273438,
          233.4219970703125,
          243.968994140625,
          248.7209930419922,
          271.1080017089844,
          310.8269958496094,
          273.4989929199219,
          292.6390075683594,
          282.8059997558594,
          265.4779968261719,
          258.489990234375,
          228.11199951171875,
          229.11399841308594,
          239.9340057373047,
          230.60899353027344,
          231.2169952392578,
          232.83599853515625,
          238.14700317382812,
          246.875,
          261.8609924316406,
          283.62799072265625,
          325.9419860839844,
          374.3240051269531,
          319.7349853515625,
          324.3500061035156,
          371.43701171875,
          389.9779968261719,
          433.2720031738281,
          442.8380126953125,
          423.3429870605469,
          430.0610046386719,
          448.697998046875,
          381.7330017089844,
          402.3169860839844,
          369.3500061035156,
          376.7569885253906,
          407.5679931640625,
          438.989013671875,
          433.43798828125,
          407.7569885253906,
          414.20098876953125,
          413.4179992675781,
          426.5480041503906,
          421.29901123046875,
          421.87200927734375,
          427.6109924316406,
          459.1210021972656,
          451.9330139160156,
          458.20599365234375,
          457.58599853515625,
          439.3479919433594,
          528.4710083007812,
          574.6019897460938,
          671.6539916992188,
          763.927001953125,
          629.3489990234375,
          658.8040161132812,
          648.4840087890625,
          679.8090209960938,
          661.2630004882812,
          624.6019897460938,
          592.7360229492188,
          570.4940185546875,
          581.3109741210938,
          574.0709838867188,
          608.989990234375,
          607.0050048828125,
          609.8709716796875,
          600.8070068359375,
          610.968017578125,
          616.822021484375,
          641.8179931640625,
          657.1610107421875,
          702.6400146484375,
          710.7360229492188,
          701.9970092773438,
          731.2650146484375,
          732.4840087890625,
          773.3939819335938,
          770.0399780273438,
          790.6920166015625,
          896.905029296875,
          998.6170043945312,
          913.2440185546875,
          821.7830200195312,
          925.4990234375,
          920.1510009765625,
          1028.4000244140625,
          998.885009765625,
          1048.68994140625,
          1163.780029296875,
          1267.469970703125,
          1221.780029296875,
          1037.239990234375,
          972.0549926757812,
          1102.949951171875,
          1187.300048828125,
          1183.25,
          1209.6300048828125,
          1348.300048828125,
          1596.9200439453125,
          1808.43994140625,
          2043.18994140625,
          2159.429931640625,
          2512.39990234375,
          2953.219970703125,
          2549.030029296875,
          2590.570068359375,
          2498.56005859375,
          2525.25,
          1932.6199951171875,
          2732.699951171875,
          2763.239990234375,
          3212.780029296875,
          4066.10009765625,
          4090.47998046875,
          4384.4501953125,
          4591.6298828125,
          4122.47021484375,
          3591.090087890625,
          3681.580078125,
          4395.81005859375,
          4614.52001953125,
          5687.56982421875,
          6006,
          6114.85009765625,
          7403.22021484375,
          5938.25,
          8039.06982421875,
          9352.7197265625,
          11315.400390625,
          15427.400390625,
          19106.400390625,
          13995.900390625,
          14112.2001953125,
          16476.19921875,
          13767.2998046875,
          11633.099609375,
          11755.5,
          8270.5400390625,
          8141.43017578125,
          10552.599609375,
          9669.4296875,
          11532.400390625,
          9602.9296875,
          8344.1201171875,
          8498.4697265625,
          6844.85986328125,
          7044.31982421875,
          8337.5703125,
          8794.3896484375,
          9426.1103515625,
          9645.669921875,
          8713.099609375,
          8522.330078125,
          7371.31005859375,
          7722.52978515625,
          6799.2900390625,
          6510.06982421875,
          6171.97021484375,
          6380.3798828125,
          6775.080078125,
          6357.009765625,
          7414.7099609375,
          8221.580078125,
          7062.93994140625,
          6341.35986328125,
          6500.509765625,
          6710.7998046875,
          7279.02978515625,
          6301.56982421875,
          6514.06005859375,
          6704.77001953125,
          6619.85009765625,
          6600.18994140625,
          6292.64013671875,
          6486.0498046875,
          6492.35009765625,
          6363.6201171875,
          6411.759765625,
          5620.77978515625,
          4015.070068359375,
          4147.32373046875,
          3612.04638671875,
          3253.123046875,
          4000.331787109375,
          3866.839111328125,
          4078.5849609375,
          3557.31103515625,
          3600.372802734375,
          3584.283203125,
          3467.211669921875,
          3695.613037109375,
          3671.369873046875,
          3807.00244140625,
          3845.091552734375,
          3953.740234375,
          4029.968505859375,
          4024.11279296875,
          4105.3623046875,
          5199.83544921875,
          5167.32177734375,
          5312.49462890625,
          5284.8583984375,
          5791.693359375,
          6971.17822265625,
          8196.923828125,
          8674.072265625,
          8741.7470703125,
          7692.28466796875,
          8988.923828125,
          10853.744140625,
          10796.9306640625,
          11446.5966796875,
          10257.8388671875,
          10596.9482421875,
          9548.1787109375,
          10960.7353515625,
          11528.189453125,
          10350.283203125,
          10126.2998046875,
          9757.4736328125,
          10443.228515625,
          10347.22265625,
          10067.962890625,
          8104.2265625,
          7989.12060546875,
          8320.83203125,
          8225.115234375,
          9565.1015625,
          9235.607421875,
          9056.91796875,
          8573.98046875,
          7039.97705078125,
          7424.0361328125,
          7561.79541015625,
          7153.6630859375,
          7508.90234375,
          7420.27294921875,
          7410.4521484375,
          8189.77197265625,
          8704.6318359375,
          8597.30859375,
          9344.68359375,
          10115.5595703125,
          9936.560546875,
          9921.5830078125,
          8563.2646484375,
          8111.146484375,
          5385.2294921875,
          5831.37451171875,
          5925.53857421875,
          6788.0498046875,
          6965.61669921875,
          7186.87353515625,
          7679.4189453125,
          8895.7451171875,
          8755.53515625,
          9675.6953125,
          8786.107421875,
          9463.60546875,
          9760.0634765625,
          9386.03515625,
          9300.9150390625,
          9140.029296875,
          9072.849609375,
          9277.205078125,
          9187.220703125,
          9905.2177734375,
          11043.7685546875,
          11662.2568359375,
          11895.658203125,
          11663.689453125,
          11713.306640625,
          10280.998046875,
          10328.734375,
          10934.92578125,
          10771.6416015625,
          10688.0341796875,
          11429.0478515625,
          11495.0380859375,
          13031.201171875,
          13737.0322265625,
          15479.595703125,
          15955.5771484375,
          18370.017578125,
          18178.322265625,
          19343.12890625,
          19144.4921875,
          23474.455078125,
          26280.822265625,
          32810.94921875,
          38346.53125,
          35792.23828125,
          32285.798828125,
          33114.578125,
          38886.828125,
          48696.53515625,
          57532.73828125,
          45159.50390625,
          51174.1171875,
          59267.4296875,
          57517.890625,
          55947.8984375,
          58760.875,
          60175.9453125,
          56191.5859375,
          49077.79296875,
          56620.2734375,
          58250.87109375,
          46415.8984375,
          34700.36328125,
          35658.59375,
          35835.265625,
          39016.96875,
          35641.14453125,
          34679.12109375,
          35284.34375,
          34254.015625,
          31800.01171875,
          35384.03125,
          39907.26171875,
          43791.92578125,
          47019.9609375,
          49291.67578125,
          48834.8515625,
          51769.00390625,
          46057.21484375,
          47261.40625,
          43234.18359375,
          48208.90625,
          54734.125,
          61548.8046875,
          60893.92578125,
          61320.44921875,
          63344.06640625
         ],
         "type": "candlestick",
         "x": [
          "2014-09-22T00:00:00",
          "2014-09-29T00:00:00",
          "2014-10-06T00:00:00",
          "2014-10-13T00:00:00",
          "2014-10-20T00:00:00",
          "2014-10-27T00:00:00",
          "2014-11-03T00:00:00",
          "2014-11-10T00:00:00",
          "2014-11-17T00:00:00",
          "2014-11-24T00:00:00",
          "2014-12-01T00:00:00",
          "2014-12-08T00:00:00",
          "2014-12-15T00:00:00",
          "2014-12-22T00:00:00",
          "2014-12-29T00:00:00",
          "2015-01-05T00:00:00",
          "2015-01-12T00:00:00",
          "2015-01-19T00:00:00",
          "2015-01-26T00:00:00",
          "2015-02-02T00:00:00",
          "2015-02-09T00:00:00",
          "2015-02-16T00:00:00",
          "2015-02-23T00:00:00",
          "2015-03-02T00:00:00",
          "2015-03-09T00:00:00",
          "2015-03-16T00:00:00",
          "2015-03-23T00:00:00",
          "2015-03-30T00:00:00",
          "2015-04-06T00:00:00",
          "2015-04-13T00:00:00",
          "2015-04-20T00:00:00",
          "2015-04-27T00:00:00",
          "2015-05-04T00:00:00",
          "2015-05-11T00:00:00",
          "2015-05-18T00:00:00",
          "2015-05-25T00:00:00",
          "2015-06-01T00:00:00",
          "2015-06-08T00:00:00",
          "2015-06-15T00:00:00",
          "2015-06-22T00:00:00",
          "2015-06-29T00:00:00",
          "2015-07-06T00:00:00",
          "2015-07-13T00:00:00",
          "2015-07-20T00:00:00",
          "2015-07-27T00:00:00",
          "2015-08-03T00:00:00",
          "2015-08-10T00:00:00",
          "2015-08-17T00:00:00",
          "2015-08-24T00:00:00",
          "2015-08-31T00:00:00",
          "2015-09-07T00:00:00",
          "2015-09-14T00:00:00",
          "2015-09-21T00:00:00",
          "2015-09-28T00:00:00",
          "2015-10-05T00:00:00",
          "2015-10-12T00:00:00",
          "2015-10-19T00:00:00",
          "2015-10-26T00:00:00",
          "2015-11-02T00:00:00",
          "2015-11-09T00:00:00",
          "2015-11-16T00:00:00",
          "2015-11-23T00:00:00",
          "2015-11-30T00:00:00",
          "2015-12-07T00:00:00",
          "2015-12-14T00:00:00",
          "2015-12-21T00:00:00",
          "2015-12-28T00:00:00",
          "2016-01-04T00:00:00",
          "2016-01-11T00:00:00",
          "2016-01-18T00:00:00",
          "2016-01-25T00:00:00",
          "2016-02-01T00:00:00",
          "2016-02-08T00:00:00",
          "2016-02-15T00:00:00",
          "2016-02-22T00:00:00",
          "2016-02-29T00:00:00",
          "2016-03-07T00:00:00",
          "2016-03-14T00:00:00",
          "2016-03-21T00:00:00",
          "2016-03-28T00:00:00",
          "2016-04-04T00:00:00",
          "2016-04-11T00:00:00",
          "2016-04-18T00:00:00",
          "2016-04-25T00:00:00",
          "2016-05-02T00:00:00",
          "2016-05-09T00:00:00",
          "2016-05-16T00:00:00",
          "2016-05-23T00:00:00",
          "2016-05-30T00:00:00",
          "2016-06-06T00:00:00",
          "2016-06-13T00:00:00",
          "2016-06-20T00:00:00",
          "2016-06-27T00:00:00",
          "2016-07-04T00:00:00",
          "2016-07-11T00:00:00",
          "2016-07-18T00:00:00",
          "2016-07-25T00:00:00",
          "2016-08-01T00:00:00",
          "2016-08-08T00:00:00",
          "2016-08-15T00:00:00",
          "2016-08-22T00:00:00",
          "2016-08-29T00:00:00",
          "2016-09-05T00:00:00",
          "2016-09-12T00:00:00",
          "2016-09-19T00:00:00",
          "2016-09-26T00:00:00",
          "2016-10-03T00:00:00",
          "2016-10-10T00:00:00",
          "2016-10-17T00:00:00",
          "2016-10-24T00:00:00",
          "2016-10-31T00:00:00",
          "2016-11-07T00:00:00",
          "2016-11-14T00:00:00",
          "2016-11-21T00:00:00",
          "2016-11-28T00:00:00",
          "2016-12-05T00:00:00",
          "2016-12-12T00:00:00",
          "2016-12-19T00:00:00",
          "2016-12-26T00:00:00",
          "2017-01-02T00:00:00",
          "2017-01-09T00:00:00",
          "2017-01-16T00:00:00",
          "2017-01-23T00:00:00",
          "2017-01-30T00:00:00",
          "2017-02-06T00:00:00",
          "2017-02-13T00:00:00",
          "2017-02-20T00:00:00",
          "2017-02-27T00:00:00",
          "2017-03-06T00:00:00",
          "2017-03-13T00:00:00",
          "2017-03-20T00:00:00",
          "2017-03-27T00:00:00",
          "2017-04-03T00:00:00",
          "2017-04-10T00:00:00",
          "2017-04-17T00:00:00",
          "2017-04-24T00:00:00",
          "2017-05-01T00:00:00",
          "2017-05-08T00:00:00",
          "2017-05-15T00:00:00",
          "2017-05-22T00:00:00",
          "2017-05-29T00:00:00",
          "2017-06-05T00:00:00",
          "2017-06-12T00:00:00",
          "2017-06-19T00:00:00",
          "2017-06-26T00:00:00",
          "2017-07-03T00:00:00",
          "2017-07-10T00:00:00",
          "2017-07-17T00:00:00",
          "2017-07-24T00:00:00",
          "2017-07-31T00:00:00",
          "2017-08-07T00:00:00",
          "2017-08-14T00:00:00",
          "2017-08-21T00:00:00",
          "2017-08-28T00:00:00",
          "2017-09-04T00:00:00",
          "2017-09-11T00:00:00",
          "2017-09-18T00:00:00",
          "2017-09-25T00:00:00",
          "2017-10-02T00:00:00",
          "2017-10-09T00:00:00",
          "2017-10-16T00:00:00",
          "2017-10-23T00:00:00",
          "2017-10-30T00:00:00",
          "2017-11-06T00:00:00",
          "2017-11-13T00:00:00",
          "2017-11-20T00:00:00",
          "2017-11-27T00:00:00",
          "2017-12-04T00:00:00",
          "2017-12-11T00:00:00",
          "2017-12-18T00:00:00",
          "2017-12-25T00:00:00",
          "2018-01-01T00:00:00",
          "2018-01-08T00:00:00",
          "2018-01-15T00:00:00",
          "2018-01-22T00:00:00",
          "2018-01-29T00:00:00",
          "2018-02-05T00:00:00",
          "2018-02-12T00:00:00",
          "2018-02-19T00:00:00",
          "2018-02-26T00:00:00",
          "2018-03-05T00:00:00",
          "2018-03-12T00:00:00",
          "2018-03-19T00:00:00",
          "2018-03-26T00:00:00",
          "2018-04-02T00:00:00",
          "2018-04-09T00:00:00",
          "2018-04-16T00:00:00",
          "2018-04-23T00:00:00",
          "2018-04-30T00:00:00",
          "2018-05-07T00:00:00",
          "2018-05-14T00:00:00",
          "2018-05-21T00:00:00",
          "2018-05-28T00:00:00",
          "2018-06-04T00:00:00",
          "2018-06-11T00:00:00",
          "2018-06-18T00:00:00",
          "2018-06-25T00:00:00",
          "2018-07-02T00:00:00",
          "2018-07-09T00:00:00",
          "2018-07-16T00:00:00",
          "2018-07-23T00:00:00",
          "2018-07-30T00:00:00",
          "2018-08-06T00:00:00",
          "2018-08-13T00:00:00",
          "2018-08-20T00:00:00",
          "2018-08-27T00:00:00",
          "2018-09-03T00:00:00",
          "2018-09-10T00:00:00",
          "2018-09-17T00:00:00",
          "2018-09-24T00:00:00",
          "2018-10-01T00:00:00",
          "2018-10-08T00:00:00",
          "2018-10-15T00:00:00",
          "2018-10-22T00:00:00",
          "2018-10-29T00:00:00",
          "2018-11-05T00:00:00",
          "2018-11-12T00:00:00",
          "2018-11-19T00:00:00",
          "2018-11-26T00:00:00",
          "2018-12-03T00:00:00",
          "2018-12-10T00:00:00",
          "2018-12-17T00:00:00",
          "2018-12-24T00:00:00",
          "2018-12-31T00:00:00",
          "2019-01-07T00:00:00",
          "2019-01-14T00:00:00",
          "2019-01-21T00:00:00",
          "2019-01-28T00:00:00",
          "2019-02-04T00:00:00",
          "2019-02-11T00:00:00",
          "2019-02-18T00:00:00",
          "2019-02-25T00:00:00",
          "2019-03-04T00:00:00",
          "2019-03-11T00:00:00",
          "2019-03-18T00:00:00",
          "2019-03-25T00:00:00",
          "2019-04-01T00:00:00",
          "2019-04-08T00:00:00",
          "2019-04-15T00:00:00",
          "2019-04-22T00:00:00",
          "2019-04-29T00:00:00",
          "2019-05-06T00:00:00",
          "2019-05-13T00:00:00",
          "2019-05-20T00:00:00",
          "2019-05-27T00:00:00",
          "2019-06-03T00:00:00",
          "2019-06-10T00:00:00",
          "2019-06-17T00:00:00",
          "2019-06-24T00:00:00",
          "2019-07-01T00:00:00",
          "2019-07-08T00:00:00",
          "2019-07-15T00:00:00",
          "2019-07-22T00:00:00",
          "2019-07-29T00:00:00",
          "2019-08-05T00:00:00",
          "2019-08-12T00:00:00",
          "2019-08-19T00:00:00",
          "2019-08-26T00:00:00",
          "2019-09-02T00:00:00",
          "2019-09-09T00:00:00",
          "2019-09-16T00:00:00",
          "2019-09-23T00:00:00",
          "2019-09-30T00:00:00",
          "2019-10-07T00:00:00",
          "2019-10-14T00:00:00",
          "2019-10-21T00:00:00",
          "2019-10-28T00:00:00",
          "2019-11-04T00:00:00",
          "2019-11-11T00:00:00",
          "2019-11-18T00:00:00",
          "2019-11-25T00:00:00",
          "2019-12-02T00:00:00",
          "2019-12-09T00:00:00",
          "2019-12-16T00:00:00",
          "2019-12-23T00:00:00",
          "2019-12-30T00:00:00",
          "2020-01-06T00:00:00",
          "2020-01-13T00:00:00",
          "2020-01-20T00:00:00",
          "2020-01-27T00:00:00",
          "2020-02-03T00:00:00",
          "2020-02-10T00:00:00",
          "2020-02-17T00:00:00",
          "2020-02-24T00:00:00",
          "2020-03-02T00:00:00",
          "2020-03-09T00:00:00",
          "2020-03-16T00:00:00",
          "2020-03-23T00:00:00",
          "2020-03-30T00:00:00",
          "2020-04-06T00:00:00",
          "2020-04-13T00:00:00",
          "2020-04-20T00:00:00",
          "2020-04-27T00:00:00",
          "2020-05-04T00:00:00",
          "2020-05-11T00:00:00",
          "2020-05-18T00:00:00",
          "2020-05-25T00:00:00",
          "2020-06-01T00:00:00",
          "2020-06-08T00:00:00",
          "2020-06-15T00:00:00",
          "2020-06-22T00:00:00",
          "2020-06-29T00:00:00",
          "2020-07-06T00:00:00",
          "2020-07-13T00:00:00",
          "2020-07-20T00:00:00",
          "2020-07-27T00:00:00",
          "2020-08-03T00:00:00",
          "2020-08-10T00:00:00",
          "2020-08-17T00:00:00",
          "2020-08-24T00:00:00",
          "2020-08-31T00:00:00",
          "2020-09-07T00:00:00",
          "2020-09-14T00:00:00",
          "2020-09-21T00:00:00",
          "2020-09-28T00:00:00",
          "2020-10-05T00:00:00",
          "2020-10-12T00:00:00",
          "2020-10-19T00:00:00",
          "2020-10-26T00:00:00",
          "2020-11-02T00:00:00",
          "2020-11-09T00:00:00",
          "2020-11-16T00:00:00",
          "2020-11-23T00:00:00",
          "2020-11-30T00:00:00",
          "2020-12-07T00:00:00",
          "2020-12-14T00:00:00",
          "2020-12-21T00:00:00",
          "2020-12-28T00:00:00",
          "2021-01-04T00:00:00",
          "2021-01-11T00:00:00",
          "2021-01-18T00:00:00",
          "2021-01-25T00:00:00",
          "2021-02-01T00:00:00",
          "2021-02-08T00:00:00",
          "2021-02-15T00:00:00",
          "2021-02-22T00:00:00",
          "2021-03-01T00:00:00",
          "2021-03-08T00:00:00",
          "2021-03-15T00:00:00",
          "2021-03-22T00:00:00",
          "2021-03-29T00:00:00",
          "2021-04-05T00:00:00",
          "2021-04-12T00:00:00",
          "2021-04-19T00:00:00",
          "2021-04-26T00:00:00",
          "2021-05-03T00:00:00",
          "2021-05-10T00:00:00",
          "2021-05-17T00:00:00",
          "2021-05-24T00:00:00",
          "2021-05-31T00:00:00",
          "2021-06-07T00:00:00",
          "2021-06-14T00:00:00",
          "2021-06-21T00:00:00",
          "2021-06-28T00:00:00",
          "2021-07-05T00:00:00",
          "2021-07-12T00:00:00",
          "2021-07-19T00:00:00",
          "2021-07-26T00:00:00",
          "2021-08-02T00:00:00",
          "2021-08-09T00:00:00",
          "2021-08-16T00:00:00",
          "2021-08-23T00:00:00",
          "2021-08-30T00:00:00",
          "2021-09-06T00:00:00",
          "2021-09-13T00:00:00",
          "2021-09-20T00:00:00",
          "2021-09-27T00:00:00",
          "2021-10-04T00:00:00",
          "2021-10-11T00:00:00",
          "2021-10-18T00:00:00",
          "2021-10-25T00:00:00",
          "2021-11-01T00:00:00",
          "2021-11-08T00:00:00"
         ]
        }
       ],
       "layout": {
        "annotations": [
         {
          "arrowhead": 2,
          "arrowwidth": 1.5,
          "bgcolor": "rgb(242,242,242,0.95)",
          "bordercolor": "rgb(50,55,60,0.40)",
          "borderpad": 4,
          "borderwidth": 1.5,
          "font": {
           "family": "monospace",
           "size": 9.5
          },
          "showarrow": true,
          "text": "Bitcoin bubble crash, and hacking attacks in Korea and Japan",
          "x": "2017-12-11",
          "xref": "x",
          "y": "20000",
          "yref": "y"
         },
         {
          "arrowhead": 2,
          "arrowwidth": 1.5,
          "ax": -20,
          "bgcolor": "rgb(242,242,242,0.95)",
          "bordercolor": "rgb(50,55,60,0.40)",
          "borderpad": 4,
          "borderwidth": 1.5,
          "font": {
           "family": "monospace",
           "size": 9.5
          },
          "showarrow": true,
          "startarrowsize": 5,
          "text": "Tesla and China against btc, enviroment concerns, cryptocurrency tax bill USA",
          "x": "2021-04",
          "xref": "x",
          "y": "60000",
          "yref": "y"
         },
         {
          "align": "right",
          "arrowhead": 2,
          "arrowwidth": 1.5,
          "ax": 10,
          "ay": 100,
          "bgcolor": "rgb(242,242,242,0.95)",
          "bordercolor": "rgb(50,55,60,0.40)",
          "borderpad": 4,
          "borderwidth": 1.5,
          "font": {
           "family": "monospace",
           "size": 9.5
          },
          "showarrow": true,
          "text": "China banned criptocurrencies",
          "x": "2021-09",
          "xref": "x",
          "y": "45000",
          "yref": "y"
         }
        ],
        "hovermode": "closest",
        "template": {
         "data": {
          "bar": [
           {
            "error_x": {
             "color": "#2a3f5f"
            },
            "error_y": {
             "color": "#2a3f5f"
            },
            "marker": {
             "line": {
              "color": "#E5ECF6",
              "width": 0.5
             },
             "pattern": {
              "fillmode": "overlay",
              "size": 10,
              "solidity": 0.2
             }
            },
            "type": "bar"
           }
          ],
          "barpolar": [
           {
            "marker": {
             "line": {
              "color": "#E5ECF6",
              "width": 0.5
             },
             "pattern": {
              "fillmode": "overlay",
              "size": 10,
              "solidity": 0.2
             }
            },
            "type": "barpolar"
           }
          ],
          "carpet": [
           {
            "aaxis": {
             "endlinecolor": "#2a3f5f",
             "gridcolor": "white",
             "linecolor": "white",
             "minorgridcolor": "white",
             "startlinecolor": "#2a3f5f"
            },
            "baxis": {
             "endlinecolor": "#2a3f5f",
             "gridcolor": "white",
             "linecolor": "white",
             "minorgridcolor": "white",
             "startlinecolor": "#2a3f5f"
            },
            "type": "carpet"
           }
          ],
          "choropleth": [
           {
            "colorbar": {
             "outlinewidth": 0,
             "ticks": ""
            },
            "type": "choropleth"
           }
          ],
          "contour": [
           {
            "colorbar": {
             "outlinewidth": 0,
             "ticks": ""
            },
            "colorscale": [
             [
              0,
              "#0d0887"
             ],
             [
              0.1111111111111111,
              "#46039f"
             ],
             [
              0.2222222222222222,
              "#7201a8"
             ],
             [
              0.3333333333333333,
              "#9c179e"
             ],
             [
              0.4444444444444444,
              "#bd3786"
             ],
             [
              0.5555555555555556,
              "#d8576b"
             ],
             [
              0.6666666666666666,
              "#ed7953"
             ],
             [
              0.7777777777777778,
              "#fb9f3a"
             ],
             [
              0.8888888888888888,
              "#fdca26"
             ],
             [
              1,
              "#f0f921"
             ]
            ],
            "type": "contour"
           }
          ],
          "contourcarpet": [
           {
            "colorbar": {
             "outlinewidth": 0,
             "ticks": ""
            },
            "type": "contourcarpet"
           }
          ],
          "heatmap": [
           {
            "colorbar": {
             "outlinewidth": 0,
             "ticks": ""
            },
            "colorscale": [
             [
              0,
              "#0d0887"
             ],
             [
              0.1111111111111111,
              "#46039f"
             ],
             [
              0.2222222222222222,
              "#7201a8"
             ],
             [
              0.3333333333333333,
              "#9c179e"
             ],
             [
              0.4444444444444444,
              "#bd3786"
             ],
             [
              0.5555555555555556,
              "#d8576b"
             ],
             [
              0.6666666666666666,
              "#ed7953"
             ],
             [
              0.7777777777777778,
              "#fb9f3a"
             ],
             [
              0.8888888888888888,
              "#fdca26"
             ],
             [
              1,
              "#f0f921"
             ]
            ],
            "type": "heatmap"
           }
          ],
          "heatmapgl": [
           {
            "colorbar": {
             "outlinewidth": 0,
             "ticks": ""
            },
            "colorscale": [
             [
              0,
              "#0d0887"
             ],
             [
              0.1111111111111111,
              "#46039f"
             ],
             [
              0.2222222222222222,
              "#7201a8"
             ],
             [
              0.3333333333333333,
              "#9c179e"
             ],
             [
              0.4444444444444444,
              "#bd3786"
             ],
             [
              0.5555555555555556,
              "#d8576b"
             ],
             [
              0.6666666666666666,
              "#ed7953"
             ],
             [
              0.7777777777777778,
              "#fb9f3a"
             ],
             [
              0.8888888888888888,
              "#fdca26"
             ],
             [
              1,
              "#f0f921"
             ]
            ],
            "type": "heatmapgl"
           }
          ],
          "histogram": [
           {
            "marker": {
             "pattern": {
              "fillmode": "overlay",
              "size": 10,
              "solidity": 0.2
             }
            },
            "type": "histogram"
           }
          ],
          "histogram2d": [
           {
            "colorbar": {
             "outlinewidth": 0,
             "ticks": ""
            },
            "colorscale": [
             [
              0,
              "#0d0887"
             ],
             [
              0.1111111111111111,
              "#46039f"
             ],
             [
              0.2222222222222222,
              "#7201a8"
             ],
             [
              0.3333333333333333,
              "#9c179e"
             ],
             [
              0.4444444444444444,
              "#bd3786"
             ],
             [
              0.5555555555555556,
              "#d8576b"
             ],
             [
              0.6666666666666666,
              "#ed7953"
             ],
             [
              0.7777777777777778,
              "#fb9f3a"
             ],
             [
              0.8888888888888888,
              "#fdca26"
             ],
             [
              1,
              "#f0f921"
             ]
            ],
            "type": "histogram2d"
           }
          ],
          "histogram2dcontour": [
           {
            "colorbar": {
             "outlinewidth": 0,
             "ticks": ""
            },
            "colorscale": [
             [
              0,
              "#0d0887"
             ],
             [
              0.1111111111111111,
              "#46039f"
             ],
             [
              0.2222222222222222,
              "#7201a8"
             ],
             [
              0.3333333333333333,
              "#9c179e"
             ],
             [
              0.4444444444444444,
              "#bd3786"
             ],
             [
              0.5555555555555556,
              "#d8576b"
             ],
             [
              0.6666666666666666,
              "#ed7953"
             ],
             [
              0.7777777777777778,
              "#fb9f3a"
             ],
             [
              0.8888888888888888,
              "#fdca26"
             ],
             [
              1,
              "#f0f921"
             ]
            ],
            "type": "histogram2dcontour"
           }
          ],
          "mesh3d": [
           {
            "colorbar": {
             "outlinewidth": 0,
             "ticks": ""
            },
            "type": "mesh3d"
           }
          ],
          "parcoords": [
           {
            "line": {
             "colorbar": {
              "outlinewidth": 0,
              "ticks": ""
             }
            },
            "type": "parcoords"
           }
          ],
          "pie": [
           {
            "automargin": true,
            "type": "pie"
           }
          ],
          "scatter": [
           {
            "marker": {
             "colorbar": {
              "outlinewidth": 0,
              "ticks": ""
             }
            },
            "type": "scatter"
           }
          ],
          "scatter3d": [
           {
            "line": {
             "colorbar": {
              "outlinewidth": 0,
              "ticks": ""
             }
            },
            "marker": {
             "colorbar": {
              "outlinewidth": 0,
              "ticks": ""
             }
            },
            "type": "scatter3d"
           }
          ],
          "scattercarpet": [
           {
            "marker": {
             "colorbar": {
              "outlinewidth": 0,
              "ticks": ""
             }
            },
            "type": "scattercarpet"
           }
          ],
          "scattergeo": [
           {
            "marker": {
             "colorbar": {
              "outlinewidth": 0,
              "ticks": ""
             }
            },
            "type": "scattergeo"
           }
          ],
          "scattergl": [
           {
            "marker": {
             "colorbar": {
              "outlinewidth": 0,
              "ticks": ""
             }
            },
            "type": "scattergl"
           }
          ],
          "scattermapbox": [
           {
            "marker": {
             "colorbar": {
              "outlinewidth": 0,
              "ticks": ""
             }
            },
            "type": "scattermapbox"
           }
          ],
          "scatterpolar": [
           {
            "marker": {
             "colorbar": {
              "outlinewidth": 0,
              "ticks": ""
             }
            },
            "type": "scatterpolar"
           }
          ],
          "scatterpolargl": [
           {
            "marker": {
             "colorbar": {
              "outlinewidth": 0,
              "ticks": ""
             }
            },
            "type": "scatterpolargl"
           }
          ],
          "scatterternary": [
           {
            "marker": {
             "colorbar": {
              "outlinewidth": 0,
              "ticks": ""
             }
            },
            "type": "scatterternary"
           }
          ],
          "surface": [
           {
            "colorbar": {
             "outlinewidth": 0,
             "ticks": ""
            },
            "colorscale": [
             [
              0,
              "#0d0887"
             ],
             [
              0.1111111111111111,
              "#46039f"
             ],
             [
              0.2222222222222222,
              "#7201a8"
             ],
             [
              0.3333333333333333,
              "#9c179e"
             ],
             [
              0.4444444444444444,
              "#bd3786"
             ],
             [
              0.5555555555555556,
              "#d8576b"
             ],
             [
              0.6666666666666666,
              "#ed7953"
             ],
             [
              0.7777777777777778,
              "#fb9f3a"
             ],
             [
              0.8888888888888888,
              "#fdca26"
             ],
             [
              1,
              "#f0f921"
             ]
            ],
            "type": "surface"
           }
          ],
          "table": [
           {
            "cells": {
             "fill": {
              "color": "#EBF0F8"
             },
             "line": {
              "color": "white"
             }
            },
            "header": {
             "fill": {
              "color": "#C8D4E3"
             },
             "line": {
              "color": "white"
             }
            },
            "type": "table"
           }
          ]
         },
         "layout": {
          "annotationdefaults": {
           "arrowcolor": "#2a3f5f",
           "arrowhead": 0,
           "arrowwidth": 1
          },
          "autotypenumbers": "strict",
          "coloraxis": {
           "colorbar": {
            "outlinewidth": 0,
            "ticks": ""
           }
          },
          "colorscale": {
           "diverging": [
            [
             0,
             "#8e0152"
            ],
            [
             0.1,
             "#c51b7d"
            ],
            [
             0.2,
             "#de77ae"
            ],
            [
             0.3,
             "#f1b6da"
            ],
            [
             0.4,
             "#fde0ef"
            ],
            [
             0.5,
             "#f7f7f7"
            ],
            [
             0.6,
             "#e6f5d0"
            ],
            [
             0.7,
             "#b8e186"
            ],
            [
             0.8,
             "#7fbc41"
            ],
            [
             0.9,
             "#4d9221"
            ],
            [
             1,
             "#276419"
            ]
           ],
           "sequential": [
            [
             0,
             "#0d0887"
            ],
            [
             0.1111111111111111,
             "#46039f"
            ],
            [
             0.2222222222222222,
             "#7201a8"
            ],
            [
             0.3333333333333333,
             "#9c179e"
            ],
            [
             0.4444444444444444,
             "#bd3786"
            ],
            [
             0.5555555555555556,
             "#d8576b"
            ],
            [
             0.6666666666666666,
             "#ed7953"
            ],
            [
             0.7777777777777778,
             "#fb9f3a"
            ],
            [
             0.8888888888888888,
             "#fdca26"
            ],
            [
             1,
             "#f0f921"
            ]
           ],
           "sequentialminus": [
            [
             0,
             "#0d0887"
            ],
            [
             0.1111111111111111,
             "#46039f"
            ],
            [
             0.2222222222222222,
             "#7201a8"
            ],
            [
             0.3333333333333333,
             "#9c179e"
            ],
            [
             0.4444444444444444,
             "#bd3786"
            ],
            [
             0.5555555555555556,
             "#d8576b"
            ],
            [
             0.6666666666666666,
             "#ed7953"
            ],
            [
             0.7777777777777778,
             "#fb9f3a"
            ],
            [
             0.8888888888888888,
             "#fdca26"
            ],
            [
             1,
             "#f0f921"
            ]
           ]
          },
          "colorway": [
           "#636efa",
           "#EF553B",
           "#00cc96",
           "#ab63fa",
           "#FFA15A",
           "#19d3f3",
           "#FF6692",
           "#B6E880",
           "#FF97FF",
           "#FECB52"
          ],
          "font": {
           "color": "#2a3f5f"
          },
          "geo": {
           "bgcolor": "white",
           "lakecolor": "white",
           "landcolor": "#E5ECF6",
           "showlakes": true,
           "showland": true,
           "subunitcolor": "white"
          },
          "hoverlabel": {
           "align": "left"
          },
          "hovermode": "closest",
          "mapbox": {
           "style": "light"
          },
          "paper_bgcolor": "white",
          "plot_bgcolor": "#E5ECF6",
          "polar": {
           "angularaxis": {
            "gridcolor": "white",
            "linecolor": "white",
            "ticks": ""
           },
           "bgcolor": "#E5ECF6",
           "radialaxis": {
            "gridcolor": "white",
            "linecolor": "white",
            "ticks": ""
           }
          },
          "scene": {
           "xaxis": {
            "backgroundcolor": "#E5ECF6",
            "gridcolor": "white",
            "gridwidth": 2,
            "linecolor": "white",
            "showbackground": true,
            "ticks": "",
            "zerolinecolor": "white"
           },
           "yaxis": {
            "backgroundcolor": "#E5ECF6",
            "gridcolor": "white",
            "gridwidth": 2,
            "linecolor": "white",
            "showbackground": true,
            "ticks": "",
            "zerolinecolor": "white"
           },
           "zaxis": {
            "backgroundcolor": "#E5ECF6",
            "gridcolor": "white",
            "gridwidth": 2,
            "linecolor": "white",
            "showbackground": true,
            "ticks": "",
            "zerolinecolor": "white"
           }
          },
          "shapedefaults": {
           "line": {
            "color": "#2a3f5f"
           }
          },
          "ternary": {
           "aaxis": {
            "gridcolor": "white",
            "linecolor": "white",
            "ticks": ""
           },
           "baxis": {
            "gridcolor": "white",
            "linecolor": "white",
            "ticks": ""
           },
           "bgcolor": "#E5ECF6",
           "caxis": {
            "gridcolor": "white",
            "linecolor": "white",
            "ticks": ""
           }
          },
          "title": {
           "x": 0.05
          },
          "xaxis": {
           "automargin": true,
           "gridcolor": "white",
           "linecolor": "white",
           "ticks": "",
           "title": {
            "standoff": 15
           },
           "zerolinecolor": "white",
           "zerolinewidth": 2
          },
          "yaxis": {
           "automargin": true,
           "gridcolor": "white",
           "linecolor": "white",
           "ticks": "",
           "title": {
            "standoff": 15
           },
           "zerolinecolor": "white",
           "zerolinewidth": 2
          }
         }
        },
        "title": {
         "text": "Historical Candlestick BTC"
        },
        "yaxis": {
         "title": {
          "text": "$"
         }
        }
       }
      },
      "text/html": [
       "<div>                            <div id=\"050b13c3-d904-439f-ab0b-ff123c09b69f\" class=\"plotly-graph-div\" style=\"height:525px; width:100%;\"></div>            <script type=\"text/javascript\">                require([\"plotly\"], function(Plotly) {                    window.PLOTLYENV=window.PLOTLYENV || {};\n",
       "                    window.PLOTLYENV.BASE_URL='https://plot.ly';                                    if (document.getElementById(\"050b13c3-d904-439f-ab0b-ff123c09b69f\")) {                    Plotly.newPlot(                        \"050b13c3-d904-439f-ab0b-ff123c09b69f\",                        [{\"close\":[377.1809997558594,320.510009765625,378.54901123046875,389.5459899902344,354.7040100097656,325.8919982910156,363.2640075683594,387.8819885253906,367.572998046875,378.0469970703125,375.0950012207031,351.6319885253906,320.8429870605469,317.239013671875,264.19500732421875,265.6600036621094,210.33900451660156,253.71800231933594,226.9720001220703,223.41200256347656,234.8249969482422,235.9770050048828,260.2019958496094,274.35400390625,286.39300537109375,267.9599914550781,242.71299743652344,260.5979919433594,236.1529998779297,222.60000610351562,219.42999267578125,240.35800170898438,240.29600524902344,236.802001953125,240.9530029296875,230.19000244140625,222.88099670410156,233.54299926757812,243.94400024414062,249.01100158691406,271.9129943847656,310.86700439453125,273.614013671875,292.6860046386719,282.614013671875,265.0830078125,258.5069885253906,228.16900634765625,228.76100158691406,239.83999633789062,230.51199340820312,231.21200561523438,232.7570037841797,238.25900268554688,247.0500030517578,261.64300537109375,283.67999267578125,325.4309997558594,373.3680114746094,320.1659851074219,324.5360107421875,371.29400634765625,388.7829895019531,433.7550048828125,442.68499755859375,422.822998046875,430.010986328125,447.9909973144531,382.29901123046875,402.97100830078125,368.7669982910156,376.6199951171875,407.2300109863281,438.7980041503906,433.5039978027344,407.7070007324219,414.06500244140625,413.7550048828125,426.7650146484375,420.90399169921875,421.5639953613281,427.39898681640625,458.55499267578125,451.875,458.5480041503906,457.5679931640625,439.322998046875,526.2329711914062,574.9769897460938,672.7839965820312,763.781005859375,629.3670043945312,658.6640014648438,649.3599853515625,679.458984375,661.2849731445312,624.6810302734375,592.6900024414062,570.4730224609375,581.3079833984375,573.9119873046875,608.6339721679688,606.718994140625,609.8740234375,600.8259887695312,610.8920288085938,616.7520141601562,641.6309814453125,657.0709838867188,701.864013671875,711.52197265625,702.031005859375,731.0260009765625,732.0349731445312,773.8720092773438,769.7310180664062,790.530029296875,896.1829833984375,998.3250122070312,911.198974609375,821.7979736328125,924.6729736328125,919.4959716796875,1027.3399658203125,999.1810302734375,1047.8699951171875,1165.199951171875,1267.1199951171875,1221.3800048828125,1036.739990234375,966.7249755859375,1102.1700439453125,1187.8699951171875,1182.93994140625,1207.2099609375,1347.8900146484375,1596.7099609375,1808.9100341796875,2041.199951171875,2155.800048828125,2511.81005859375,2958.110107421875,2548.2900390625,2589.409912109375,2506.469970703125,2518.43994140625,1929.8199462890625,2730.39990234375,2757.179931640625,3213.93994140625,4073.260009765625,4087.659912109375,4382.8798828125,4582.9599609375,4122.93994140625,3582.8798828125,3682.840087890625,4403.740234375,4610.47998046875,5678.18994140625,6008.419921875,6153.85009765625,7407.41015625,5950.06982421875,8036.490234375,9330.5498046875,11323.2001953125,15455.400390625,19140.80078125,13925.7998046875,14156.400390625,16477.599609375,13772.0,11600.099609375,11786.2998046875,8277.009765625,8129.97021484375,10551.7998046875,9664.73046875,11512.599609375,9578.6298828125,8223.6796875,8495.7802734375,6844.22998046875,7023.52001953125,8329.1103515625,8802.4599609375,9419.080078125,9654.7998046875,8723.9404296875,8513.25,7368.22021484375,7720.25,6786.02001953125,6499.27001953125,6173.22998046875,6385.81982421875,6773.8798828125,6359.64013671875,7418.490234375,8218.4599609375,7068.47998046875,6322.68994140625,6506.06982421875,6707.259765625,7272.72021484375,6300.85986328125,6517.18017578125,6710.6298828125,6625.56005859375,6602.9501953125,6290.93017578125,6482.35009765625,6486.39013671875,6376.1298828125,6411.27001953125,5623.5400390625,4009.969970703125,4139.8779296875,3614.234375,3252.839111328125,3998.980224609375,3865.95263671875,4076.632568359375,3552.953125,3601.013671875,3583.9658203125,3464.013427734375,3690.188232421875,3673.836181640625,3810.427490234375,3847.17578125,3951.599853515625,4025.22900390625,4022.168212890625,4105.404296875,5198.89697265625,5167.72216796875,5314.53125,5285.13916015625,5795.70849609375,6972.37158203125,8197.689453125,8673.2158203125,8742.9580078125,7688.0771484375,8994.48828125,10855.37109375,10817.1552734375,11450.8466796875,10256.05859375,10599.10546875,9552.8603515625,10970.1845703125,11523.5791015625,10345.810546875,10138.517578125,9757.970703125,10441.2763671875,10347.712890625,10070.392578125,8104.185546875,7988.15576171875,8321.005859375,8222.078125,9551.71484375,9235.3544921875,9055.5263671875,8577.9755859375,7047.9169921875,7424.29248046875,7564.34521484375,7152.3017578125,7511.5888671875,7422.65283203125,7411.3173828125,8192.494140625,8706.2451171875,8596.830078125,9344.365234375,10116.673828125,9934.43359375,9924.515625,8562.4541015625,8108.1162109375,5392.31494140625,5830.2548828125,5922.04296875,6791.12939453125,6971.091796875,7189.4248046875,7679.8671875,8897.46875,8756.4306640625,9670.7392578125,8790.3681640625,9461.05859375,9758.8525390625,9386.7880859375,9303.6298828125,9143.58203125,9073.9423828125,9276.5,9185.8173828125,9905.1669921875,11053.6142578125,11675.7392578125,11892.8037109375,11664.84765625,11711.505859375,10280.3515625,10323.755859375,10938.271484375,10774.4267578125,10684.4287109375,11384.181640625,11483.359375,13031.173828125,13737.109375,15479.5673828125,15955.587890625,18370.001953125,18177.484375,19345.12109375,19142.3828125,23477.294921875,26272.294921875,32782.0234375,38356.44140625,35791.27734375,32289.37890625,33114.359375,38903.44140625,48717.2890625,57539.9453125,45137.76953125,51206.69140625,59302.31640625,57523.421875,55950.74609375,58758.5546875,60204.96484375,56216.18359375,49004.25390625,56631.078125,58232.31640625,46456.05859375,34770.58203125,35678.12890625,35862.37890625,39097.859375,35698.296875,34649.64453125,35287.78125,34240.1875,31796.810546875,35350.1875,39974.89453125,43798.1171875,47047.00390625,49321.65234375,48829.83203125,51753.41015625,46063.26953125,47260.21875,43208.5390625,48199.953125,54771.578125,61553.6171875,60930.8359375,61318.95703125,63326.98828125,67566.828125],\"high\":[441.5570068359375,391.3789978027344,382.72601318359375,411.697998046875,392.64599609375,359.9840087890625,363.6260070800781,457.0929870605469,410.1990051269531,394.70098876953125,384.0379943847656,376.02899169921875,351.81500244140625,336.2869873046875,320.43499755859375,298.7539978027344,272.2030029296875,255.07400512695312,309.3840026855469,245.95700073242188,265.6109924316406,255.32000732421875,261.6600036621094,285.7959899902344,300.04400634765625,294.11199951171875,277.2969970703125,260.67498779296875,261.7980041503906,236.93499755859375,237.90899658203125,243.24000549316406,247.8040008544922,244.27000427246094,241.97799682617188,241.02099609375,231.71299743652344,234.85800170898438,256.8529968261719,251.33900451660156,274.5060119628906,314.3940124511719,310.947998046875,293.052001953125,297.77398681640625,285.7149963378906,270.6730041503906,260.5050048828125,235.218994140625,242.91200256347656,245.781005859375,259.1820068359375,237.427001953125,239.802001953125,247.2429962158203,273.5780029296875,294.0589904785156,334.16900634765625,495.56201171875,385.27801513671875,338.3500061035156,371.9389953613281,402.8089904785156,469.1029968261719,465.58099365234375,458.45599365234375,436.2460021972656,462.9339904785156,450.6619873046875,425.2669982910156,402.3169860839844,391.6080017089844,407.2300109863281,448.0459899902344,439.8580017089844,441.5069885253906,423.9259948730469,420.99700927734375,428.7969970703125,426.85699462890625,425.3609924316406,432.625,460.14599609375,467.9649963378906,461.375,462.4809875488281,458.20001220703125,553.9600219726562,590.1320190429688,684.843994140625,777.989990234375,764.083984375,704.968017578125,683.6619873046875,682.364990234375,681.5549926757812,661.8280029296875,626.1190185546875,599.9840087890625,584.1580200195312,589.4739990234375,611.8369750976562,628.8179931640625,611.9520263671875,610.9320068359375,615.2369995117188,619.8489990234375,642.8980102539062,661.1290283203125,720.4019775390625,745.7730102539062,740.0460205078125,756.2369995117188,753.8699951171875,781.2960205078125,777.0919799804688,794.7369995117188,925.1170043945312,1003.0800170898438,1191.0999755859375,919.447998046875,937.5250244140625,928.2659912109375,1045.9000244140625,1088.989990234375,1061.0999755859375,1200.3900146484375,1280.31005859375,1276.0,1257.97998046875,1122.4300537109375,1107.5899658203125,1197.2099609375,1208.0699462890625,1240.7900390625,1347.9100341796875,1618.030029296875,1873.9300537109375,2119.080078125,2763.7099609375,2585.889892578125,2999.909912109375,2997.260009765625,2772.010009765625,2615.25,2916.139892578125,2537.159912109375,2900.699951171875,2897.449951171875,3293.2900390625,4208.39013671875,4484.7001953125,4455.7001953125,4975.0400390625,4661.0,4344.64990234375,4094.070068359375,4403.740234375,4624.14013671875,5852.47998046875,6194.8798828125,6255.7099609375,7617.47998046875,7776.419921875,8101.91015625,9522.9296875,11858.7001953125,18353.400390625,20089.0,19371.0,16930.900390625,17712.400390625,16537.900390625,14445.5,12040.2998046875,11875.599609375,9122.5498046875,11349.7998046875,11958.5,11528.2001953125,11704.099609375,9937.5,9177.3701171875,8530.080078125,7530.93994140625,8338.419921875,9001.6396484375,9745.3203125,9964.5,9665.849609375,8881.1201171875,8557.51953125,7754.89013671875,7753.81982421875,6910.18017578125,6822.5,6465.509765625,6885.91015625,6838.68017578125,7594.669921875,8424.26953125,8235.5,7166.5498046875,6617.35009765625,6816.7900390625,7306.31005859375,7388.43017578125,6596.10009765625,6814.56005859375,6785.02978515625,6653.2998046875,6675.06005859375,6965.06005859375,6543.7998046875,6547.14013671875,6552.16015625,6434.2099609375,5620.77978515625,4413.0205078125,4155.9794921875,3647.33251953125,4198.4296875,4271.79248046875,4093.29736328125,4109.02099609375,3758.533447265625,3654.93310546875,3586.7509765625,3695.614013671875,3695.613037109375,4210.6416015625,3913.707275390625,3987.23779296875,4077.036376953125,4097.35986328125,4296.806640625,5307.00341796875,5421.6513671875,5359.9248046875,5642.04443359375,5886.8935546875,7503.8720703125,8320.82421875,8687.5205078125,9008.314453125,8743.5,9335.8671875,11246.14453125,13796.4892578125,12006.0751953125,13129.529296875,11052.7666015625,10651.791015625,11009.20703125,12273.8212890625,11528.189453125,10947.0419921875,10512.328125,10898.76171875,10450.3115234375,10386.8671875,10074.23828125,8497.6923828125,8721.7802734375,8410.71484375,10021.744140625,9805.1181640625,9505.0517578125,9081.279296875,8653.2802734375,7836.10205078125,7743.431640625,7618.091796875,7518.033203125,7656.17626953125,7544.4970703125,8396.73828125,9164.3623046875,8792.994140625,9553.1259765625,10129.435546875,10457.626953125,10191.67578125,9951.74609375,9167.6953125,8177.79345703125,6844.26171875,6892.51123046875,7088.24755859375,7427.939453125,7280.52197265625,7700.59423828125,9440.650390625,9996.7431640625,9823.001953125,9906.0302734375,9704.0302734375,10199.5654296875,9938.2978515625,9579.4306640625,9680.3671875,9309.7548828125,9450.3359375,9306.4052734375,10023.8076171875,12034.14453125,11902.3359375,12150.994140625,12359.056640625,11807.6318359375,12067.0810546875,10578.837890625,11134.0927734375,10988.3046875,10949.123046875,11442.2109375,11569.9140625,13329.18359375,14028.2138671875,15903.4375,16463.177734375,18936.62109375,19390.96484375,19845.974609375,19411.828125,24209.66015625,28288.83984375,34608.55859375,41946.73828125,39966.40625,37755.890625,38406.26171875,40846.546875,49487.640625,58330.5703125,57533.390625,52535.13671875,61683.86328125,60540.9921875,58471.48046875,60267.1875,61276.6640625,64863.09765625,57520.0546875,58448.33984375,59464.61328125,59519.35546875,46623.55859375,40782.078125,39478.953125,39322.78125,41295.26953125,35721.640625,36542.109375,35284.34375,34592.15625,35364.92578125,42541.6796875,45282.3515625,48098.68359375,49717.01953125,50482.078125,51868.6796875,52853.765625,48791.78125,47328.19921875,49130.69140625,56401.3046875,62757.12890625,66930.390625,63729.32421875,64242.79296875,67673.7421875],\"low\":[374.3320007324219,289.2959899902344,302.55999755859375,368.8970031738281,342.87701416015625,320.6260070800781,325.0769958496094,357.5610046386719,344.11199951171875,358.4549865722656,365.7560119628906,338.76300048828125,304.23199462890625,311.0780029296875,257.61199951171875,265.03900146484375,171.50999450683594,205.1529998779297,212.01499938964844,214.72500610351562,215.33200073242188,229.02200317382812,232.42100524902344,258.31298828125,273.89300537109375,248.63600158691406,236.51499938964844,239.21400451660156,232.77099609375,216.322998046875,214.87399291992188,218.0229949951172,228.572998046875,234.0570068359375,231.81700134277344,229.54200744628906,221.29600524902344,222.83900451660156,233.4219970703125,240.36500549316406,248.58099365234375,264.385986328125,272.0429992675781,272.9599914550781,277.52899169921875,260.4679870605469,257.0409851074219,211.07899475097656,199.56700134277344,225.9149932861328,229.33200073242188,227.40199279785156,225.11700439453125,232.4669952392578,237.03500366210938,243.7570037841797,260.95098876953125,280.510009765625,323.2090148925781,300.99700927734375,312.2170104980469,316.7699890136719,349.4649963378906,385.4110107421875,430.45599365234375,405.760009765625,418.4809875488281,426.34100341796875,354.91400146484375,375.2820129394531,365.4519958496094,367.9570007324219,372.89801025390625,397.7489929199219,413.9070129394531,394.0350036621094,406.3089904785156,406.1369934082031,410.3810119628906,412.4960021972656,416.5150146484375,420.5329895019531,427.08599853515625,436.6499938964844,441.7760009765625,448.9540100097656,437.3890075683594,438.822998046875,520.6619873046875,567.5139770507812,662.8040161132812,558.1389770507812,620.5239868164062,611.833984375,644.97998046875,646.7219848632812,624.364990234375,531.333984375,564.781005859375,563.239990234375,568.6300048828125,570.8109741210938,600.5059814453125,605.1920166015625,595.7860107421875,600.3489990234375,609.47900390625,616.197021484375,628.0130004882812,652.594970703125,678.156005859375,687.3150024414062,699.8079833984375,729.625,732.4840087890625,751.7130126953125,770.0399780273438,790.3200073242188,896.8980102539062,823.5560302734375,755.7559814453125,820.27099609375,891.68701171875,919.4739990234375,946.6909790039062,976.0020141601562,1041.68994140625,1163.3800048828125,1077.25,957.655029296875,903.7130126953125,971.9840087890625,1102.949951171875,1156.43994140625,1172.6500244140625,1209.6300048828125,1348.300048828125,1596.9200439453125,1661.9100341796875,1855.8299560546875,2107.169921875,2510.219970703125,2212.9599609375,2549.030029296875,2332.989990234375,2480.469970703125,1843.030029296875,1932.6199951171875,2450.800048828125,2668.590087890625,3180.889892578125,3906.179931640625,3674.580078125,4224.64013671875,3951.0400390625,2946.6201171875,3553.530029296875,3681.580078125,4164.0498046875,4564.25,5151.43994140625,5397.8798828125,6040.85009765625,5519.009765625,5844.2900390625,7762.7099609375,9202.0498046875,11081.7998046875,15404.7998046875,11833.0,12350.099609375,13154.7001953125,13105.900390625,9402.2900390625,10129.7001953125,7796.490234375,6048.259765625,8141.43017578125,9407.0595703125,9501.73046875,8513.0302734375,7397.990234375,8182.39990234375,6526.8701171875,6575.0,6661.990234375,7881.72021484375,8727.08984375,8891.0498046875,8223.5,7974.81982421875,7270.9599609375,7090.68017578125,6709.06982421875,6285.6298828125,5826.41015625,5835.75,6305.7001953125,6136.419921875,6357.009765625,7409.10009765625,6940.7001953125,6109.02978515625,5971.0498046875,6297.93017578125,6689.7099609375,6197.52001953125,6260.2099609375,6208.33984375,6381.85986328125,6454.02978515625,6236.47021484375,6258.68017578125,6447.02978515625,6294.56982421875,6350.169921875,5358.3798828125,3585.06005859375,3643.919921875,3280.228759765625,3191.303466796875,3253.123046875,3642.632080078125,3707.231201171875,3544.92724609375,3552.28515625,3539.721435546875,3400.81982421875,3391.023681640625,3607.69775390625,3669.982421875,3787.058837890625,3733.749755859375,3863.55908203125,4005.1513671875,3934.03125,4096.9013671875,4955.8525390625,5024.0693359375,5177.36865234375,5216.48779296875,5653.6875,6898.2822265625,7533.19677734375,8172.55078125,7564.48876953125,7586.73095703125,8988.923828125,10491.8525390625,9737.884765625,10234.576171875,9163.134765625,9252.296875,9437.3359375,10960.7353515625,9675.31640625,9831.462890625,9421.6298828125,9730.650390625,9980.7763671875,9851.6923828125,7895.62939453125,7830.7587890625,7905.76611328125,7902.1640625,7446.98876953125,9028.7177734375,8775.5341796875,8473.9736328125,6936.70654296875,6617.1669921875,7170.9228515625,6924.3759765625,6540.04931640625,7189.93408203125,6914.99609375,7409.29296875,8079.70068359375,8266.8408203125,8597.30859375,9112.8115234375,9722.38671875,9507.6376953125,8471.212890625,8105.2529296875,4106.98095703125,4575.35791015625,5785.00439453125,5903.234375,6782.8896484375,6555.50439453125,6834.4423828125,7679.4189453125,8395.107421875,8374.3232421875,8787.2509765625,8719.66796875,9450.8994140625,9263.0693359375,8990.17578125,8975.525390625,8977.015625,9058.6640625,9088.947265625,9137.509765625,9903.9697265625,11012.4150390625,11195.708984375,11448.8056640625,11185.94140625,9946.67578125,9916.4931640625,10266.0087890625,10185.7744140625,10440.3115234375,10565.197265625,11223.0126953125,11408.2900390625,12822.3828125,13243.16015625,14865.529296875,15880.7060546875,16351.03515625,18178.322265625,17619.533203125,19012.708984375,22159.3671875,25987.298828125,28722.755859375,30549.599609375,28953.373046875,29367.138671875,32384.228515625,38076.32421875,46347.4765625,43241.6171875,45115.09375,49506.0546875,53555.02734375,50856.5703125,55139.33984375,55604.0234375,52829.53515625,47159.484375,48852.796875,52969.0546875,43963.3515625,30681.49609375,33520.73828125,34241.9453125,31114.443359375,33432.07421875,28893.62109375,32770.6796875,32133.18359375,31100.673828125,29360.955078125,35287.3125,37458.00390625,42848.6875,43998.31640625,46394.28125,46562.4375,43285.20703125,43591.3203125,39787.609375,40829.66796875,47045.00390625,54370.97265625,59643.34375,58206.91796875,59695.18359375,63344.06640625],\"open\":[399.1000061035156,376.9280090332031,320.3890075683594,377.9209899902344,389.2309875488281,354.7770080566406,325.5690002441406,362.2650146484375,388.3489990234375,366.947998046875,378.2489929199219,374.9649963378906,351.3609924316406,321.0679931640625,317.70098876953125,265.0840148925781,266.14599609375,211.4709930419922,254.07899475097656,226.49099731445312,223.38900756835938,234.8249969482422,235.9949951171875,260.35699462890625,274.81201171875,285.68499755859375,267.8949890136719,242.87899780273438,260.72100830078125,235.9499969482422,222.61199951171875,219.4290008544922,240.3560028076172,240.2989959716797,236.88699340820312,240.927001953125,230.23300170898438,222.87899780273438,233.4219970703125,243.968994140625,248.7209930419922,271.1080017089844,310.8269958496094,273.4989929199219,292.6390075683594,282.8059997558594,265.4779968261719,258.489990234375,228.11199951171875,229.11399841308594,239.9340057373047,230.60899353027344,231.2169952392578,232.83599853515625,238.14700317382812,246.875,261.8609924316406,283.62799072265625,325.9419860839844,374.3240051269531,319.7349853515625,324.3500061035156,371.43701171875,389.9779968261719,433.2720031738281,442.8380126953125,423.3429870605469,430.0610046386719,448.697998046875,381.7330017089844,402.3169860839844,369.3500061035156,376.7569885253906,407.5679931640625,438.989013671875,433.43798828125,407.7569885253906,414.20098876953125,413.4179992675781,426.5480041503906,421.29901123046875,421.87200927734375,427.6109924316406,459.1210021972656,451.9330139160156,458.20599365234375,457.58599853515625,439.3479919433594,528.4710083007812,574.6019897460938,671.6539916992188,763.927001953125,629.3489990234375,658.8040161132812,648.4840087890625,679.8090209960938,661.2630004882812,624.6019897460938,592.7360229492188,570.4940185546875,581.3109741210938,574.0709838867188,608.989990234375,607.0050048828125,609.8709716796875,600.8070068359375,610.968017578125,616.822021484375,641.8179931640625,657.1610107421875,702.6400146484375,710.7360229492188,701.9970092773438,731.2650146484375,732.4840087890625,773.3939819335938,770.0399780273438,790.6920166015625,896.905029296875,998.6170043945312,913.2440185546875,821.7830200195312,925.4990234375,920.1510009765625,1028.4000244140625,998.885009765625,1048.68994140625,1163.780029296875,1267.469970703125,1221.780029296875,1037.239990234375,972.0549926757812,1102.949951171875,1187.300048828125,1183.25,1209.6300048828125,1348.300048828125,1596.9200439453125,1808.43994140625,2043.18994140625,2159.429931640625,2512.39990234375,2953.219970703125,2549.030029296875,2590.570068359375,2498.56005859375,2525.25,1932.6199951171875,2732.699951171875,2763.239990234375,3212.780029296875,4066.10009765625,4090.47998046875,4384.4501953125,4591.6298828125,4122.47021484375,3591.090087890625,3681.580078125,4395.81005859375,4614.52001953125,5687.56982421875,6006.0,6114.85009765625,7403.22021484375,5938.25,8039.06982421875,9352.7197265625,11315.400390625,15427.400390625,19106.400390625,13995.900390625,14112.2001953125,16476.19921875,13767.2998046875,11633.099609375,11755.5,8270.5400390625,8141.43017578125,10552.599609375,9669.4296875,11532.400390625,9602.9296875,8344.1201171875,8498.4697265625,6844.85986328125,7044.31982421875,8337.5703125,8794.3896484375,9426.1103515625,9645.669921875,8713.099609375,8522.330078125,7371.31005859375,7722.52978515625,6799.2900390625,6510.06982421875,6171.97021484375,6380.3798828125,6775.080078125,6357.009765625,7414.7099609375,8221.580078125,7062.93994140625,6341.35986328125,6500.509765625,6710.7998046875,7279.02978515625,6301.56982421875,6514.06005859375,6704.77001953125,6619.85009765625,6600.18994140625,6292.64013671875,6486.0498046875,6492.35009765625,6363.6201171875,6411.759765625,5620.77978515625,4015.070068359375,4147.32373046875,3612.04638671875,3253.123046875,4000.331787109375,3866.839111328125,4078.5849609375,3557.31103515625,3600.372802734375,3584.283203125,3467.211669921875,3695.613037109375,3671.369873046875,3807.00244140625,3845.091552734375,3953.740234375,4029.968505859375,4024.11279296875,4105.3623046875,5199.83544921875,5167.32177734375,5312.49462890625,5284.8583984375,5791.693359375,6971.17822265625,8196.923828125,8674.072265625,8741.7470703125,7692.28466796875,8988.923828125,10853.744140625,10796.9306640625,11446.5966796875,10257.8388671875,10596.9482421875,9548.1787109375,10960.7353515625,11528.189453125,10350.283203125,10126.2998046875,9757.4736328125,10443.228515625,10347.22265625,10067.962890625,8104.2265625,7989.12060546875,8320.83203125,8225.115234375,9565.1015625,9235.607421875,9056.91796875,8573.98046875,7039.97705078125,7424.0361328125,7561.79541015625,7153.6630859375,7508.90234375,7420.27294921875,7410.4521484375,8189.77197265625,8704.6318359375,8597.30859375,9344.68359375,10115.5595703125,9936.560546875,9921.5830078125,8563.2646484375,8111.146484375,5385.2294921875,5831.37451171875,5925.53857421875,6788.0498046875,6965.61669921875,7186.87353515625,7679.4189453125,8895.7451171875,8755.53515625,9675.6953125,8786.107421875,9463.60546875,9760.0634765625,9386.03515625,9300.9150390625,9140.029296875,9072.849609375,9277.205078125,9187.220703125,9905.2177734375,11043.7685546875,11662.2568359375,11895.658203125,11663.689453125,11713.306640625,10280.998046875,10328.734375,10934.92578125,10771.6416015625,10688.0341796875,11429.0478515625,11495.0380859375,13031.201171875,13737.0322265625,15479.595703125,15955.5771484375,18370.017578125,18178.322265625,19343.12890625,19144.4921875,23474.455078125,26280.822265625,32810.94921875,38346.53125,35792.23828125,32285.798828125,33114.578125,38886.828125,48696.53515625,57532.73828125,45159.50390625,51174.1171875,59267.4296875,57517.890625,55947.8984375,58760.875,60175.9453125,56191.5859375,49077.79296875,56620.2734375,58250.87109375,46415.8984375,34700.36328125,35658.59375,35835.265625,39016.96875,35641.14453125,34679.12109375,35284.34375,34254.015625,31800.01171875,35384.03125,39907.26171875,43791.92578125,47019.9609375,49291.67578125,48834.8515625,51769.00390625,46057.21484375,47261.40625,43234.18359375,48208.90625,54734.125,61548.8046875,60893.92578125,61320.44921875,63344.06640625],\"type\":\"candlestick\",\"x\":[\"2014-09-22T00:00:00\",\"2014-09-29T00:00:00\",\"2014-10-06T00:00:00\",\"2014-10-13T00:00:00\",\"2014-10-20T00:00:00\",\"2014-10-27T00:00:00\",\"2014-11-03T00:00:00\",\"2014-11-10T00:00:00\",\"2014-11-17T00:00:00\",\"2014-11-24T00:00:00\",\"2014-12-01T00:00:00\",\"2014-12-08T00:00:00\",\"2014-12-15T00:00:00\",\"2014-12-22T00:00:00\",\"2014-12-29T00:00:00\",\"2015-01-05T00:00:00\",\"2015-01-12T00:00:00\",\"2015-01-19T00:00:00\",\"2015-01-26T00:00:00\",\"2015-02-02T00:00:00\",\"2015-02-09T00:00:00\",\"2015-02-16T00:00:00\",\"2015-02-23T00:00:00\",\"2015-03-02T00:00:00\",\"2015-03-09T00:00:00\",\"2015-03-16T00:00:00\",\"2015-03-23T00:00:00\",\"2015-03-30T00:00:00\",\"2015-04-06T00:00:00\",\"2015-04-13T00:00:00\",\"2015-04-20T00:00:00\",\"2015-04-27T00:00:00\",\"2015-05-04T00:00:00\",\"2015-05-11T00:00:00\",\"2015-05-18T00:00:00\",\"2015-05-25T00:00:00\",\"2015-06-01T00:00:00\",\"2015-06-08T00:00:00\",\"2015-06-15T00:00:00\",\"2015-06-22T00:00:00\",\"2015-06-29T00:00:00\",\"2015-07-06T00:00:00\",\"2015-07-13T00:00:00\",\"2015-07-20T00:00:00\",\"2015-07-27T00:00:00\",\"2015-08-03T00:00:00\",\"2015-08-10T00:00:00\",\"2015-08-17T00:00:00\",\"2015-08-24T00:00:00\",\"2015-08-31T00:00:00\",\"2015-09-07T00:00:00\",\"2015-09-14T00:00:00\",\"2015-09-21T00:00:00\",\"2015-09-28T00:00:00\",\"2015-10-05T00:00:00\",\"2015-10-12T00:00:00\",\"2015-10-19T00:00:00\",\"2015-10-26T00:00:00\",\"2015-11-02T00:00:00\",\"2015-11-09T00:00:00\",\"2015-11-16T00:00:00\",\"2015-11-23T00:00:00\",\"2015-11-30T00:00:00\",\"2015-12-07T00:00:00\",\"2015-12-14T00:00:00\",\"2015-12-21T00:00:00\",\"2015-12-28T00:00:00\",\"2016-01-04T00:00:00\",\"2016-01-11T00:00:00\",\"2016-01-18T00:00:00\",\"2016-01-25T00:00:00\",\"2016-02-01T00:00:00\",\"2016-02-08T00:00:00\",\"2016-02-15T00:00:00\",\"2016-02-22T00:00:00\",\"2016-02-29T00:00:00\",\"2016-03-07T00:00:00\",\"2016-03-14T00:00:00\",\"2016-03-21T00:00:00\",\"2016-03-28T00:00:00\",\"2016-04-04T00:00:00\",\"2016-04-11T00:00:00\",\"2016-04-18T00:00:00\",\"2016-04-25T00:00:00\",\"2016-05-02T00:00:00\",\"2016-05-09T00:00:00\",\"2016-05-16T00:00:00\",\"2016-05-23T00:00:00\",\"2016-05-30T00:00:00\",\"2016-06-06T00:00:00\",\"2016-06-13T00:00:00\",\"2016-06-20T00:00:00\",\"2016-06-27T00:00:00\",\"2016-07-04T00:00:00\",\"2016-07-11T00:00:00\",\"2016-07-18T00:00:00\",\"2016-07-25T00:00:00\",\"2016-08-01T00:00:00\",\"2016-08-08T00:00:00\",\"2016-08-15T00:00:00\",\"2016-08-22T00:00:00\",\"2016-08-29T00:00:00\",\"2016-09-05T00:00:00\",\"2016-09-12T00:00:00\",\"2016-09-19T00:00:00\",\"2016-09-26T00:00:00\",\"2016-10-03T00:00:00\",\"2016-10-10T00:00:00\",\"2016-10-17T00:00:00\",\"2016-10-24T00:00:00\",\"2016-10-31T00:00:00\",\"2016-11-07T00:00:00\",\"2016-11-14T00:00:00\",\"2016-11-21T00:00:00\",\"2016-11-28T00:00:00\",\"2016-12-05T00:00:00\",\"2016-12-12T00:00:00\",\"2016-12-19T00:00:00\",\"2016-12-26T00:00:00\",\"2017-01-02T00:00:00\",\"2017-01-09T00:00:00\",\"2017-01-16T00:00:00\",\"2017-01-23T00:00:00\",\"2017-01-30T00:00:00\",\"2017-02-06T00:00:00\",\"2017-02-13T00:00:00\",\"2017-02-20T00:00:00\",\"2017-02-27T00:00:00\",\"2017-03-06T00:00:00\",\"2017-03-13T00:00:00\",\"2017-03-20T00:00:00\",\"2017-03-27T00:00:00\",\"2017-04-03T00:00:00\",\"2017-04-10T00:00:00\",\"2017-04-17T00:00:00\",\"2017-04-24T00:00:00\",\"2017-05-01T00:00:00\",\"2017-05-08T00:00:00\",\"2017-05-15T00:00:00\",\"2017-05-22T00:00:00\",\"2017-05-29T00:00:00\",\"2017-06-05T00:00:00\",\"2017-06-12T00:00:00\",\"2017-06-19T00:00:00\",\"2017-06-26T00:00:00\",\"2017-07-03T00:00:00\",\"2017-07-10T00:00:00\",\"2017-07-17T00:00:00\",\"2017-07-24T00:00:00\",\"2017-07-31T00:00:00\",\"2017-08-07T00:00:00\",\"2017-08-14T00:00:00\",\"2017-08-21T00:00:00\",\"2017-08-28T00:00:00\",\"2017-09-04T00:00:00\",\"2017-09-11T00:00:00\",\"2017-09-18T00:00:00\",\"2017-09-25T00:00:00\",\"2017-10-02T00:00:00\",\"2017-10-09T00:00:00\",\"2017-10-16T00:00:00\",\"2017-10-23T00:00:00\",\"2017-10-30T00:00:00\",\"2017-11-06T00:00:00\",\"2017-11-13T00:00:00\",\"2017-11-20T00:00:00\",\"2017-11-27T00:00:00\",\"2017-12-04T00:00:00\",\"2017-12-11T00:00:00\",\"2017-12-18T00:00:00\",\"2017-12-25T00:00:00\",\"2018-01-01T00:00:00\",\"2018-01-08T00:00:00\",\"2018-01-15T00:00:00\",\"2018-01-22T00:00:00\",\"2018-01-29T00:00:00\",\"2018-02-05T00:00:00\",\"2018-02-12T00:00:00\",\"2018-02-19T00:00:00\",\"2018-02-26T00:00:00\",\"2018-03-05T00:00:00\",\"2018-03-12T00:00:00\",\"2018-03-19T00:00:00\",\"2018-03-26T00:00:00\",\"2018-04-02T00:00:00\",\"2018-04-09T00:00:00\",\"2018-04-16T00:00:00\",\"2018-04-23T00:00:00\",\"2018-04-30T00:00:00\",\"2018-05-07T00:00:00\",\"2018-05-14T00:00:00\",\"2018-05-21T00:00:00\",\"2018-05-28T00:00:00\",\"2018-06-04T00:00:00\",\"2018-06-11T00:00:00\",\"2018-06-18T00:00:00\",\"2018-06-25T00:00:00\",\"2018-07-02T00:00:00\",\"2018-07-09T00:00:00\",\"2018-07-16T00:00:00\",\"2018-07-23T00:00:00\",\"2018-07-30T00:00:00\",\"2018-08-06T00:00:00\",\"2018-08-13T00:00:00\",\"2018-08-20T00:00:00\",\"2018-08-27T00:00:00\",\"2018-09-03T00:00:00\",\"2018-09-10T00:00:00\",\"2018-09-17T00:00:00\",\"2018-09-24T00:00:00\",\"2018-10-01T00:00:00\",\"2018-10-08T00:00:00\",\"2018-10-15T00:00:00\",\"2018-10-22T00:00:00\",\"2018-10-29T00:00:00\",\"2018-11-05T00:00:00\",\"2018-11-12T00:00:00\",\"2018-11-19T00:00:00\",\"2018-11-26T00:00:00\",\"2018-12-03T00:00:00\",\"2018-12-10T00:00:00\",\"2018-12-17T00:00:00\",\"2018-12-24T00:00:00\",\"2018-12-31T00:00:00\",\"2019-01-07T00:00:00\",\"2019-01-14T00:00:00\",\"2019-01-21T00:00:00\",\"2019-01-28T00:00:00\",\"2019-02-04T00:00:00\",\"2019-02-11T00:00:00\",\"2019-02-18T00:00:00\",\"2019-02-25T00:00:00\",\"2019-03-04T00:00:00\",\"2019-03-11T00:00:00\",\"2019-03-18T00:00:00\",\"2019-03-25T00:00:00\",\"2019-04-01T00:00:00\",\"2019-04-08T00:00:00\",\"2019-04-15T00:00:00\",\"2019-04-22T00:00:00\",\"2019-04-29T00:00:00\",\"2019-05-06T00:00:00\",\"2019-05-13T00:00:00\",\"2019-05-20T00:00:00\",\"2019-05-27T00:00:00\",\"2019-06-03T00:00:00\",\"2019-06-10T00:00:00\",\"2019-06-17T00:00:00\",\"2019-06-24T00:00:00\",\"2019-07-01T00:00:00\",\"2019-07-08T00:00:00\",\"2019-07-15T00:00:00\",\"2019-07-22T00:00:00\",\"2019-07-29T00:00:00\",\"2019-08-05T00:00:00\",\"2019-08-12T00:00:00\",\"2019-08-19T00:00:00\",\"2019-08-26T00:00:00\",\"2019-09-02T00:00:00\",\"2019-09-09T00:00:00\",\"2019-09-16T00:00:00\",\"2019-09-23T00:00:00\",\"2019-09-30T00:00:00\",\"2019-10-07T00:00:00\",\"2019-10-14T00:00:00\",\"2019-10-21T00:00:00\",\"2019-10-28T00:00:00\",\"2019-11-04T00:00:00\",\"2019-11-11T00:00:00\",\"2019-11-18T00:00:00\",\"2019-11-25T00:00:00\",\"2019-12-02T00:00:00\",\"2019-12-09T00:00:00\",\"2019-12-16T00:00:00\",\"2019-12-23T00:00:00\",\"2019-12-30T00:00:00\",\"2020-01-06T00:00:00\",\"2020-01-13T00:00:00\",\"2020-01-20T00:00:00\",\"2020-01-27T00:00:00\",\"2020-02-03T00:00:00\",\"2020-02-10T00:00:00\",\"2020-02-17T00:00:00\",\"2020-02-24T00:00:00\",\"2020-03-02T00:00:00\",\"2020-03-09T00:00:00\",\"2020-03-16T00:00:00\",\"2020-03-23T00:00:00\",\"2020-03-30T00:00:00\",\"2020-04-06T00:00:00\",\"2020-04-13T00:00:00\",\"2020-04-20T00:00:00\",\"2020-04-27T00:00:00\",\"2020-05-04T00:00:00\",\"2020-05-11T00:00:00\",\"2020-05-18T00:00:00\",\"2020-05-25T00:00:00\",\"2020-06-01T00:00:00\",\"2020-06-08T00:00:00\",\"2020-06-15T00:00:00\",\"2020-06-22T00:00:00\",\"2020-06-29T00:00:00\",\"2020-07-06T00:00:00\",\"2020-07-13T00:00:00\",\"2020-07-20T00:00:00\",\"2020-07-27T00:00:00\",\"2020-08-03T00:00:00\",\"2020-08-10T00:00:00\",\"2020-08-17T00:00:00\",\"2020-08-24T00:00:00\",\"2020-08-31T00:00:00\",\"2020-09-07T00:00:00\",\"2020-09-14T00:00:00\",\"2020-09-21T00:00:00\",\"2020-09-28T00:00:00\",\"2020-10-05T00:00:00\",\"2020-10-12T00:00:00\",\"2020-10-19T00:00:00\",\"2020-10-26T00:00:00\",\"2020-11-02T00:00:00\",\"2020-11-09T00:00:00\",\"2020-11-16T00:00:00\",\"2020-11-23T00:00:00\",\"2020-11-30T00:00:00\",\"2020-12-07T00:00:00\",\"2020-12-14T00:00:00\",\"2020-12-21T00:00:00\",\"2020-12-28T00:00:00\",\"2021-01-04T00:00:00\",\"2021-01-11T00:00:00\",\"2021-01-18T00:00:00\",\"2021-01-25T00:00:00\",\"2021-02-01T00:00:00\",\"2021-02-08T00:00:00\",\"2021-02-15T00:00:00\",\"2021-02-22T00:00:00\",\"2021-03-01T00:00:00\",\"2021-03-08T00:00:00\",\"2021-03-15T00:00:00\",\"2021-03-22T00:00:00\",\"2021-03-29T00:00:00\",\"2021-04-05T00:00:00\",\"2021-04-12T00:00:00\",\"2021-04-19T00:00:00\",\"2021-04-26T00:00:00\",\"2021-05-03T00:00:00\",\"2021-05-10T00:00:00\",\"2021-05-17T00:00:00\",\"2021-05-24T00:00:00\",\"2021-05-31T00:00:00\",\"2021-06-07T00:00:00\",\"2021-06-14T00:00:00\",\"2021-06-21T00:00:00\",\"2021-06-28T00:00:00\",\"2021-07-05T00:00:00\",\"2021-07-12T00:00:00\",\"2021-07-19T00:00:00\",\"2021-07-26T00:00:00\",\"2021-08-02T00:00:00\",\"2021-08-09T00:00:00\",\"2021-08-16T00:00:00\",\"2021-08-23T00:00:00\",\"2021-08-30T00:00:00\",\"2021-09-06T00:00:00\",\"2021-09-13T00:00:00\",\"2021-09-20T00:00:00\",\"2021-09-27T00:00:00\",\"2021-10-04T00:00:00\",\"2021-10-11T00:00:00\",\"2021-10-18T00:00:00\",\"2021-10-25T00:00:00\",\"2021-11-01T00:00:00\",\"2021-11-08T00:00:00\"]}],                        {\"annotations\":[{\"arrowhead\":2,\"arrowwidth\":1.5,\"bgcolor\":\"rgb(242,242,242,0.95)\",\"bordercolor\":\"rgb(50,55,60,0.40)\",\"borderpad\":4,\"borderwidth\":1.5,\"font\":{\"family\":\"monospace\",\"size\":9.5},\"showarrow\":true,\"text\":\"Bitcoin bubble crash, and hacking attacks in Korea and Japan\",\"x\":\"2017-12-11\",\"xref\":\"x\",\"y\":\"20000\",\"yref\":\"y\"},{\"arrowhead\":2,\"arrowwidth\":1.5,\"ax\":-20,\"bgcolor\":\"rgb(242,242,242,0.95)\",\"bordercolor\":\"rgb(50,55,60,0.40)\",\"borderpad\":4,\"borderwidth\":1.5,\"font\":{\"family\":\"monospace\",\"size\":9.5},\"showarrow\":true,\"startarrowsize\":5,\"text\":\"Tesla and China against btc, enviroment concerns, cryptocurrency tax bill USA\",\"x\":\"2021-04\",\"xref\":\"x\",\"y\":\"60000\",\"yref\":\"y\"},{\"align\":\"right\",\"arrowhead\":2,\"arrowwidth\":1.5,\"ax\":10,\"ay\":100,\"bgcolor\":\"rgb(242,242,242,0.95)\",\"bordercolor\":\"rgb(50,55,60,0.40)\",\"borderpad\":4,\"borderwidth\":1.5,\"font\":{\"family\":\"monospace\",\"size\":9.5},\"showarrow\":true,\"text\":\"China banned criptocurrencies\",\"x\":\"2021-09\",\"xref\":\"x\",\"y\":\"45000\",\"yref\":\"y\"}],\"hovermode\":\"closest\",\"template\":{\"data\":{\"bar\":[{\"error_x\":{\"color\":\"#2a3f5f\"},\"error_y\":{\"color\":\"#2a3f5f\"},\"marker\":{\"line\":{\"color\":\"#E5ECF6\",\"width\":0.5},\"pattern\":{\"fillmode\":\"overlay\",\"size\":10,\"solidity\":0.2}},\"type\":\"bar\"}],\"barpolar\":[{\"marker\":{\"line\":{\"color\":\"#E5ECF6\",\"width\":0.5},\"pattern\":{\"fillmode\":\"overlay\",\"size\":10,\"solidity\":0.2}},\"type\":\"barpolar\"}],\"carpet\":[{\"aaxis\":{\"endlinecolor\":\"#2a3f5f\",\"gridcolor\":\"white\",\"linecolor\":\"white\",\"minorgridcolor\":\"white\",\"startlinecolor\":\"#2a3f5f\"},\"baxis\":{\"endlinecolor\":\"#2a3f5f\",\"gridcolor\":\"white\",\"linecolor\":\"white\",\"minorgridcolor\":\"white\",\"startlinecolor\":\"#2a3f5f\"},\"type\":\"carpet\"}],\"choropleth\":[{\"colorbar\":{\"outlinewidth\":0,\"ticks\":\"\"},\"type\":\"choropleth\"}],\"contour\":[{\"colorbar\":{\"outlinewidth\":0,\"ticks\":\"\"},\"colorscale\":[[0.0,\"#0d0887\"],[0.1111111111111111,\"#46039f\"],[0.2222222222222222,\"#7201a8\"],[0.3333333333333333,\"#9c179e\"],[0.4444444444444444,\"#bd3786\"],[0.5555555555555556,\"#d8576b\"],[0.6666666666666666,\"#ed7953\"],[0.7777777777777778,\"#fb9f3a\"],[0.8888888888888888,\"#fdca26\"],[1.0,\"#f0f921\"]],\"type\":\"contour\"}],\"contourcarpet\":[{\"colorbar\":{\"outlinewidth\":0,\"ticks\":\"\"},\"type\":\"contourcarpet\"}],\"heatmap\":[{\"colorbar\":{\"outlinewidth\":0,\"ticks\":\"\"},\"colorscale\":[[0.0,\"#0d0887\"],[0.1111111111111111,\"#46039f\"],[0.2222222222222222,\"#7201a8\"],[0.3333333333333333,\"#9c179e\"],[0.4444444444444444,\"#bd3786\"],[0.5555555555555556,\"#d8576b\"],[0.6666666666666666,\"#ed7953\"],[0.7777777777777778,\"#fb9f3a\"],[0.8888888888888888,\"#fdca26\"],[1.0,\"#f0f921\"]],\"type\":\"heatmap\"}],\"heatmapgl\":[{\"colorbar\":{\"outlinewidth\":0,\"ticks\":\"\"},\"colorscale\":[[0.0,\"#0d0887\"],[0.1111111111111111,\"#46039f\"],[0.2222222222222222,\"#7201a8\"],[0.3333333333333333,\"#9c179e\"],[0.4444444444444444,\"#bd3786\"],[0.5555555555555556,\"#d8576b\"],[0.6666666666666666,\"#ed7953\"],[0.7777777777777778,\"#fb9f3a\"],[0.8888888888888888,\"#fdca26\"],[1.0,\"#f0f921\"]],\"type\":\"heatmapgl\"}],\"histogram\":[{\"marker\":{\"pattern\":{\"fillmode\":\"overlay\",\"size\":10,\"solidity\":0.2}},\"type\":\"histogram\"}],\"histogram2d\":[{\"colorbar\":{\"outlinewidth\":0,\"ticks\":\"\"},\"colorscale\":[[0.0,\"#0d0887\"],[0.1111111111111111,\"#46039f\"],[0.2222222222222222,\"#7201a8\"],[0.3333333333333333,\"#9c179e\"],[0.4444444444444444,\"#bd3786\"],[0.5555555555555556,\"#d8576b\"],[0.6666666666666666,\"#ed7953\"],[0.7777777777777778,\"#fb9f3a\"],[0.8888888888888888,\"#fdca26\"],[1.0,\"#f0f921\"]],\"type\":\"histogram2d\"}],\"histogram2dcontour\":[{\"colorbar\":{\"outlinewidth\":0,\"ticks\":\"\"},\"colorscale\":[[0.0,\"#0d0887\"],[0.1111111111111111,\"#46039f\"],[0.2222222222222222,\"#7201a8\"],[0.3333333333333333,\"#9c179e\"],[0.4444444444444444,\"#bd3786\"],[0.5555555555555556,\"#d8576b\"],[0.6666666666666666,\"#ed7953\"],[0.7777777777777778,\"#fb9f3a\"],[0.8888888888888888,\"#fdca26\"],[1.0,\"#f0f921\"]],\"type\":\"histogram2dcontour\"}],\"mesh3d\":[{\"colorbar\":{\"outlinewidth\":0,\"ticks\":\"\"},\"type\":\"mesh3d\"}],\"parcoords\":[{\"line\":{\"colorbar\":{\"outlinewidth\":0,\"ticks\":\"\"}},\"type\":\"parcoords\"}],\"pie\":[{\"automargin\":true,\"type\":\"pie\"}],\"scatter\":[{\"marker\":{\"colorbar\":{\"outlinewidth\":0,\"ticks\":\"\"}},\"type\":\"scatter\"}],\"scatter3d\":[{\"line\":{\"colorbar\":{\"outlinewidth\":0,\"ticks\":\"\"}},\"marker\":{\"colorbar\":{\"outlinewidth\":0,\"ticks\":\"\"}},\"type\":\"scatter3d\"}],\"scattercarpet\":[{\"marker\":{\"colorbar\":{\"outlinewidth\":0,\"ticks\":\"\"}},\"type\":\"scattercarpet\"}],\"scattergeo\":[{\"marker\":{\"colorbar\":{\"outlinewidth\":0,\"ticks\":\"\"}},\"type\":\"scattergeo\"}],\"scattergl\":[{\"marker\":{\"colorbar\":{\"outlinewidth\":0,\"ticks\":\"\"}},\"type\":\"scattergl\"}],\"scattermapbox\":[{\"marker\":{\"colorbar\":{\"outlinewidth\":0,\"ticks\":\"\"}},\"type\":\"scattermapbox\"}],\"scatterpolar\":[{\"marker\":{\"colorbar\":{\"outlinewidth\":0,\"ticks\":\"\"}},\"type\":\"scatterpolar\"}],\"scatterpolargl\":[{\"marker\":{\"colorbar\":{\"outlinewidth\":0,\"ticks\":\"\"}},\"type\":\"scatterpolargl\"}],\"scatterternary\":[{\"marker\":{\"colorbar\":{\"outlinewidth\":0,\"ticks\":\"\"}},\"type\":\"scatterternary\"}],\"surface\":[{\"colorbar\":{\"outlinewidth\":0,\"ticks\":\"\"},\"colorscale\":[[0.0,\"#0d0887\"],[0.1111111111111111,\"#46039f\"],[0.2222222222222222,\"#7201a8\"],[0.3333333333333333,\"#9c179e\"],[0.4444444444444444,\"#bd3786\"],[0.5555555555555556,\"#d8576b\"],[0.6666666666666666,\"#ed7953\"],[0.7777777777777778,\"#fb9f3a\"],[0.8888888888888888,\"#fdca26\"],[1.0,\"#f0f921\"]],\"type\":\"surface\"}],\"table\":[{\"cells\":{\"fill\":{\"color\":\"#EBF0F8\"},\"line\":{\"color\":\"white\"}},\"header\":{\"fill\":{\"color\":\"#C8D4E3\"},\"line\":{\"color\":\"white\"}},\"type\":\"table\"}]},\"layout\":{\"annotationdefaults\":{\"arrowcolor\":\"#2a3f5f\",\"arrowhead\":0,\"arrowwidth\":1},\"autotypenumbers\":\"strict\",\"coloraxis\":{\"colorbar\":{\"outlinewidth\":0,\"ticks\":\"\"}},\"colorscale\":{\"diverging\":[[0,\"#8e0152\"],[0.1,\"#c51b7d\"],[0.2,\"#de77ae\"],[0.3,\"#f1b6da\"],[0.4,\"#fde0ef\"],[0.5,\"#f7f7f7\"],[0.6,\"#e6f5d0\"],[0.7,\"#b8e186\"],[0.8,\"#7fbc41\"],[0.9,\"#4d9221\"],[1,\"#276419\"]],\"sequential\":[[0.0,\"#0d0887\"],[0.1111111111111111,\"#46039f\"],[0.2222222222222222,\"#7201a8\"],[0.3333333333333333,\"#9c179e\"],[0.4444444444444444,\"#bd3786\"],[0.5555555555555556,\"#d8576b\"],[0.6666666666666666,\"#ed7953\"],[0.7777777777777778,\"#fb9f3a\"],[0.8888888888888888,\"#fdca26\"],[1.0,\"#f0f921\"]],\"sequentialminus\":[[0.0,\"#0d0887\"],[0.1111111111111111,\"#46039f\"],[0.2222222222222222,\"#7201a8\"],[0.3333333333333333,\"#9c179e\"],[0.4444444444444444,\"#bd3786\"],[0.5555555555555556,\"#d8576b\"],[0.6666666666666666,\"#ed7953\"],[0.7777777777777778,\"#fb9f3a\"],[0.8888888888888888,\"#fdca26\"],[1.0,\"#f0f921\"]]},\"colorway\":[\"#636efa\",\"#EF553B\",\"#00cc96\",\"#ab63fa\",\"#FFA15A\",\"#19d3f3\",\"#FF6692\",\"#B6E880\",\"#FF97FF\",\"#FECB52\"],\"font\":{\"color\":\"#2a3f5f\"},\"geo\":{\"bgcolor\":\"white\",\"lakecolor\":\"white\",\"landcolor\":\"#E5ECF6\",\"showlakes\":true,\"showland\":true,\"subunitcolor\":\"white\"},\"hoverlabel\":{\"align\":\"left\"},\"hovermode\":\"closest\",\"mapbox\":{\"style\":\"light\"},\"paper_bgcolor\":\"white\",\"plot_bgcolor\":\"#E5ECF6\",\"polar\":{\"angularaxis\":{\"gridcolor\":\"white\",\"linecolor\":\"white\",\"ticks\":\"\"},\"bgcolor\":\"#E5ECF6\",\"radialaxis\":{\"gridcolor\":\"white\",\"linecolor\":\"white\",\"ticks\":\"\"}},\"scene\":{\"xaxis\":{\"backgroundcolor\":\"#E5ECF6\",\"gridcolor\":\"white\",\"gridwidth\":2,\"linecolor\":\"white\",\"showbackground\":true,\"ticks\":\"\",\"zerolinecolor\":\"white\"},\"yaxis\":{\"backgroundcolor\":\"#E5ECF6\",\"gridcolor\":\"white\",\"gridwidth\":2,\"linecolor\":\"white\",\"showbackground\":true,\"ticks\":\"\",\"zerolinecolor\":\"white\"},\"zaxis\":{\"backgroundcolor\":\"#E5ECF6\",\"gridcolor\":\"white\",\"gridwidth\":2,\"linecolor\":\"white\",\"showbackground\":true,\"ticks\":\"\",\"zerolinecolor\":\"white\"}},\"shapedefaults\":{\"line\":{\"color\":\"#2a3f5f\"}},\"ternary\":{\"aaxis\":{\"gridcolor\":\"white\",\"linecolor\":\"white\",\"ticks\":\"\"},\"baxis\":{\"gridcolor\":\"white\",\"linecolor\":\"white\",\"ticks\":\"\"},\"bgcolor\":\"#E5ECF6\",\"caxis\":{\"gridcolor\":\"white\",\"linecolor\":\"white\",\"ticks\":\"\"}},\"title\":{\"x\":0.05},\"xaxis\":{\"automargin\":true,\"gridcolor\":\"white\",\"linecolor\":\"white\",\"ticks\":\"\",\"title\":{\"standoff\":15},\"zerolinecolor\":\"white\",\"zerolinewidth\":2},\"yaxis\":{\"automargin\":true,\"gridcolor\":\"white\",\"linecolor\":\"white\",\"ticks\":\"\",\"title\":{\"standoff\":15},\"zerolinecolor\":\"white\",\"zerolinewidth\":2}}},\"title\":{\"text\":\"Historical Candlestick BTC\"},\"yaxis\":{\"title\":{\"text\":\"$\"}}},                        {\"showLink\": true, \"linkText\": \"Export to plot.ly\", \"plotlyServerURL\": \"https://plot.ly\", \"responsive\": true}                    ).then(function(){\n",
       "                            \n",
       "var gd = document.getElementById('050b13c3-d904-439f-ab0b-ff123c09b69f');\n",
       "var x = new MutationObserver(function (mutations, observer) {{\n",
       "        var display = window.getComputedStyle(gd).display;\n",
       "        if (!display || display === 'none') {{\n",
       "            console.log([gd, 'removed!']);\n",
       "            Plotly.purge(gd);\n",
       "            observer.disconnect();\n",
       "        }}\n",
       "}});\n",
       "\n",
       "// Listen for the removal of the full notebook cells\n",
       "var notebookContainer = gd.closest('#notebook-container');\n",
       "if (notebookContainer) {{\n",
       "    x.observe(notebookContainer, {childList: true});\n",
       "}}\n",
       "\n",
       "// Listen for the clearing of the current output cell\n",
       "var outputEl = gd.closest('.output');\n",
       "if (outputEl) {{\n",
       "    x.observe(outputEl, {childList: true});\n",
       "}}\n",
       "\n",
       "                        })                };                });            </script>        </div>"
      ]
     },
     "metadata": {},
     "output_type": "display_data"
    }
   ],
   "source": [
    "layout = go.Layout(\n",
    "    title = \"Historical Candlestick BTC\",\n",
    "    yaxis_title=\"$\",\n",
    "    annotations=annotations,\n",
    "    hovermode='closest'\n",
    ")\n",
    "data = [go.Candlestick(x=btc.index, \n",
    "open = btc['Open'], \n",
    "high=btc['High'], \n",
    "low=btc['Low'],\n",
    "close=btc['Close']\n",
    ")]\n",
    "btc.iplot(kind='box',data=data,layout=layout)\n"
   ]
  },
  {
   "cell_type": "markdown",
   "metadata": {},
   "source": [
    "<h2 style='color:rgb(240, 213, 36);font-weight:bold'>Part III</h2>\n",
    "<h3>Comparating Bitcoin, Nasdaq and Gold 1 oz</h3>\n"
   ]
  },
  {
   "cell_type": "code",
   "execution_count": 222,
   "metadata": {},
   "outputs": [
    {
     "name": "stdout",
     "output_type": "stream",
     "text": [
      "[*********************100%***********************]  3 of 3 completed\n",
      "\n",
      "1 Failed download:\n",
      "- 1: No data found, symbol may be delisted\n",
      "[*********************100%***********************]  1 of 1 completed\n"
     ]
    }
   ],
   "source": [
    "# importing data from yahoo finance of Nasdaq and Gold 1 oz\n",
    "gold = yf.download('GOLD 1 OZ',start=start,end=end,interval=\"1wk\")\n",
    "nasdaq = yf.download('ndaq',start=start,end=end,interval=\"1wk\")"
   ]
  },
  {
   "cell_type": "code",
   "execution_count": 223,
   "metadata": {},
   "outputs": [],
   "source": [
    "gold = gold['Adj Close']\n",
    "gold = gold['GOLD']"
   ]
  },
  {
   "cell_type": "markdown",
   "metadata": {},
   "source": [
    "Now the intend is normalize this datas"
   ]
  },
  {
   "cell_type": "code",
   "execution_count": 224,
   "metadata": {},
   "outputs": [
    {
     "data": {
      "text/plain": [
       "Date\n",
       "2014-10-31    1.000000\n",
       "2014-11-30    0.827006\n",
       "2014-12-31    0.755991\n",
       "2015-01-31    0.818649\n",
       "2015-02-28    0.859966\n",
       "                ...   \n",
       "2021-07-31    1.555761\n",
       "2021-08-31    1.487218\n",
       "2021-09-30    1.374863\n",
       "2021-10-31    1.407869\n",
       "2021-11-30    1.461946\n",
       "Freq: M, Name: GOLD, Length: 86, dtype: float64"
      ]
     },
     "execution_count": 224,
     "metadata": {},
     "output_type": "execute_result"
    }
   ],
   "source": [
    "gold.fillna(method='bfill',inplace=True)\n",
    "gold=gold.groupby(pd.Grouper(freq='M')).mean()\n",
    "gold_return = gold.pct_change()\n",
    "gold_return.dropna(inplace=True)\n",
    "gold_return_ac = (1+gold_return).cumprod()\n",
    "gold_return_ac.iloc[0]=1\n",
    "gold_return_ac"
   ]
  },
  {
   "cell_type": "code",
   "execution_count": 225,
   "metadata": {},
   "outputs": [
    {
     "data": {
      "text/plain": [
       "Date\n",
       "2014-10-31    1.000000\n",
       "2014-11-30    1.037648\n",
       "2014-12-31    1.115992\n",
       "2015-01-31    1.101587\n",
       "2015-02-28    1.177422\n",
       "                ...   \n",
       "2021-07-31    4.825794\n",
       "2021-08-31    5.087355\n",
       "2021-09-30    5.171647\n",
       "2021-10-31    5.391372\n",
       "2021-11-30    5.652373\n",
       "Freq: M, Name: Adj Close, Length: 86, dtype: float64"
      ]
     },
     "execution_count": 225,
     "metadata": {},
     "output_type": "execute_result"
    }
   ],
   "source": [
    "nasdaq = nasdaq.groupby(pd.Grouper(freq='M')).mean()\n",
    "nasdaq_return = nasdaq.pct_change()\n",
    "nasdaq.fillna(method='bfill',inplace=True)\n",
    "nasdaq_return.dropna(inplace=True)\n",
    "nasdaq_return = nasdaq_return['Adj Close']\n",
    "nasdaq_return_ac = (1+nasdaq_return).cumprod()\n",
    "nasdaq_return_ac.iloc[0]=1\n",
    "nasdaq_return_ac"
   ]
  },
  {
   "cell_type": "code",
   "execution_count": 226,
   "metadata": {},
   "outputs": [],
   "source": [
    "btc = btc.groupby(pd.Grouper(freq='M')).mean() # grouping by month-to-month\n",
    "btc_return_month = btc.pct_change() # making percentage variation for line to line\n",
    "btc_return_month.dropna(inplace=True)\n",
    "btc_return_month = btc_return_month['Adj Close']  # taking just the adjusted close\n",
    "btc_return_month_ac = (1+btc_return_month).cumprod()\n",
    "btc_return_month_ac.iloc[0]=1\n",
    "btc_investment=1000*btc_return_month_ac"
   ]
  },
  {
   "cell_type": "markdown",
   "metadata": {},
   "source": [
    "<h2>Comparating an investment of $1000 between de tickers"
   ]
  },
  {
   "cell_type": "code",
   "execution_count": 227,
   "metadata": {},
   "outputs": [
    {
     "data": {
      "text/html": [
       "<div>\n",
       "<style scoped>\n",
       "    .dataframe tbody tr th:only-of-type {\n",
       "        vertical-align: middle;\n",
       "    }\n",
       "\n",
       "    .dataframe tbody tr th {\n",
       "        vertical-align: top;\n",
       "    }\n",
       "\n",
       "    .dataframe thead th {\n",
       "        text-align: right;\n",
       "    }\n",
       "</style>\n",
       "<table border=\"1\" class=\"dataframe\">\n",
       "  <thead>\n",
       "    <tr style=\"text-align: right;\">\n",
       "      <th></th>\n",
       "      <th>Bitcoin</th>\n",
       "      <th>Nasdaq</th>\n",
       "      <th>Gold</th>\n",
       "    </tr>\n",
       "    <tr>\n",
       "      <th>Date</th>\n",
       "      <th></th>\n",
       "      <th></th>\n",
       "      <th></th>\n",
       "    </tr>\n",
       "  </thead>\n",
       "  <tbody>\n",
       "    <tr>\n",
       "      <th>2014-10-31</th>\n",
       "      <td>1000.000000</td>\n",
       "      <td>1000.000000</td>\n",
       "      <td>1000.000000</td>\n",
       "    </tr>\n",
       "    <tr>\n",
       "      <th>2014-11-30</th>\n",
       "      <td>1072.656786</td>\n",
       "      <td>1037.648102</td>\n",
       "      <td>827.006487</td>\n",
       "    </tr>\n",
       "    <tr>\n",
       "      <th>2014-12-31</th>\n",
       "      <td>933.940083</td>\n",
       "      <td>1115.991771</td>\n",
       "      <td>755.991395</td>\n",
       "    </tr>\n",
       "    <tr>\n",
       "      <th>2015-01-31</th>\n",
       "      <td>685.610820</td>\n",
       "      <td>1101.586672</td>\n",
       "      <td>818.649112</td>\n",
       "    </tr>\n",
       "    <tr>\n",
       "      <th>2015-02-28</th>\n",
       "      <td>683.981868</td>\n",
       "      <td>1177.422106</td>\n",
       "      <td>859.965780</td>\n",
       "    </tr>\n",
       "    <tr>\n",
       "      <th>...</th>\n",
       "      <td>...</td>\n",
       "      <td>...</td>\n",
       "      <td>...</td>\n",
       "    </tr>\n",
       "    <tr>\n",
       "      <th>2021-07-31</th>\n",
       "      <td>101307.081608</td>\n",
       "      <td>4825.794149</td>\n",
       "      <td>1555.760701</td>\n",
       "    </tr>\n",
       "    <tr>\n",
       "      <th>2021-08-31</th>\n",
       "      <td>138026.726639</td>\n",
       "      <td>5087.355495</td>\n",
       "      <td>1487.218023</td>\n",
       "    </tr>\n",
       "    <tr>\n",
       "      <th>2021-09-30</th>\n",
       "      <td>132388.104439</td>\n",
       "      <td>5171.646828</td>\n",
       "      <td>1374.863183</td>\n",
       "    </tr>\n",
       "    <tr>\n",
       "      <th>2021-10-31</th>\n",
       "      <td>170974.675770</td>\n",
       "      <td>5391.372469</td>\n",
       "      <td>1407.868823</td>\n",
       "    </tr>\n",
       "    <tr>\n",
       "      <th>2021-11-30</th>\n",
       "      <td>187610.008757</td>\n",
       "      <td>5652.372853</td>\n",
       "      <td>1461.945932</td>\n",
       "    </tr>\n",
       "  </tbody>\n",
       "</table>\n",
       "<p>86 rows × 3 columns</p>\n",
       "</div>"
      ],
      "text/plain": [
       "                  Bitcoin       Nasdaq         Gold\n",
       "Date                                               \n",
       "2014-10-31    1000.000000  1000.000000  1000.000000\n",
       "2014-11-30    1072.656786  1037.648102   827.006487\n",
       "2014-12-31     933.940083  1115.991771   755.991395\n",
       "2015-01-31     685.610820  1101.586672   818.649112\n",
       "2015-02-28     683.981868  1177.422106   859.965780\n",
       "...                   ...          ...          ...\n",
       "2021-07-31  101307.081608  4825.794149  1555.760701\n",
       "2021-08-31  138026.726639  5087.355495  1487.218023\n",
       "2021-09-30  132388.104439  5171.646828  1374.863183\n",
       "2021-10-31  170974.675770  5391.372469  1407.868823\n",
       "2021-11-30  187610.008757  5652.372853  1461.945932\n",
       "\n",
       "[86 rows x 3 columns]"
      ]
     },
     "execution_count": 227,
     "metadata": {},
     "output_type": "execute_result"
    }
   ],
   "source": [
    "gold_investment = 1000*gold_return_ac\n",
    "nasdaq_investment = 1000*nasdaq_return_ac\n",
    "comparing = pd.DataFrame(data=[btc_investment,nasdaq_investment,gold_investment])\n",
    "comparing = comparing.T\n",
    "comparing.columns = ['Bitcoin','Nasdaq','Gold']\n",
    "comparing.dropna(inplace=True)\n",
    "comparing"
   ]
  },
  {
   "cell_type": "code",
   "execution_count": 228,
   "metadata": {},
   "outputs": [
    {
     "data": {
      "application/vnd.plotly.v1+json": {
       "config": {
        "linkText": "Export to plot.ly",
        "plotlyServerURL": "https://plot.ly",
        "showLink": true
       },
       "data": [
        {
         "line": {
          "color": "rgba(255, 153, 51, 1.0)",
          "dash": "solid",
          "shape": "linear",
          "width": 1.3
         },
         "mode": "lines",
         "name": "Bitcoin",
         "text": "",
         "type": "scatter",
         "x": [
          "2014-10-31",
          "2014-11-30",
          "2014-12-31",
          "2015-01-31",
          "2015-02-28",
          "2015-03-31",
          "2015-04-30",
          "2015-05-31",
          "2015-06-30",
          "2015-07-31",
          "2015-08-31",
          "2015-09-30",
          "2015-10-31",
          "2015-11-30",
          "2015-12-31",
          "2016-01-31",
          "2016-02-29",
          "2016-03-31",
          "2016-04-30",
          "2016-05-31",
          "2016-06-30",
          "2016-07-31",
          "2016-08-31",
          "2016-09-30",
          "2016-10-31",
          "2016-11-30",
          "2016-12-31",
          "2017-01-31",
          "2017-02-28",
          "2017-03-31",
          "2017-04-30",
          "2017-05-31",
          "2017-06-30",
          "2017-07-31",
          "2017-08-31",
          "2017-09-30",
          "2017-10-31",
          "2017-11-30",
          "2017-12-31",
          "2018-01-31",
          "2018-02-28",
          "2018-03-31",
          "2018-04-30",
          "2018-05-31",
          "2018-06-30",
          "2018-07-31",
          "2018-08-31",
          "2018-09-30",
          "2018-10-31",
          "2018-11-30",
          "2018-12-31",
          "2019-01-31",
          "2019-02-28",
          "2019-03-31",
          "2019-04-30",
          "2019-05-31",
          "2019-06-30",
          "2019-07-31",
          "2019-08-31",
          "2019-09-30",
          "2019-10-31",
          "2019-11-30",
          "2019-12-31",
          "2020-01-31",
          "2020-02-29",
          "2020-03-31",
          "2020-04-30",
          "2020-05-31",
          "2020-06-30",
          "2020-07-31",
          "2020-08-31",
          "2020-09-30",
          "2020-10-31",
          "2020-11-30",
          "2020-12-31",
          "2021-01-31",
          "2021-02-28",
          "2021-03-31",
          "2021-04-30",
          "2021-05-31",
          "2021-06-30",
          "2021-07-31",
          "2021-08-31",
          "2021-09-30",
          "2021-10-31",
          "2021-11-30"
         ],
         "y": [
          1000,
          1072.6567855858593,
          933.9400826850249,
          685.610820237076,
          683.9818682920989,
          763.6721539673426,
          658.2720630126778,
          679.5565656088925,
          700.1907580979897,
          831.1566442373936,
          699.6564289669392,
          668.4477747053736,
          801.0738174920331,
          1019.4467057234293,
          1239.2835533328994,
          1148.092775507799,
          1183.2510269579495,
          1200.7385725244037,
          1260.8683148004195,
          1408.4452416743823,
          1952.5807062996703,
          1873.8846691875078,
          1678.1164887195255,
          1740.2481915466567,
          1908.4895292564634,
          2106.207439360239,
          2475.858937424335,
          2639.853916152955,
          3210.139524910812,
          3100.9536855119754,
          3530.1514889003925,
          5798.802000127807,
          7598.12000198233,
          7539.027726388383,
          12273.885955167661,
          11317.61763514459,
          17118.380308861804,
          24824.965196521593,
          44918.45280489985,
          35495.947600944935,
          28565.009118430404,
          23751.431057531896,
          24784.020218057605,
          23166.17256305337,
          18521.336444822104,
          20547.176160342296,
          19212.473272717583,
          18743.419094942023,
          18483.110745768314,
          14465.327547239096,
          10783.363213417719,
          10177.819300453906,
          10765.243840428402,
          11541.213192809231,
          15343.180681218679,
          23352.91297907845,
          27487.162134410373,
          30287.93832404153,
          29931.500735786223,
          26918.3478094312,
          25319.341111005488,
          23008.546038024146,
          21248.492842186297,
          24968.026027888525,
          27618.298517899108,
          18371.375271362584,
          22028.270480469735,
          26285.702538179277,
          26754.992846407284,
          28251.115533113774,
          32808.3620203868,
          30615.904626462336,
          35571.49478878409,
          50066.72667615811,
          72864.63112337056,
          100009.49928175379,
          136377.30937870138,
          162101.4039797761,
          159136.6933487137,
          120970.14980225425,
          103723.2672171857,
          101307.08160843221,
          138026.7266394158,
          132388.10443856046,
          170974.67577006476,
          187610.00875734983
         ]
        },
        {
         "line": {
          "color": "rgba(55, 128, 191, 1.0)",
          "dash": "solid",
          "shape": "linear",
          "width": 1.3
         },
         "mode": "lines",
         "name": "Nasdaq",
         "text": "",
         "type": "scatter",
         "x": [
          "2014-10-31",
          "2014-11-30",
          "2014-12-31",
          "2015-01-31",
          "2015-02-28",
          "2015-03-31",
          "2015-04-30",
          "2015-05-31",
          "2015-06-30",
          "2015-07-31",
          "2015-08-31",
          "2015-09-30",
          "2015-10-31",
          "2015-11-30",
          "2015-12-31",
          "2016-01-31",
          "2016-02-29",
          "2016-03-31",
          "2016-04-30",
          "2016-05-31",
          "2016-06-30",
          "2016-07-31",
          "2016-08-31",
          "2016-09-30",
          "2016-10-31",
          "2016-11-30",
          "2016-12-31",
          "2017-01-31",
          "2017-02-28",
          "2017-03-31",
          "2017-04-30",
          "2017-05-31",
          "2017-06-30",
          "2017-07-31",
          "2017-08-31",
          "2017-09-30",
          "2017-10-31",
          "2017-11-30",
          "2017-12-31",
          "2018-01-31",
          "2018-02-28",
          "2018-03-31",
          "2018-04-30",
          "2018-05-31",
          "2018-06-30",
          "2018-07-31",
          "2018-08-31",
          "2018-09-30",
          "2018-10-31",
          "2018-11-30",
          "2018-12-31",
          "2019-01-31",
          "2019-02-28",
          "2019-03-31",
          "2019-04-30",
          "2019-05-31",
          "2019-06-30",
          "2019-07-31",
          "2019-08-31",
          "2019-09-30",
          "2019-10-31",
          "2019-11-30",
          "2019-12-31",
          "2020-01-31",
          "2020-02-29",
          "2020-03-31",
          "2020-04-30",
          "2020-05-31",
          "2020-06-30",
          "2020-07-31",
          "2020-08-31",
          "2020-09-30",
          "2020-10-31",
          "2020-11-30",
          "2020-12-31",
          "2021-01-31",
          "2021-02-28",
          "2021-03-31",
          "2021-04-30",
          "2021-05-31",
          "2021-06-30",
          "2021-07-31",
          "2021-08-31",
          "2021-09-30",
          "2021-10-31",
          "2021-11-30"
         ],
         "y": [
          1000,
          1037.6481019726937,
          1115.9917710882578,
          1101.5866722509472,
          1177.4221057682214,
          1183.882177350757,
          1163.6147134044213,
          1218.1664087280114,
          1187.907053740799,
          1219.1030320050602,
          1238.0155987033763,
          1241.953853903383,
          1340.9670916474472,
          1397.179411429782,
          1359.1438138691967,
          1391.05531355655,
          1498.452611218568,
          1566.816268047094,
          1527.3513499329922,
          1550.617452052385,
          1553.7696731412711,
          1644.6917825567007,
          1712.453553819214,
          1669.777380502269,
          1600.3119781199937,
          1591.1005693291686,
          1650.2417693659647,
          1671.2740832236127,
          1732.5374720228745,
          1720.0437077354438,
          1693.135493574632,
          1658.0230471126058,
          1740.3241091390516,
          1799.6991053398763,
          1858.8942840550944,
          1873.362859508331,
          1813.8035475986974,
          1896.277406235347,
          1920.6082854029405,
          2004.526914571446,
          1968.8606446399608,
          2105.817357549172,
          2176.921359306316,
          2286.005136079355,
          2350.413461682634,
          2339.5383688307966,
          2358.5030703412676,
          2268.971053731072,
          2105.295219199226,
          2262.4928018297624,
          2106.978203069246,
          2138.05892956066,
          2258.2539862970334,
          2152.9803160184147,
          2288.1013891404773,
          2318.6702907756826,
          2470.5706279803244,
          2580.005438392374,
          2522.142756989366,
          2590.995853934991,
          2548.188482441326,
          2663.040176832852,
          2757.2241667244125,
          2865.3828697124072,
          2900.5837457717694,
          2465.7570124665604,
          2804.8243747773663,
          2948.248043374216,
          3075.0369685055457,
          3350.1981750992113,
          3416.3807458216133,
          3245.3476822600987,
          3302.9931217709513,
          3343.4648719161305,
          3391.790580558514,
          3647.7387715636073,
          3731.6730837265195,
          3883.3688530868108,
          4226.058207008228,
          4385.152540422206,
          4662.494058090294,
          4825.794149148921,
          5087.355494579638,
          5171.646827881361,
          5391.372468685675,
          5652.372853263496
         ]
        },
        {
         "line": {
          "color": "rgba(50, 171, 96, 1.0)",
          "dash": "solid",
          "shape": "linear",
          "width": 1.3
         },
         "mode": "lines",
         "name": "Gold",
         "text": "",
         "type": "scatter",
         "x": [
          "2014-10-31",
          "2014-11-30",
          "2014-12-31",
          "2015-01-31",
          "2015-02-28",
          "2015-03-31",
          "2015-04-30",
          "2015-05-31",
          "2015-06-30",
          "2015-07-31",
          "2015-08-31",
          "2015-09-30",
          "2015-10-31",
          "2015-11-30",
          "2015-12-31",
          "2016-01-31",
          "2016-02-29",
          "2016-03-31",
          "2016-04-30",
          "2016-05-31",
          "2016-06-30",
          "2016-07-31",
          "2016-08-31",
          "2016-09-30",
          "2016-10-31",
          "2016-11-30",
          "2016-12-31",
          "2017-01-31",
          "2017-02-28",
          "2017-03-31",
          "2017-04-30",
          "2017-05-31",
          "2017-06-30",
          "2017-07-31",
          "2017-08-31",
          "2017-09-30",
          "2017-10-31",
          "2017-11-30",
          "2017-12-31",
          "2018-01-31",
          "2018-02-28",
          "2018-03-31",
          "2018-04-30",
          "2018-05-31",
          "2018-06-30",
          "2018-07-31",
          "2018-08-31",
          "2018-09-30",
          "2018-10-31",
          "2018-11-30",
          "2018-12-31",
          "2019-01-31",
          "2019-02-28",
          "2019-03-31",
          "2019-04-30",
          "2019-05-31",
          "2019-06-30",
          "2019-07-31",
          "2019-08-31",
          "2019-09-30",
          "2019-10-31",
          "2019-11-30",
          "2019-12-31",
          "2020-01-31",
          "2020-02-29",
          "2020-03-31",
          "2020-04-30",
          "2020-05-31",
          "2020-06-30",
          "2020-07-31",
          "2020-08-31",
          "2020-09-30",
          "2020-10-31",
          "2020-11-30",
          "2020-12-31",
          "2021-01-31",
          "2021-02-28",
          "2021-03-31",
          "2021-04-30",
          "2021-05-31",
          "2021-06-30",
          "2021-07-31",
          "2021-08-31",
          "2021-09-30",
          "2021-10-31",
          "2021-11-30"
         ],
         "y": [
          1000,
          827.0064874633634,
          755.9913948156488,
          818.6491115366961,
          859.9657797173246,
          770.8012149918228,
          874.7105659204055,
          857.3979958937367,
          766.9452143282876,
          571.6971099876888,
          490.2636121956429,
          453.0947581799649,
          533.5605799728653,
          511.14044585314434,
          522.544239284617,
          602.7092100412028,
          882.6167693256178,
          969.3049783550862,
          1149.814266387263,
          1260.997036784012,
          1430.4847469102554,
          1495.2383821439655,
          1388.5422552238272,
          1228.7184192216885,
          1163.580733213322,
          1052.3182219537484,
          1048.6992245076613,
          1220.0133916278644,
          1332.863272446929,
          1311.5670772526782,
          1305.8154385281534,
          1147.2754979944928,
          1124.5283925486897,
          1131.6527904998404,
          1203.629550128514,
          1181.7133501640383,
          1091.0384145382463,
          983.3617951069558,
          992.9854893681104,
          1022.6786143755348,
          875.7203086035412,
          862.5881230786348,
          931.293010539096,
          933.5773728579604,
          915.7825342186824,
          858.8630404088425,
          734.9153903919873,
          736.6441345971704,
          892.0970118374282,
          914.667958264728,
          942.8554759577506,
          884.8473652473673,
          923.8141498702844,
          948.5464613587234,
          935.48641250553,
          885.0431109265116,
          1049.9825473499611,
          1192.4916544180392,
          1339.9283982536117,
          1273.8894911145853,
          1223.655265667604,
          1184.8345718538092,
          1275.5617871826635,
          1310.4078826937223,
          1406.5846817731385,
          1324.601493081858,
          1819.76082435976,
          1903.8355426152318,
          1791.011988373626,
          2018.662242815267,
          2078.043470791833,
          2068.3278895908447,
          1976.5268436837953,
          1797.5846129868635,
          1669.6822251926073,
          1689.6783313345954,
          1507.5312790825635,
          1482.7984589882647,
          1587.0429491685081,
          1754.2478607314335,
          1579.1736428066029,
          1555.7607011562145,
          1487.2180233982886,
          1374.8631832452857,
          1407.8688226528357,
          1461.9459317115186
         ]
        }
       ],
       "layout": {
        "legend": {
         "bgcolor": "#F5F6F9",
         "font": {
          "color": "#4D5663"
         }
        },
        "paper_bgcolor": "#F5F6F9",
        "plot_bgcolor": "#F5F6F9",
        "template": {
         "data": {
          "bar": [
           {
            "error_x": {
             "color": "#2a3f5f"
            },
            "error_y": {
             "color": "#2a3f5f"
            },
            "marker": {
             "line": {
              "color": "#E5ECF6",
              "width": 0.5
             },
             "pattern": {
              "fillmode": "overlay",
              "size": 10,
              "solidity": 0.2
             }
            },
            "type": "bar"
           }
          ],
          "barpolar": [
           {
            "marker": {
             "line": {
              "color": "#E5ECF6",
              "width": 0.5
             },
             "pattern": {
              "fillmode": "overlay",
              "size": 10,
              "solidity": 0.2
             }
            },
            "type": "barpolar"
           }
          ],
          "carpet": [
           {
            "aaxis": {
             "endlinecolor": "#2a3f5f",
             "gridcolor": "white",
             "linecolor": "white",
             "minorgridcolor": "white",
             "startlinecolor": "#2a3f5f"
            },
            "baxis": {
             "endlinecolor": "#2a3f5f",
             "gridcolor": "white",
             "linecolor": "white",
             "minorgridcolor": "white",
             "startlinecolor": "#2a3f5f"
            },
            "type": "carpet"
           }
          ],
          "choropleth": [
           {
            "colorbar": {
             "outlinewidth": 0,
             "ticks": ""
            },
            "type": "choropleth"
           }
          ],
          "contour": [
           {
            "colorbar": {
             "outlinewidth": 0,
             "ticks": ""
            },
            "colorscale": [
             [
              0,
              "#0d0887"
             ],
             [
              0.1111111111111111,
              "#46039f"
             ],
             [
              0.2222222222222222,
              "#7201a8"
             ],
             [
              0.3333333333333333,
              "#9c179e"
             ],
             [
              0.4444444444444444,
              "#bd3786"
             ],
             [
              0.5555555555555556,
              "#d8576b"
             ],
             [
              0.6666666666666666,
              "#ed7953"
             ],
             [
              0.7777777777777778,
              "#fb9f3a"
             ],
             [
              0.8888888888888888,
              "#fdca26"
             ],
             [
              1,
              "#f0f921"
             ]
            ],
            "type": "contour"
           }
          ],
          "contourcarpet": [
           {
            "colorbar": {
             "outlinewidth": 0,
             "ticks": ""
            },
            "type": "contourcarpet"
           }
          ],
          "heatmap": [
           {
            "colorbar": {
             "outlinewidth": 0,
             "ticks": ""
            },
            "colorscale": [
             [
              0,
              "#0d0887"
             ],
             [
              0.1111111111111111,
              "#46039f"
             ],
             [
              0.2222222222222222,
              "#7201a8"
             ],
             [
              0.3333333333333333,
              "#9c179e"
             ],
             [
              0.4444444444444444,
              "#bd3786"
             ],
             [
              0.5555555555555556,
              "#d8576b"
             ],
             [
              0.6666666666666666,
              "#ed7953"
             ],
             [
              0.7777777777777778,
              "#fb9f3a"
             ],
             [
              0.8888888888888888,
              "#fdca26"
             ],
             [
              1,
              "#f0f921"
             ]
            ],
            "type": "heatmap"
           }
          ],
          "heatmapgl": [
           {
            "colorbar": {
             "outlinewidth": 0,
             "ticks": ""
            },
            "colorscale": [
             [
              0,
              "#0d0887"
             ],
             [
              0.1111111111111111,
              "#46039f"
             ],
             [
              0.2222222222222222,
              "#7201a8"
             ],
             [
              0.3333333333333333,
              "#9c179e"
             ],
             [
              0.4444444444444444,
              "#bd3786"
             ],
             [
              0.5555555555555556,
              "#d8576b"
             ],
             [
              0.6666666666666666,
              "#ed7953"
             ],
             [
              0.7777777777777778,
              "#fb9f3a"
             ],
             [
              0.8888888888888888,
              "#fdca26"
             ],
             [
              1,
              "#f0f921"
             ]
            ],
            "type": "heatmapgl"
           }
          ],
          "histogram": [
           {
            "marker": {
             "pattern": {
              "fillmode": "overlay",
              "size": 10,
              "solidity": 0.2
             }
            },
            "type": "histogram"
           }
          ],
          "histogram2d": [
           {
            "colorbar": {
             "outlinewidth": 0,
             "ticks": ""
            },
            "colorscale": [
             [
              0,
              "#0d0887"
             ],
             [
              0.1111111111111111,
              "#46039f"
             ],
             [
              0.2222222222222222,
              "#7201a8"
             ],
             [
              0.3333333333333333,
              "#9c179e"
             ],
             [
              0.4444444444444444,
              "#bd3786"
             ],
             [
              0.5555555555555556,
              "#d8576b"
             ],
             [
              0.6666666666666666,
              "#ed7953"
             ],
             [
              0.7777777777777778,
              "#fb9f3a"
             ],
             [
              0.8888888888888888,
              "#fdca26"
             ],
             [
              1,
              "#f0f921"
             ]
            ],
            "type": "histogram2d"
           }
          ],
          "histogram2dcontour": [
           {
            "colorbar": {
             "outlinewidth": 0,
             "ticks": ""
            },
            "colorscale": [
             [
              0,
              "#0d0887"
             ],
             [
              0.1111111111111111,
              "#46039f"
             ],
             [
              0.2222222222222222,
              "#7201a8"
             ],
             [
              0.3333333333333333,
              "#9c179e"
             ],
             [
              0.4444444444444444,
              "#bd3786"
             ],
             [
              0.5555555555555556,
              "#d8576b"
             ],
             [
              0.6666666666666666,
              "#ed7953"
             ],
             [
              0.7777777777777778,
              "#fb9f3a"
             ],
             [
              0.8888888888888888,
              "#fdca26"
             ],
             [
              1,
              "#f0f921"
             ]
            ],
            "type": "histogram2dcontour"
           }
          ],
          "mesh3d": [
           {
            "colorbar": {
             "outlinewidth": 0,
             "ticks": ""
            },
            "type": "mesh3d"
           }
          ],
          "parcoords": [
           {
            "line": {
             "colorbar": {
              "outlinewidth": 0,
              "ticks": ""
             }
            },
            "type": "parcoords"
           }
          ],
          "pie": [
           {
            "automargin": true,
            "type": "pie"
           }
          ],
          "scatter": [
           {
            "marker": {
             "colorbar": {
              "outlinewidth": 0,
              "ticks": ""
             }
            },
            "type": "scatter"
           }
          ],
          "scatter3d": [
           {
            "line": {
             "colorbar": {
              "outlinewidth": 0,
              "ticks": ""
             }
            },
            "marker": {
             "colorbar": {
              "outlinewidth": 0,
              "ticks": ""
             }
            },
            "type": "scatter3d"
           }
          ],
          "scattercarpet": [
           {
            "marker": {
             "colorbar": {
              "outlinewidth": 0,
              "ticks": ""
             }
            },
            "type": "scattercarpet"
           }
          ],
          "scattergeo": [
           {
            "marker": {
             "colorbar": {
              "outlinewidth": 0,
              "ticks": ""
             }
            },
            "type": "scattergeo"
           }
          ],
          "scattergl": [
           {
            "marker": {
             "colorbar": {
              "outlinewidth": 0,
              "ticks": ""
             }
            },
            "type": "scattergl"
           }
          ],
          "scattermapbox": [
           {
            "marker": {
             "colorbar": {
              "outlinewidth": 0,
              "ticks": ""
             }
            },
            "type": "scattermapbox"
           }
          ],
          "scatterpolar": [
           {
            "marker": {
             "colorbar": {
              "outlinewidth": 0,
              "ticks": ""
             }
            },
            "type": "scatterpolar"
           }
          ],
          "scatterpolargl": [
           {
            "marker": {
             "colorbar": {
              "outlinewidth": 0,
              "ticks": ""
             }
            },
            "type": "scatterpolargl"
           }
          ],
          "scatterternary": [
           {
            "marker": {
             "colorbar": {
              "outlinewidth": 0,
              "ticks": ""
             }
            },
            "type": "scatterternary"
           }
          ],
          "surface": [
           {
            "colorbar": {
             "outlinewidth": 0,
             "ticks": ""
            },
            "colorscale": [
             [
              0,
              "#0d0887"
             ],
             [
              0.1111111111111111,
              "#46039f"
             ],
             [
              0.2222222222222222,
              "#7201a8"
             ],
             [
              0.3333333333333333,
              "#9c179e"
             ],
             [
              0.4444444444444444,
              "#bd3786"
             ],
             [
              0.5555555555555556,
              "#d8576b"
             ],
             [
              0.6666666666666666,
              "#ed7953"
             ],
             [
              0.7777777777777778,
              "#fb9f3a"
             ],
             [
              0.8888888888888888,
              "#fdca26"
             ],
             [
              1,
              "#f0f921"
             ]
            ],
            "type": "surface"
           }
          ],
          "table": [
           {
            "cells": {
             "fill": {
              "color": "#EBF0F8"
             },
             "line": {
              "color": "white"
             }
            },
            "header": {
             "fill": {
              "color": "#C8D4E3"
             },
             "line": {
              "color": "white"
             }
            },
            "type": "table"
           }
          ]
         },
         "layout": {
          "annotationdefaults": {
           "arrowcolor": "#2a3f5f",
           "arrowhead": 0,
           "arrowwidth": 1
          },
          "autotypenumbers": "strict",
          "coloraxis": {
           "colorbar": {
            "outlinewidth": 0,
            "ticks": ""
           }
          },
          "colorscale": {
           "diverging": [
            [
             0,
             "#8e0152"
            ],
            [
             0.1,
             "#c51b7d"
            ],
            [
             0.2,
             "#de77ae"
            ],
            [
             0.3,
             "#f1b6da"
            ],
            [
             0.4,
             "#fde0ef"
            ],
            [
             0.5,
             "#f7f7f7"
            ],
            [
             0.6,
             "#e6f5d0"
            ],
            [
             0.7,
             "#b8e186"
            ],
            [
             0.8,
             "#7fbc41"
            ],
            [
             0.9,
             "#4d9221"
            ],
            [
             1,
             "#276419"
            ]
           ],
           "sequential": [
            [
             0,
             "#0d0887"
            ],
            [
             0.1111111111111111,
             "#46039f"
            ],
            [
             0.2222222222222222,
             "#7201a8"
            ],
            [
             0.3333333333333333,
             "#9c179e"
            ],
            [
             0.4444444444444444,
             "#bd3786"
            ],
            [
             0.5555555555555556,
             "#d8576b"
            ],
            [
             0.6666666666666666,
             "#ed7953"
            ],
            [
             0.7777777777777778,
             "#fb9f3a"
            ],
            [
             0.8888888888888888,
             "#fdca26"
            ],
            [
             1,
             "#f0f921"
            ]
           ],
           "sequentialminus": [
            [
             0,
             "#0d0887"
            ],
            [
             0.1111111111111111,
             "#46039f"
            ],
            [
             0.2222222222222222,
             "#7201a8"
            ],
            [
             0.3333333333333333,
             "#9c179e"
            ],
            [
             0.4444444444444444,
             "#bd3786"
            ],
            [
             0.5555555555555556,
             "#d8576b"
            ],
            [
             0.6666666666666666,
             "#ed7953"
            ],
            [
             0.7777777777777778,
             "#fb9f3a"
            ],
            [
             0.8888888888888888,
             "#fdca26"
            ],
            [
             1,
             "#f0f921"
            ]
           ]
          },
          "colorway": [
           "#636efa",
           "#EF553B",
           "#00cc96",
           "#ab63fa",
           "#FFA15A",
           "#19d3f3",
           "#FF6692",
           "#B6E880",
           "#FF97FF",
           "#FECB52"
          ],
          "font": {
           "color": "#2a3f5f"
          },
          "geo": {
           "bgcolor": "white",
           "lakecolor": "white",
           "landcolor": "#E5ECF6",
           "showlakes": true,
           "showland": true,
           "subunitcolor": "white"
          },
          "hoverlabel": {
           "align": "left"
          },
          "hovermode": "closest",
          "mapbox": {
           "style": "light"
          },
          "paper_bgcolor": "white",
          "plot_bgcolor": "#E5ECF6",
          "polar": {
           "angularaxis": {
            "gridcolor": "white",
            "linecolor": "white",
            "ticks": ""
           },
           "bgcolor": "#E5ECF6",
           "radialaxis": {
            "gridcolor": "white",
            "linecolor": "white",
            "ticks": ""
           }
          },
          "scene": {
           "xaxis": {
            "backgroundcolor": "#E5ECF6",
            "gridcolor": "white",
            "gridwidth": 2,
            "linecolor": "white",
            "showbackground": true,
            "ticks": "",
            "zerolinecolor": "white"
           },
           "yaxis": {
            "backgroundcolor": "#E5ECF6",
            "gridcolor": "white",
            "gridwidth": 2,
            "linecolor": "white",
            "showbackground": true,
            "ticks": "",
            "zerolinecolor": "white"
           },
           "zaxis": {
            "backgroundcolor": "#E5ECF6",
            "gridcolor": "white",
            "gridwidth": 2,
            "linecolor": "white",
            "showbackground": true,
            "ticks": "",
            "zerolinecolor": "white"
           }
          },
          "shapedefaults": {
           "line": {
            "color": "#2a3f5f"
           }
          },
          "ternary": {
           "aaxis": {
            "gridcolor": "white",
            "linecolor": "white",
            "ticks": ""
           },
           "baxis": {
            "gridcolor": "white",
            "linecolor": "white",
            "ticks": ""
           },
           "bgcolor": "#E5ECF6",
           "caxis": {
            "gridcolor": "white",
            "linecolor": "white",
            "ticks": ""
           }
          },
          "title": {
           "x": 0.05
          },
          "xaxis": {
           "automargin": true,
           "gridcolor": "white",
           "linecolor": "white",
           "ticks": "",
           "title": {
            "standoff": 15
           },
           "zerolinecolor": "white",
           "zerolinewidth": 2
          },
          "yaxis": {
           "automargin": true,
           "gridcolor": "white",
           "linecolor": "white",
           "ticks": "",
           "title": {
            "standoff": 15
           },
           "zerolinecolor": "white",
           "zerolinewidth": 2
          }
         }
        },
        "title": {
         "font": {
          "color": "#4D5663"
         }
        },
        "xaxis": {
         "gridcolor": "#E1E5ED",
         "showgrid": true,
         "tickfont": {
          "color": "#4D5663"
         },
         "title": {
          "font": {
           "color": "#4D5663"
          },
          "text": ""
         },
         "zerolinecolor": "#E1E5ED"
        },
        "yaxis": {
         "gridcolor": "#E1E5ED",
         "showgrid": true,
         "tickfont": {
          "color": "#4D5663"
         },
         "title": {
          "font": {
           "color": "#4D5663"
          },
          "text": ""
         },
         "zerolinecolor": "#E1E5ED"
        }
       }
      },
      "text/html": [
       "<div>                            <div id=\"f215bd27-4e27-4f2d-bad5-74bea3be0f54\" class=\"plotly-graph-div\" style=\"height:525px; width:100%;\"></div>            <script type=\"text/javascript\">                require([\"plotly\"], function(Plotly) {                    window.PLOTLYENV=window.PLOTLYENV || {};\n",
       "                    window.PLOTLYENV.BASE_URL='https://plot.ly';                                    if (document.getElementById(\"f215bd27-4e27-4f2d-bad5-74bea3be0f54\")) {                    Plotly.newPlot(                        \"f215bd27-4e27-4f2d-bad5-74bea3be0f54\",                        [{\"line\":{\"color\":\"rgba(255, 153, 51, 1.0)\",\"dash\":\"solid\",\"shape\":\"linear\",\"width\":1.3},\"mode\":\"lines\",\"name\":\"Bitcoin\",\"text\":\"\",\"type\":\"scatter\",\"x\":[\"2014-10-31\",\"2014-11-30\",\"2014-12-31\",\"2015-01-31\",\"2015-02-28\",\"2015-03-31\",\"2015-04-30\",\"2015-05-31\",\"2015-06-30\",\"2015-07-31\",\"2015-08-31\",\"2015-09-30\",\"2015-10-31\",\"2015-11-30\",\"2015-12-31\",\"2016-01-31\",\"2016-02-29\",\"2016-03-31\",\"2016-04-30\",\"2016-05-31\",\"2016-06-30\",\"2016-07-31\",\"2016-08-31\",\"2016-09-30\",\"2016-10-31\",\"2016-11-30\",\"2016-12-31\",\"2017-01-31\",\"2017-02-28\",\"2017-03-31\",\"2017-04-30\",\"2017-05-31\",\"2017-06-30\",\"2017-07-31\",\"2017-08-31\",\"2017-09-30\",\"2017-10-31\",\"2017-11-30\",\"2017-12-31\",\"2018-01-31\",\"2018-02-28\",\"2018-03-31\",\"2018-04-30\",\"2018-05-31\",\"2018-06-30\",\"2018-07-31\",\"2018-08-31\",\"2018-09-30\",\"2018-10-31\",\"2018-11-30\",\"2018-12-31\",\"2019-01-31\",\"2019-02-28\",\"2019-03-31\",\"2019-04-30\",\"2019-05-31\",\"2019-06-30\",\"2019-07-31\",\"2019-08-31\",\"2019-09-30\",\"2019-10-31\",\"2019-11-30\",\"2019-12-31\",\"2020-01-31\",\"2020-02-29\",\"2020-03-31\",\"2020-04-30\",\"2020-05-31\",\"2020-06-30\",\"2020-07-31\",\"2020-08-31\",\"2020-09-30\",\"2020-10-31\",\"2020-11-30\",\"2020-12-31\",\"2021-01-31\",\"2021-02-28\",\"2021-03-31\",\"2021-04-30\",\"2021-05-31\",\"2021-06-30\",\"2021-07-31\",\"2021-08-31\",\"2021-09-30\",\"2021-10-31\",\"2021-11-30\"],\"y\":[1000.0,1072.6567855858593,933.9400826850249,685.610820237076,683.9818682920989,763.6721539673426,658.2720630126778,679.5565656088925,700.1907580979897,831.1566442373936,699.6564289669392,668.4477747053736,801.0738174920331,1019.4467057234293,1239.2835533328994,1148.092775507799,1183.2510269579495,1200.7385725244037,1260.8683148004195,1408.4452416743823,1952.5807062996703,1873.8846691875078,1678.1164887195255,1740.2481915466567,1908.4895292564634,2106.207439360239,2475.858937424335,2639.853916152955,3210.139524910812,3100.9536855119754,3530.1514889003925,5798.802000127807,7598.12000198233,7539.027726388383,12273.885955167661,11317.61763514459,17118.380308861804,24824.965196521593,44918.45280489985,35495.947600944935,28565.009118430404,23751.431057531896,24784.020218057605,23166.17256305337,18521.336444822104,20547.176160342296,19212.473272717583,18743.419094942023,18483.110745768314,14465.327547239096,10783.363213417719,10177.819300453906,10765.243840428402,11541.213192809231,15343.180681218679,23352.91297907845,27487.162134410373,30287.93832404153,29931.500735786223,26918.3478094312,25319.341111005488,23008.546038024146,21248.492842186297,24968.026027888525,27618.298517899108,18371.375271362584,22028.270480469735,26285.702538179277,26754.992846407284,28251.115533113774,32808.3620203868,30615.904626462336,35571.49478878409,50066.72667615811,72864.63112337056,100009.49928175379,136377.30937870138,162101.4039797761,159136.6933487137,120970.14980225425,103723.2672171857,101307.08160843221,138026.7266394158,132388.10443856046,170974.67577006476,187610.00875734983]},{\"line\":{\"color\":\"rgba(55, 128, 191, 1.0)\",\"dash\":\"solid\",\"shape\":\"linear\",\"width\":1.3},\"mode\":\"lines\",\"name\":\"Nasdaq\",\"text\":\"\",\"type\":\"scatter\",\"x\":[\"2014-10-31\",\"2014-11-30\",\"2014-12-31\",\"2015-01-31\",\"2015-02-28\",\"2015-03-31\",\"2015-04-30\",\"2015-05-31\",\"2015-06-30\",\"2015-07-31\",\"2015-08-31\",\"2015-09-30\",\"2015-10-31\",\"2015-11-30\",\"2015-12-31\",\"2016-01-31\",\"2016-02-29\",\"2016-03-31\",\"2016-04-30\",\"2016-05-31\",\"2016-06-30\",\"2016-07-31\",\"2016-08-31\",\"2016-09-30\",\"2016-10-31\",\"2016-11-30\",\"2016-12-31\",\"2017-01-31\",\"2017-02-28\",\"2017-03-31\",\"2017-04-30\",\"2017-05-31\",\"2017-06-30\",\"2017-07-31\",\"2017-08-31\",\"2017-09-30\",\"2017-10-31\",\"2017-11-30\",\"2017-12-31\",\"2018-01-31\",\"2018-02-28\",\"2018-03-31\",\"2018-04-30\",\"2018-05-31\",\"2018-06-30\",\"2018-07-31\",\"2018-08-31\",\"2018-09-30\",\"2018-10-31\",\"2018-11-30\",\"2018-12-31\",\"2019-01-31\",\"2019-02-28\",\"2019-03-31\",\"2019-04-30\",\"2019-05-31\",\"2019-06-30\",\"2019-07-31\",\"2019-08-31\",\"2019-09-30\",\"2019-10-31\",\"2019-11-30\",\"2019-12-31\",\"2020-01-31\",\"2020-02-29\",\"2020-03-31\",\"2020-04-30\",\"2020-05-31\",\"2020-06-30\",\"2020-07-31\",\"2020-08-31\",\"2020-09-30\",\"2020-10-31\",\"2020-11-30\",\"2020-12-31\",\"2021-01-31\",\"2021-02-28\",\"2021-03-31\",\"2021-04-30\",\"2021-05-31\",\"2021-06-30\",\"2021-07-31\",\"2021-08-31\",\"2021-09-30\",\"2021-10-31\",\"2021-11-30\"],\"y\":[1000.0,1037.6481019726937,1115.9917710882578,1101.5866722509472,1177.4221057682214,1183.882177350757,1163.6147134044213,1218.1664087280114,1187.907053740799,1219.1030320050602,1238.0155987033763,1241.953853903383,1340.9670916474472,1397.179411429782,1359.1438138691967,1391.05531355655,1498.452611218568,1566.816268047094,1527.3513499329922,1550.617452052385,1553.7696731412711,1644.6917825567007,1712.453553819214,1669.777380502269,1600.3119781199937,1591.1005693291686,1650.2417693659647,1671.2740832236127,1732.5374720228745,1720.0437077354438,1693.135493574632,1658.0230471126058,1740.3241091390516,1799.6991053398763,1858.8942840550944,1873.362859508331,1813.8035475986974,1896.277406235347,1920.6082854029405,2004.526914571446,1968.8606446399608,2105.817357549172,2176.921359306316,2286.005136079355,2350.413461682634,2339.5383688307966,2358.5030703412676,2268.971053731072,2105.295219199226,2262.4928018297624,2106.978203069246,2138.05892956066,2258.2539862970334,2152.9803160184147,2288.1013891404773,2318.6702907756826,2470.5706279803244,2580.005438392374,2522.142756989366,2590.995853934991,2548.188482441326,2663.040176832852,2757.2241667244125,2865.3828697124072,2900.5837457717694,2465.7570124665604,2804.8243747773663,2948.248043374216,3075.0369685055457,3350.1981750992113,3416.3807458216133,3245.3476822600987,3302.9931217709513,3343.4648719161305,3391.790580558514,3647.7387715636073,3731.6730837265195,3883.3688530868108,4226.058207008228,4385.152540422206,4662.494058090294,4825.794149148921,5087.355494579638,5171.646827881361,5391.372468685675,5652.372853263496]},{\"line\":{\"color\":\"rgba(50, 171, 96, 1.0)\",\"dash\":\"solid\",\"shape\":\"linear\",\"width\":1.3},\"mode\":\"lines\",\"name\":\"Gold\",\"text\":\"\",\"type\":\"scatter\",\"x\":[\"2014-10-31\",\"2014-11-30\",\"2014-12-31\",\"2015-01-31\",\"2015-02-28\",\"2015-03-31\",\"2015-04-30\",\"2015-05-31\",\"2015-06-30\",\"2015-07-31\",\"2015-08-31\",\"2015-09-30\",\"2015-10-31\",\"2015-11-30\",\"2015-12-31\",\"2016-01-31\",\"2016-02-29\",\"2016-03-31\",\"2016-04-30\",\"2016-05-31\",\"2016-06-30\",\"2016-07-31\",\"2016-08-31\",\"2016-09-30\",\"2016-10-31\",\"2016-11-30\",\"2016-12-31\",\"2017-01-31\",\"2017-02-28\",\"2017-03-31\",\"2017-04-30\",\"2017-05-31\",\"2017-06-30\",\"2017-07-31\",\"2017-08-31\",\"2017-09-30\",\"2017-10-31\",\"2017-11-30\",\"2017-12-31\",\"2018-01-31\",\"2018-02-28\",\"2018-03-31\",\"2018-04-30\",\"2018-05-31\",\"2018-06-30\",\"2018-07-31\",\"2018-08-31\",\"2018-09-30\",\"2018-10-31\",\"2018-11-30\",\"2018-12-31\",\"2019-01-31\",\"2019-02-28\",\"2019-03-31\",\"2019-04-30\",\"2019-05-31\",\"2019-06-30\",\"2019-07-31\",\"2019-08-31\",\"2019-09-30\",\"2019-10-31\",\"2019-11-30\",\"2019-12-31\",\"2020-01-31\",\"2020-02-29\",\"2020-03-31\",\"2020-04-30\",\"2020-05-31\",\"2020-06-30\",\"2020-07-31\",\"2020-08-31\",\"2020-09-30\",\"2020-10-31\",\"2020-11-30\",\"2020-12-31\",\"2021-01-31\",\"2021-02-28\",\"2021-03-31\",\"2021-04-30\",\"2021-05-31\",\"2021-06-30\",\"2021-07-31\",\"2021-08-31\",\"2021-09-30\",\"2021-10-31\",\"2021-11-30\"],\"y\":[1000.0,827.0064874633634,755.9913948156488,818.6491115366961,859.9657797173246,770.8012149918228,874.7105659204055,857.3979958937367,766.9452143282876,571.6971099876888,490.2636121956429,453.0947581799649,533.5605799728653,511.14044585314434,522.544239284617,602.7092100412028,882.6167693256178,969.3049783550862,1149.814266387263,1260.997036784012,1430.4847469102554,1495.2383821439655,1388.5422552238272,1228.7184192216885,1163.580733213322,1052.3182219537484,1048.6992245076613,1220.0133916278644,1332.863272446929,1311.5670772526782,1305.8154385281534,1147.2754979944928,1124.5283925486897,1131.6527904998404,1203.629550128514,1181.7133501640383,1091.0384145382463,983.3617951069558,992.9854893681104,1022.6786143755348,875.7203086035412,862.5881230786348,931.293010539096,933.5773728579604,915.7825342186824,858.8630404088425,734.9153903919873,736.6441345971704,892.0970118374282,914.667958264728,942.8554759577506,884.8473652473673,923.8141498702844,948.5464613587234,935.48641250553,885.0431109265116,1049.9825473499611,1192.4916544180392,1339.9283982536117,1273.8894911145853,1223.655265667604,1184.8345718538092,1275.5617871826635,1310.4078826937223,1406.5846817731385,1324.601493081858,1819.76082435976,1903.8355426152318,1791.011988373626,2018.662242815267,2078.043470791833,2068.3278895908447,1976.5268436837953,1797.5846129868635,1669.6822251926073,1689.6783313345954,1507.5312790825635,1482.7984589882647,1587.0429491685081,1754.2478607314335,1579.1736428066029,1555.7607011562145,1487.2180233982886,1374.8631832452857,1407.8688226528357,1461.9459317115186]}],                        {\"legend\":{\"bgcolor\":\"#F5F6F9\",\"font\":{\"color\":\"#4D5663\"}},\"paper_bgcolor\":\"#F5F6F9\",\"plot_bgcolor\":\"#F5F6F9\",\"template\":{\"data\":{\"bar\":[{\"error_x\":{\"color\":\"#2a3f5f\"},\"error_y\":{\"color\":\"#2a3f5f\"},\"marker\":{\"line\":{\"color\":\"#E5ECF6\",\"width\":0.5},\"pattern\":{\"fillmode\":\"overlay\",\"size\":10,\"solidity\":0.2}},\"type\":\"bar\"}],\"barpolar\":[{\"marker\":{\"line\":{\"color\":\"#E5ECF6\",\"width\":0.5},\"pattern\":{\"fillmode\":\"overlay\",\"size\":10,\"solidity\":0.2}},\"type\":\"barpolar\"}],\"carpet\":[{\"aaxis\":{\"endlinecolor\":\"#2a3f5f\",\"gridcolor\":\"white\",\"linecolor\":\"white\",\"minorgridcolor\":\"white\",\"startlinecolor\":\"#2a3f5f\"},\"baxis\":{\"endlinecolor\":\"#2a3f5f\",\"gridcolor\":\"white\",\"linecolor\":\"white\",\"minorgridcolor\":\"white\",\"startlinecolor\":\"#2a3f5f\"},\"type\":\"carpet\"}],\"choropleth\":[{\"colorbar\":{\"outlinewidth\":0,\"ticks\":\"\"},\"type\":\"choropleth\"}],\"contour\":[{\"colorbar\":{\"outlinewidth\":0,\"ticks\":\"\"},\"colorscale\":[[0.0,\"#0d0887\"],[0.1111111111111111,\"#46039f\"],[0.2222222222222222,\"#7201a8\"],[0.3333333333333333,\"#9c179e\"],[0.4444444444444444,\"#bd3786\"],[0.5555555555555556,\"#d8576b\"],[0.6666666666666666,\"#ed7953\"],[0.7777777777777778,\"#fb9f3a\"],[0.8888888888888888,\"#fdca26\"],[1.0,\"#f0f921\"]],\"type\":\"contour\"}],\"contourcarpet\":[{\"colorbar\":{\"outlinewidth\":0,\"ticks\":\"\"},\"type\":\"contourcarpet\"}],\"heatmap\":[{\"colorbar\":{\"outlinewidth\":0,\"ticks\":\"\"},\"colorscale\":[[0.0,\"#0d0887\"],[0.1111111111111111,\"#46039f\"],[0.2222222222222222,\"#7201a8\"],[0.3333333333333333,\"#9c179e\"],[0.4444444444444444,\"#bd3786\"],[0.5555555555555556,\"#d8576b\"],[0.6666666666666666,\"#ed7953\"],[0.7777777777777778,\"#fb9f3a\"],[0.8888888888888888,\"#fdca26\"],[1.0,\"#f0f921\"]],\"type\":\"heatmap\"}],\"heatmapgl\":[{\"colorbar\":{\"outlinewidth\":0,\"ticks\":\"\"},\"colorscale\":[[0.0,\"#0d0887\"],[0.1111111111111111,\"#46039f\"],[0.2222222222222222,\"#7201a8\"],[0.3333333333333333,\"#9c179e\"],[0.4444444444444444,\"#bd3786\"],[0.5555555555555556,\"#d8576b\"],[0.6666666666666666,\"#ed7953\"],[0.7777777777777778,\"#fb9f3a\"],[0.8888888888888888,\"#fdca26\"],[1.0,\"#f0f921\"]],\"type\":\"heatmapgl\"}],\"histogram\":[{\"marker\":{\"pattern\":{\"fillmode\":\"overlay\",\"size\":10,\"solidity\":0.2}},\"type\":\"histogram\"}],\"histogram2d\":[{\"colorbar\":{\"outlinewidth\":0,\"ticks\":\"\"},\"colorscale\":[[0.0,\"#0d0887\"],[0.1111111111111111,\"#46039f\"],[0.2222222222222222,\"#7201a8\"],[0.3333333333333333,\"#9c179e\"],[0.4444444444444444,\"#bd3786\"],[0.5555555555555556,\"#d8576b\"],[0.6666666666666666,\"#ed7953\"],[0.7777777777777778,\"#fb9f3a\"],[0.8888888888888888,\"#fdca26\"],[1.0,\"#f0f921\"]],\"type\":\"histogram2d\"}],\"histogram2dcontour\":[{\"colorbar\":{\"outlinewidth\":0,\"ticks\":\"\"},\"colorscale\":[[0.0,\"#0d0887\"],[0.1111111111111111,\"#46039f\"],[0.2222222222222222,\"#7201a8\"],[0.3333333333333333,\"#9c179e\"],[0.4444444444444444,\"#bd3786\"],[0.5555555555555556,\"#d8576b\"],[0.6666666666666666,\"#ed7953\"],[0.7777777777777778,\"#fb9f3a\"],[0.8888888888888888,\"#fdca26\"],[1.0,\"#f0f921\"]],\"type\":\"histogram2dcontour\"}],\"mesh3d\":[{\"colorbar\":{\"outlinewidth\":0,\"ticks\":\"\"},\"type\":\"mesh3d\"}],\"parcoords\":[{\"line\":{\"colorbar\":{\"outlinewidth\":0,\"ticks\":\"\"}},\"type\":\"parcoords\"}],\"pie\":[{\"automargin\":true,\"type\":\"pie\"}],\"scatter\":[{\"marker\":{\"colorbar\":{\"outlinewidth\":0,\"ticks\":\"\"}},\"type\":\"scatter\"}],\"scatter3d\":[{\"line\":{\"colorbar\":{\"outlinewidth\":0,\"ticks\":\"\"}},\"marker\":{\"colorbar\":{\"outlinewidth\":0,\"ticks\":\"\"}},\"type\":\"scatter3d\"}],\"scattercarpet\":[{\"marker\":{\"colorbar\":{\"outlinewidth\":0,\"ticks\":\"\"}},\"type\":\"scattercarpet\"}],\"scattergeo\":[{\"marker\":{\"colorbar\":{\"outlinewidth\":0,\"ticks\":\"\"}},\"type\":\"scattergeo\"}],\"scattergl\":[{\"marker\":{\"colorbar\":{\"outlinewidth\":0,\"ticks\":\"\"}},\"type\":\"scattergl\"}],\"scattermapbox\":[{\"marker\":{\"colorbar\":{\"outlinewidth\":0,\"ticks\":\"\"}},\"type\":\"scattermapbox\"}],\"scatterpolar\":[{\"marker\":{\"colorbar\":{\"outlinewidth\":0,\"ticks\":\"\"}},\"type\":\"scatterpolar\"}],\"scatterpolargl\":[{\"marker\":{\"colorbar\":{\"outlinewidth\":0,\"ticks\":\"\"}},\"type\":\"scatterpolargl\"}],\"scatterternary\":[{\"marker\":{\"colorbar\":{\"outlinewidth\":0,\"ticks\":\"\"}},\"type\":\"scatterternary\"}],\"surface\":[{\"colorbar\":{\"outlinewidth\":0,\"ticks\":\"\"},\"colorscale\":[[0.0,\"#0d0887\"],[0.1111111111111111,\"#46039f\"],[0.2222222222222222,\"#7201a8\"],[0.3333333333333333,\"#9c179e\"],[0.4444444444444444,\"#bd3786\"],[0.5555555555555556,\"#d8576b\"],[0.6666666666666666,\"#ed7953\"],[0.7777777777777778,\"#fb9f3a\"],[0.8888888888888888,\"#fdca26\"],[1.0,\"#f0f921\"]],\"type\":\"surface\"}],\"table\":[{\"cells\":{\"fill\":{\"color\":\"#EBF0F8\"},\"line\":{\"color\":\"white\"}},\"header\":{\"fill\":{\"color\":\"#C8D4E3\"},\"line\":{\"color\":\"white\"}},\"type\":\"table\"}]},\"layout\":{\"annotationdefaults\":{\"arrowcolor\":\"#2a3f5f\",\"arrowhead\":0,\"arrowwidth\":1},\"autotypenumbers\":\"strict\",\"coloraxis\":{\"colorbar\":{\"outlinewidth\":0,\"ticks\":\"\"}},\"colorscale\":{\"diverging\":[[0,\"#8e0152\"],[0.1,\"#c51b7d\"],[0.2,\"#de77ae\"],[0.3,\"#f1b6da\"],[0.4,\"#fde0ef\"],[0.5,\"#f7f7f7\"],[0.6,\"#e6f5d0\"],[0.7,\"#b8e186\"],[0.8,\"#7fbc41\"],[0.9,\"#4d9221\"],[1,\"#276419\"]],\"sequential\":[[0.0,\"#0d0887\"],[0.1111111111111111,\"#46039f\"],[0.2222222222222222,\"#7201a8\"],[0.3333333333333333,\"#9c179e\"],[0.4444444444444444,\"#bd3786\"],[0.5555555555555556,\"#d8576b\"],[0.6666666666666666,\"#ed7953\"],[0.7777777777777778,\"#fb9f3a\"],[0.8888888888888888,\"#fdca26\"],[1.0,\"#f0f921\"]],\"sequentialminus\":[[0.0,\"#0d0887\"],[0.1111111111111111,\"#46039f\"],[0.2222222222222222,\"#7201a8\"],[0.3333333333333333,\"#9c179e\"],[0.4444444444444444,\"#bd3786\"],[0.5555555555555556,\"#d8576b\"],[0.6666666666666666,\"#ed7953\"],[0.7777777777777778,\"#fb9f3a\"],[0.8888888888888888,\"#fdca26\"],[1.0,\"#f0f921\"]]},\"colorway\":[\"#636efa\",\"#EF553B\",\"#00cc96\",\"#ab63fa\",\"#FFA15A\",\"#19d3f3\",\"#FF6692\",\"#B6E880\",\"#FF97FF\",\"#FECB52\"],\"font\":{\"color\":\"#2a3f5f\"},\"geo\":{\"bgcolor\":\"white\",\"lakecolor\":\"white\",\"landcolor\":\"#E5ECF6\",\"showlakes\":true,\"showland\":true,\"subunitcolor\":\"white\"},\"hoverlabel\":{\"align\":\"left\"},\"hovermode\":\"closest\",\"mapbox\":{\"style\":\"light\"},\"paper_bgcolor\":\"white\",\"plot_bgcolor\":\"#E5ECF6\",\"polar\":{\"angularaxis\":{\"gridcolor\":\"white\",\"linecolor\":\"white\",\"ticks\":\"\"},\"bgcolor\":\"#E5ECF6\",\"radialaxis\":{\"gridcolor\":\"white\",\"linecolor\":\"white\",\"ticks\":\"\"}},\"scene\":{\"xaxis\":{\"backgroundcolor\":\"#E5ECF6\",\"gridcolor\":\"white\",\"gridwidth\":2,\"linecolor\":\"white\",\"showbackground\":true,\"ticks\":\"\",\"zerolinecolor\":\"white\"},\"yaxis\":{\"backgroundcolor\":\"#E5ECF6\",\"gridcolor\":\"white\",\"gridwidth\":2,\"linecolor\":\"white\",\"showbackground\":true,\"ticks\":\"\",\"zerolinecolor\":\"white\"},\"zaxis\":{\"backgroundcolor\":\"#E5ECF6\",\"gridcolor\":\"white\",\"gridwidth\":2,\"linecolor\":\"white\",\"showbackground\":true,\"ticks\":\"\",\"zerolinecolor\":\"white\"}},\"shapedefaults\":{\"line\":{\"color\":\"#2a3f5f\"}},\"ternary\":{\"aaxis\":{\"gridcolor\":\"white\",\"linecolor\":\"white\",\"ticks\":\"\"},\"baxis\":{\"gridcolor\":\"white\",\"linecolor\":\"white\",\"ticks\":\"\"},\"bgcolor\":\"#E5ECF6\",\"caxis\":{\"gridcolor\":\"white\",\"linecolor\":\"white\",\"ticks\":\"\"}},\"title\":{\"x\":0.05},\"xaxis\":{\"automargin\":true,\"gridcolor\":\"white\",\"linecolor\":\"white\",\"ticks\":\"\",\"title\":{\"standoff\":15},\"zerolinecolor\":\"white\",\"zerolinewidth\":2},\"yaxis\":{\"automargin\":true,\"gridcolor\":\"white\",\"linecolor\":\"white\",\"ticks\":\"\",\"title\":{\"standoff\":15},\"zerolinecolor\":\"white\",\"zerolinewidth\":2}}},\"title\":{\"font\":{\"color\":\"#4D5663\"}},\"xaxis\":{\"gridcolor\":\"#E1E5ED\",\"showgrid\":true,\"tickfont\":{\"color\":\"#4D5663\"},\"title\":{\"font\":{\"color\":\"#4D5663\"},\"text\":\"\"},\"zerolinecolor\":\"#E1E5ED\"},\"yaxis\":{\"gridcolor\":\"#E1E5ED\",\"showgrid\":true,\"tickfont\":{\"color\":\"#4D5663\"},\"title\":{\"font\":{\"color\":\"#4D5663\"},\"text\":\"\"},\"zerolinecolor\":\"#E1E5ED\"}},                        {\"showLink\": true, \"linkText\": \"Export to plot.ly\", \"plotlyServerURL\": \"https://plot.ly\", \"responsive\": true}                    ).then(function(){\n",
       "                            \n",
       "var gd = document.getElementById('f215bd27-4e27-4f2d-bad5-74bea3be0f54');\n",
       "var x = new MutationObserver(function (mutations, observer) {{\n",
       "        var display = window.getComputedStyle(gd).display;\n",
       "        if (!display || display === 'none') {{\n",
       "            console.log([gd, 'removed!']);\n",
       "            Plotly.purge(gd);\n",
       "            observer.disconnect();\n",
       "        }}\n",
       "}});\n",
       "\n",
       "// Listen for the removal of the full notebook cells\n",
       "var notebookContainer = gd.closest('#notebook-container');\n",
       "if (notebookContainer) {{\n",
       "    x.observe(notebookContainer, {childList: true});\n",
       "}}\n",
       "\n",
       "// Listen for the clearing of the current output cell\n",
       "var outputEl = gd.closest('.output');\n",
       "if (outputEl) {{\n",
       "    x.observe(outputEl, {childList: true});\n",
       "}}\n",
       "\n",
       "                        })                };                });            </script>        </div>"
      ]
     },
     "metadata": {},
     "output_type": "display_data"
    }
   ],
   "source": [
    "comparing.iplot()"
   ]
  },
  {
   "cell_type": "code",
   "execution_count": 229,
   "metadata": {},
   "outputs": [
    {
     "data": {
      "application/vnd.plotly.v1+json": {
       "config": {
        "linkText": "Export to plot.ly",
        "plotlyServerURL": "https://plot.ly",
        "showLink": true
       },
       "data": [
        {
         "marker": {
          "color": "rgba(255, 161, 90, 0.6)",
          "line": {
           "color": "rgba(255, 161, 90, 1.0)",
           "width": 1
          }
         },
         "name": "Bitcoin",
         "orientation": "v",
         "text": "",
         "type": "bar",
         "x": [
          "2014-10-31",
          "2014-11-30",
          "2014-12-31",
          "2015-01-31",
          "2015-02-28",
          "2015-03-31",
          "2015-04-30",
          "2015-05-31",
          "2015-06-30",
          "2015-07-31",
          "2015-08-31",
          "2015-09-30",
          "2015-10-31",
          "2015-11-30",
          "2015-12-31",
          "2016-01-31",
          "2016-02-29",
          "2016-03-31",
          "2016-04-30",
          "2016-05-31",
          "2016-06-30",
          "2016-07-31",
          "2016-08-31",
          "2016-09-30",
          "2016-10-31",
          "2016-11-30",
          "2016-12-31",
          "2017-01-31",
          "2017-02-28",
          "2017-03-31",
          "2017-04-30",
          "2017-05-31",
          "2017-06-30",
          "2017-07-31",
          "2017-08-31",
          "2017-09-30",
          "2017-10-31",
          "2017-11-30",
          "2017-12-31",
          "2018-01-31",
          "2018-02-28",
          "2018-03-31",
          "2018-04-30",
          "2018-05-31",
          "2018-06-30",
          "2018-07-31",
          "2018-08-31",
          "2018-09-30",
          "2018-10-31",
          "2018-11-30",
          "2018-12-31",
          "2019-01-31",
          "2019-02-28",
          "2019-03-31",
          "2019-04-30",
          "2019-05-31",
          "2019-06-30",
          "2019-07-31",
          "2019-08-31",
          "2019-09-30",
          "2019-10-31",
          "2019-11-30",
          "2019-12-31",
          "2020-01-31",
          "2020-02-29",
          "2020-03-31",
          "2020-04-30",
          "2020-05-31",
          "2020-06-30",
          "2020-07-31",
          "2020-08-31",
          "2020-09-30",
          "2020-10-31",
          "2020-11-30",
          "2020-12-31",
          "2021-01-31",
          "2021-02-28",
          "2021-03-31",
          "2021-04-30",
          "2021-05-31",
          "2021-06-30",
          "2021-07-31",
          "2021-08-31",
          "2021-09-30",
          "2021-10-31",
          "2021-11-30"
         ],
         "y": [
          0.03820386800962061,
          0.033185117719017665,
          -0.12932067811892944,
          -0.2658942121147818,
          -0.002375913414572328,
          0.11650935407722174,
          -0.13801745998869053,
          0.032333899298115476,
          0.030364201500442833,
          0.18704315163365193,
          -0.1582135162874252,
          -0.04460568497547557,
          0.19840898242965355,
          0.2726002067013855,
          0.21564329589300835,
          -0.07358346488166823,
          0.03062317976402218,
          0.014779235485992803,
          0.05007729713354725,
          0.11704388566328783,
          0.3863376782603285,
          -0.04030360274392919,
          -0.1044718406031172,
          0.0370246661925957,
          0.09667663413014727,
          0.10359915895415206,
          0.1755057413415928,
          0.06623761000666128,
          0.2160292299768356,
          -0.03401280179616806,
          0.13840832431444583,
          0.6426496195306555,
          0.31029133290201405,
          -0.007777223257665056,
          0.6280462681157353,
          -0.07791080375978698,
          0.5125427329956891,
          0.4501935784000697,
          0.8094064764769018,
          -0.20976913975378686,
          -0.1952599930683362,
          -0.16851309379743007,
          0.043474818760373735,
          -0.06527785406765751,
          -0.20050079941298082,
          0.10937870069773203,
          -0.06495797170419915,
          -0.024414044517716227,
          -0.013887986383655737,
          -0.2173759197676769,
          -0.2545372250851057,
          -0.05615538501108219,
          0.05771614946517056,
          0.07208098245454586,
          0.3294252887363929,
          0.5220385827603755,
          0.17703355290347456,
          0.10189397421005308,
          -0.011768301442042328,
          -0.10066828766632752,
          -0.05940211151686947,
          -0.09126600344180813,
          -0.07649562875155902,
          0.17504927118019142,
          0.1061466568102063,
          -0.3348114743760806,
          0.19905397146873072,
          0.19327128116953984,
          0.017853443618118137,
          0.05591938279689712,
          0.1613120898511553,
          -0.06682617658760559,
          0.16186326103323667,
          0.4074957201951621,
          0.455350408559241,
          0.37253833224548916,
          0.36364355744337473,
          0.18862444726521477,
          -0.018289234752292938,
          -0.2398349666775199,
          -0.14257139148179487,
          -0.023294538183937452,
          0.3624588177646928,
          -0.04085166936969964,
          0.29146554741564246,
          0.09729705824772039
         ]
        },
        {
         "marker": {
          "color": "rgba(255, 65, 10, 0.6)",
          "line": {
           "color": "rgba(255, 65, 10, 1.0)",
           "width": 1
          }
         },
         "name": "Gold",
         "orientation": "v",
         "text": "",
         "type": "bar",
         "x": [
          "2014-10-31",
          "2014-11-30",
          "2014-12-31",
          "2015-01-31",
          "2015-02-28",
          "2015-03-31",
          "2015-04-30",
          "2015-05-31",
          "2015-06-30",
          "2015-07-31",
          "2015-08-31",
          "2015-09-30",
          "2015-10-31",
          "2015-11-30",
          "2015-12-31",
          "2016-01-31",
          "2016-02-29",
          "2016-03-31",
          "2016-04-30",
          "2016-05-31",
          "2016-06-30",
          "2016-07-31",
          "2016-08-31",
          "2016-09-30",
          "2016-10-31",
          "2016-11-30",
          "2016-12-31",
          "2017-01-31",
          "2017-02-28",
          "2017-03-31",
          "2017-04-30",
          "2017-05-31",
          "2017-06-30",
          "2017-07-31",
          "2017-08-31",
          "2017-09-30",
          "2017-10-31",
          "2017-11-30",
          "2017-12-31",
          "2018-01-31",
          "2018-02-28",
          "2018-03-31",
          "2018-04-30",
          "2018-05-31",
          "2018-06-30",
          "2018-07-31",
          "2018-08-31",
          "2018-09-30",
          "2018-10-31",
          "2018-11-30",
          "2018-12-31",
          "2019-01-31",
          "2019-02-28",
          "2019-03-31",
          "2019-04-30",
          "2019-05-31",
          "2019-06-30",
          "2019-07-31",
          "2019-08-31",
          "2019-09-30",
          "2019-10-31",
          "2019-11-30",
          "2019-12-31",
          "2020-01-31",
          "2020-02-29",
          "2020-03-31",
          "2020-04-30",
          "2020-05-31",
          "2020-06-30",
          "2020-07-31",
          "2020-08-31",
          "2020-09-30",
          "2020-10-31",
          "2020-11-30",
          "2020-12-31",
          "2021-01-31",
          "2021-02-28",
          "2021-03-31",
          "2021-04-30",
          "2021-05-31",
          "2021-06-30",
          "2021-07-31",
          "2021-08-31",
          "2021-09-30",
          "2021-10-31",
          "2021-11-30"
         ],
         "y": [
          -0.11088440014775891,
          -0.0698549349479407,
          -0.08587005510142465,
          0.08288152107382984,
          0.05046932513378355,
          -0.10368385211189535,
          0.1348069371292897,
          -0.019792341262565794,
          -0.10549684277155635,
          -0.254578946048451,
          -0.14244168173912852,
          -0.07581401737978777,
          0.17759159721053352,
          -0.042019847344909156,
          0.02231048926765844,
          0.15341279212327485,
          0.46441559979692326,
          0.09821726942227071,
          0.1862254832720469,
          0.09669628708477163,
          0.13440769897326388,
          0.04526691764702373,
          -0.07135726864311154,
          -0.1151018886179851,
          -0.05301270412274528,
          -0.09562079199465012,
          -0.003439071347988376,
          0.16335872394740347,
          0.09249888697409214,
          -0.015977779292510874,
          -0.004385318009485606,
          -0.12141068014355727,
          -0.019827064628823998,
          0.006335454043097544,
          0.06360321843670991,
          -0.01820842630702757,
          -0.07673175192038317,
          -0.09869186822066378,
          0.009786524460316137,
          0.029902879070589305,
          -0.14369940243810508,
          -0.014995867283068454,
          0.07964970258951509,
          0.0024528932280314386,
          -0.019060914667203943,
          -0.06215394122841822,
          -0.1443159667900632,
          0.0023523037179300488,
          0.21102845992965968,
          0.025300999922431178,
          0.030817213436118207,
          -0.06152386255322839,
          0.044037860260818684,
          0.026771955692507676,
          -0.013768486189369988,
          -0.053922003467602675,
          0.18636316625388094,
          0.1357252150788173,
          0.12363754772566926,
          -0.04928540004458293,
          -0.03943373879552836,
          -0.03172518837861993,
          0.07657374074331846,
          0.027318234099834138,
          0.07339455168852593,
          -0.05828528474228256,
          0.3738175850352161,
          0.04620097164969561,
          -0.05926118707008898,
          0.12710705228074115,
          0.0294161285217045,
          -0.0046753503175207545,
          -0.04438418413688239,
          -0.09053367085236452,
          -0.07115236015607285,
          0.011975995096720649,
          -0.10779983910201585,
          -0.01640617374742004,
          0.07030253474323889,
          0.10535626124707487,
          -0.09980016042421369,
          -0.014826071697079168,
          -0.044057339735465884,
          -0.0755469866457592,
          0.024006490107359113,
          0.03841061623680675
         ]
        }
       ],
       "layout": {
        "legend": {
         "bgcolor": "#F5F6F9",
         "font": {
          "color": "#4D5663"
         }
        },
        "paper_bgcolor": "#F5F6F9",
        "plot_bgcolor": "#F5F6F9",
        "template": {
         "data": {
          "bar": [
           {
            "error_x": {
             "color": "#2a3f5f"
            },
            "error_y": {
             "color": "#2a3f5f"
            },
            "marker": {
             "line": {
              "color": "#E5ECF6",
              "width": 0.5
             },
             "pattern": {
              "fillmode": "overlay",
              "size": 10,
              "solidity": 0.2
             }
            },
            "type": "bar"
           }
          ],
          "barpolar": [
           {
            "marker": {
             "line": {
              "color": "#E5ECF6",
              "width": 0.5
             },
             "pattern": {
              "fillmode": "overlay",
              "size": 10,
              "solidity": 0.2
             }
            },
            "type": "barpolar"
           }
          ],
          "carpet": [
           {
            "aaxis": {
             "endlinecolor": "#2a3f5f",
             "gridcolor": "white",
             "linecolor": "white",
             "minorgridcolor": "white",
             "startlinecolor": "#2a3f5f"
            },
            "baxis": {
             "endlinecolor": "#2a3f5f",
             "gridcolor": "white",
             "linecolor": "white",
             "minorgridcolor": "white",
             "startlinecolor": "#2a3f5f"
            },
            "type": "carpet"
           }
          ],
          "choropleth": [
           {
            "colorbar": {
             "outlinewidth": 0,
             "ticks": ""
            },
            "type": "choropleth"
           }
          ],
          "contour": [
           {
            "colorbar": {
             "outlinewidth": 0,
             "ticks": ""
            },
            "colorscale": [
             [
              0,
              "#0d0887"
             ],
             [
              0.1111111111111111,
              "#46039f"
             ],
             [
              0.2222222222222222,
              "#7201a8"
             ],
             [
              0.3333333333333333,
              "#9c179e"
             ],
             [
              0.4444444444444444,
              "#bd3786"
             ],
             [
              0.5555555555555556,
              "#d8576b"
             ],
             [
              0.6666666666666666,
              "#ed7953"
             ],
             [
              0.7777777777777778,
              "#fb9f3a"
             ],
             [
              0.8888888888888888,
              "#fdca26"
             ],
             [
              1,
              "#f0f921"
             ]
            ],
            "type": "contour"
           }
          ],
          "contourcarpet": [
           {
            "colorbar": {
             "outlinewidth": 0,
             "ticks": ""
            },
            "type": "contourcarpet"
           }
          ],
          "heatmap": [
           {
            "colorbar": {
             "outlinewidth": 0,
             "ticks": ""
            },
            "colorscale": [
             [
              0,
              "#0d0887"
             ],
             [
              0.1111111111111111,
              "#46039f"
             ],
             [
              0.2222222222222222,
              "#7201a8"
             ],
             [
              0.3333333333333333,
              "#9c179e"
             ],
             [
              0.4444444444444444,
              "#bd3786"
             ],
             [
              0.5555555555555556,
              "#d8576b"
             ],
             [
              0.6666666666666666,
              "#ed7953"
             ],
             [
              0.7777777777777778,
              "#fb9f3a"
             ],
             [
              0.8888888888888888,
              "#fdca26"
             ],
             [
              1,
              "#f0f921"
             ]
            ],
            "type": "heatmap"
           }
          ],
          "heatmapgl": [
           {
            "colorbar": {
             "outlinewidth": 0,
             "ticks": ""
            },
            "colorscale": [
             [
              0,
              "#0d0887"
             ],
             [
              0.1111111111111111,
              "#46039f"
             ],
             [
              0.2222222222222222,
              "#7201a8"
             ],
             [
              0.3333333333333333,
              "#9c179e"
             ],
             [
              0.4444444444444444,
              "#bd3786"
             ],
             [
              0.5555555555555556,
              "#d8576b"
             ],
             [
              0.6666666666666666,
              "#ed7953"
             ],
             [
              0.7777777777777778,
              "#fb9f3a"
             ],
             [
              0.8888888888888888,
              "#fdca26"
             ],
             [
              1,
              "#f0f921"
             ]
            ],
            "type": "heatmapgl"
           }
          ],
          "histogram": [
           {
            "marker": {
             "pattern": {
              "fillmode": "overlay",
              "size": 10,
              "solidity": 0.2
             }
            },
            "type": "histogram"
           }
          ],
          "histogram2d": [
           {
            "colorbar": {
             "outlinewidth": 0,
             "ticks": ""
            },
            "colorscale": [
             [
              0,
              "#0d0887"
             ],
             [
              0.1111111111111111,
              "#46039f"
             ],
             [
              0.2222222222222222,
              "#7201a8"
             ],
             [
              0.3333333333333333,
              "#9c179e"
             ],
             [
              0.4444444444444444,
              "#bd3786"
             ],
             [
              0.5555555555555556,
              "#d8576b"
             ],
             [
              0.6666666666666666,
              "#ed7953"
             ],
             [
              0.7777777777777778,
              "#fb9f3a"
             ],
             [
              0.8888888888888888,
              "#fdca26"
             ],
             [
              1,
              "#f0f921"
             ]
            ],
            "type": "histogram2d"
           }
          ],
          "histogram2dcontour": [
           {
            "colorbar": {
             "outlinewidth": 0,
             "ticks": ""
            },
            "colorscale": [
             [
              0,
              "#0d0887"
             ],
             [
              0.1111111111111111,
              "#46039f"
             ],
             [
              0.2222222222222222,
              "#7201a8"
             ],
             [
              0.3333333333333333,
              "#9c179e"
             ],
             [
              0.4444444444444444,
              "#bd3786"
             ],
             [
              0.5555555555555556,
              "#d8576b"
             ],
             [
              0.6666666666666666,
              "#ed7953"
             ],
             [
              0.7777777777777778,
              "#fb9f3a"
             ],
             [
              0.8888888888888888,
              "#fdca26"
             ],
             [
              1,
              "#f0f921"
             ]
            ],
            "type": "histogram2dcontour"
           }
          ],
          "mesh3d": [
           {
            "colorbar": {
             "outlinewidth": 0,
             "ticks": ""
            },
            "type": "mesh3d"
           }
          ],
          "parcoords": [
           {
            "line": {
             "colorbar": {
              "outlinewidth": 0,
              "ticks": ""
             }
            },
            "type": "parcoords"
           }
          ],
          "pie": [
           {
            "automargin": true,
            "type": "pie"
           }
          ],
          "scatter": [
           {
            "marker": {
             "colorbar": {
              "outlinewidth": 0,
              "ticks": ""
             }
            },
            "type": "scatter"
           }
          ],
          "scatter3d": [
           {
            "line": {
             "colorbar": {
              "outlinewidth": 0,
              "ticks": ""
             }
            },
            "marker": {
             "colorbar": {
              "outlinewidth": 0,
              "ticks": ""
             }
            },
            "type": "scatter3d"
           }
          ],
          "scattercarpet": [
           {
            "marker": {
             "colorbar": {
              "outlinewidth": 0,
              "ticks": ""
             }
            },
            "type": "scattercarpet"
           }
          ],
          "scattergeo": [
           {
            "marker": {
             "colorbar": {
              "outlinewidth": 0,
              "ticks": ""
             }
            },
            "type": "scattergeo"
           }
          ],
          "scattergl": [
           {
            "marker": {
             "colorbar": {
              "outlinewidth": 0,
              "ticks": ""
             }
            },
            "type": "scattergl"
           }
          ],
          "scattermapbox": [
           {
            "marker": {
             "colorbar": {
              "outlinewidth": 0,
              "ticks": ""
             }
            },
            "type": "scattermapbox"
           }
          ],
          "scatterpolar": [
           {
            "marker": {
             "colorbar": {
              "outlinewidth": 0,
              "ticks": ""
             }
            },
            "type": "scatterpolar"
           }
          ],
          "scatterpolargl": [
           {
            "marker": {
             "colorbar": {
              "outlinewidth": 0,
              "ticks": ""
             }
            },
            "type": "scatterpolargl"
           }
          ],
          "scatterternary": [
           {
            "marker": {
             "colorbar": {
              "outlinewidth": 0,
              "ticks": ""
             }
            },
            "type": "scatterternary"
           }
          ],
          "surface": [
           {
            "colorbar": {
             "outlinewidth": 0,
             "ticks": ""
            },
            "colorscale": [
             [
              0,
              "#0d0887"
             ],
             [
              0.1111111111111111,
              "#46039f"
             ],
             [
              0.2222222222222222,
              "#7201a8"
             ],
             [
              0.3333333333333333,
              "#9c179e"
             ],
             [
              0.4444444444444444,
              "#bd3786"
             ],
             [
              0.5555555555555556,
              "#d8576b"
             ],
             [
              0.6666666666666666,
              "#ed7953"
             ],
             [
              0.7777777777777778,
              "#fb9f3a"
             ],
             [
              0.8888888888888888,
              "#fdca26"
             ],
             [
              1,
              "#f0f921"
             ]
            ],
            "type": "surface"
           }
          ],
          "table": [
           {
            "cells": {
             "fill": {
              "color": "#EBF0F8"
             },
             "line": {
              "color": "white"
             }
            },
            "header": {
             "fill": {
              "color": "#C8D4E3"
             },
             "line": {
              "color": "white"
             }
            },
            "type": "table"
           }
          ]
         },
         "layout": {
          "annotationdefaults": {
           "arrowcolor": "#2a3f5f",
           "arrowhead": 0,
           "arrowwidth": 1
          },
          "autotypenumbers": "strict",
          "coloraxis": {
           "colorbar": {
            "outlinewidth": 0,
            "ticks": ""
           }
          },
          "colorscale": {
           "diverging": [
            [
             0,
             "#8e0152"
            ],
            [
             0.1,
             "#c51b7d"
            ],
            [
             0.2,
             "#de77ae"
            ],
            [
             0.3,
             "#f1b6da"
            ],
            [
             0.4,
             "#fde0ef"
            ],
            [
             0.5,
             "#f7f7f7"
            ],
            [
             0.6,
             "#e6f5d0"
            ],
            [
             0.7,
             "#b8e186"
            ],
            [
             0.8,
             "#7fbc41"
            ],
            [
             0.9,
             "#4d9221"
            ],
            [
             1,
             "#276419"
            ]
           ],
           "sequential": [
            [
             0,
             "#0d0887"
            ],
            [
             0.1111111111111111,
             "#46039f"
            ],
            [
             0.2222222222222222,
             "#7201a8"
            ],
            [
             0.3333333333333333,
             "#9c179e"
            ],
            [
             0.4444444444444444,
             "#bd3786"
            ],
            [
             0.5555555555555556,
             "#d8576b"
            ],
            [
             0.6666666666666666,
             "#ed7953"
            ],
            [
             0.7777777777777778,
             "#fb9f3a"
            ],
            [
             0.8888888888888888,
             "#fdca26"
            ],
            [
             1,
             "#f0f921"
            ]
           ],
           "sequentialminus": [
            [
             0,
             "#0d0887"
            ],
            [
             0.1111111111111111,
             "#46039f"
            ],
            [
             0.2222222222222222,
             "#7201a8"
            ],
            [
             0.3333333333333333,
             "#9c179e"
            ],
            [
             0.4444444444444444,
             "#bd3786"
            ],
            [
             0.5555555555555556,
             "#d8576b"
            ],
            [
             0.6666666666666666,
             "#ed7953"
            ],
            [
             0.7777777777777778,
             "#fb9f3a"
            ],
            [
             0.8888888888888888,
             "#fdca26"
            ],
            [
             1,
             "#f0f921"
            ]
           ]
          },
          "colorway": [
           "#636efa",
           "#EF553B",
           "#00cc96",
           "#ab63fa",
           "#FFA15A",
           "#19d3f3",
           "#FF6692",
           "#B6E880",
           "#FF97FF",
           "#FECB52"
          ],
          "font": {
           "color": "#2a3f5f"
          },
          "geo": {
           "bgcolor": "white",
           "lakecolor": "white",
           "landcolor": "#E5ECF6",
           "showlakes": true,
           "showland": true,
           "subunitcolor": "white"
          },
          "hoverlabel": {
           "align": "left"
          },
          "hovermode": "closest",
          "mapbox": {
           "style": "light"
          },
          "paper_bgcolor": "white",
          "plot_bgcolor": "#E5ECF6",
          "polar": {
           "angularaxis": {
            "gridcolor": "white",
            "linecolor": "white",
            "ticks": ""
           },
           "bgcolor": "#E5ECF6",
           "radialaxis": {
            "gridcolor": "white",
            "linecolor": "white",
            "ticks": ""
           }
          },
          "scene": {
           "xaxis": {
            "backgroundcolor": "#E5ECF6",
            "gridcolor": "white",
            "gridwidth": 2,
            "linecolor": "white",
            "showbackground": true,
            "ticks": "",
            "zerolinecolor": "white"
           },
           "yaxis": {
            "backgroundcolor": "#E5ECF6",
            "gridcolor": "white",
            "gridwidth": 2,
            "linecolor": "white",
            "showbackground": true,
            "ticks": "",
            "zerolinecolor": "white"
           },
           "zaxis": {
            "backgroundcolor": "#E5ECF6",
            "gridcolor": "white",
            "gridwidth": 2,
            "linecolor": "white",
            "showbackground": true,
            "ticks": "",
            "zerolinecolor": "white"
           }
          },
          "shapedefaults": {
           "line": {
            "color": "#2a3f5f"
           }
          },
          "ternary": {
           "aaxis": {
            "gridcolor": "white",
            "linecolor": "white",
            "ticks": ""
           },
           "baxis": {
            "gridcolor": "white",
            "linecolor": "white",
            "ticks": ""
           },
           "bgcolor": "#E5ECF6",
           "caxis": {
            "gridcolor": "white",
            "linecolor": "white",
            "ticks": ""
           }
          },
          "title": {
           "x": 0.05
          },
          "xaxis": {
           "automargin": true,
           "gridcolor": "white",
           "linecolor": "white",
           "ticks": "",
           "title": {
            "standoff": 15
           },
           "zerolinecolor": "white",
           "zerolinewidth": 2
          },
          "yaxis": {
           "automargin": true,
           "gridcolor": "white",
           "linecolor": "white",
           "ticks": "",
           "title": {
            "standoff": 15
           },
           "zerolinecolor": "white",
           "zerolinewidth": 2
          }
         }
        },
        "title": {
         "font": {
          "color": "#4D5663"
         },
         "text": "Month-to-month variation Bitcoin vs Gold"
        },
        "xaxis": {
         "gridcolor": "#E1E5ED",
         "showgrid": true,
         "tickfont": {
          "color": "#4D5663"
         },
         "title": {
          "font": {
           "color": "#4D5663"
          },
          "text": ""
         },
         "zerolinecolor": "#E1E5ED"
        },
        "yaxis": {
         "gridcolor": "#E1E5ED",
         "showgrid": true,
         "tickfont": {
          "color": "#4D5663"
         },
         "title": {
          "font": {
           "color": "#4D5663"
          },
          "text": ""
         },
         "zerolinecolor": "#E1E5ED"
        }
       }
      },
      "text/html": [
       "<div>                            <div id=\"5ccf1b14-7dfb-4eae-bffa-9de89f84983e\" class=\"plotly-graph-div\" style=\"height:525px; width:100%;\"></div>            <script type=\"text/javascript\">                require([\"plotly\"], function(Plotly) {                    window.PLOTLYENV=window.PLOTLYENV || {};\n",
       "                    window.PLOTLYENV.BASE_URL='https://plot.ly';                                    if (document.getElementById(\"5ccf1b14-7dfb-4eae-bffa-9de89f84983e\")) {                    Plotly.newPlot(                        \"5ccf1b14-7dfb-4eae-bffa-9de89f84983e\",                        [{\"marker\":{\"color\":\"rgba(255, 161, 90, 0.6)\",\"line\":{\"color\":\"rgba(255, 161, 90, 1.0)\",\"width\":1}},\"name\":\"Bitcoin\",\"orientation\":\"v\",\"text\":\"\",\"type\":\"bar\",\"x\":[\"2014-10-31\",\"2014-11-30\",\"2014-12-31\",\"2015-01-31\",\"2015-02-28\",\"2015-03-31\",\"2015-04-30\",\"2015-05-31\",\"2015-06-30\",\"2015-07-31\",\"2015-08-31\",\"2015-09-30\",\"2015-10-31\",\"2015-11-30\",\"2015-12-31\",\"2016-01-31\",\"2016-02-29\",\"2016-03-31\",\"2016-04-30\",\"2016-05-31\",\"2016-06-30\",\"2016-07-31\",\"2016-08-31\",\"2016-09-30\",\"2016-10-31\",\"2016-11-30\",\"2016-12-31\",\"2017-01-31\",\"2017-02-28\",\"2017-03-31\",\"2017-04-30\",\"2017-05-31\",\"2017-06-30\",\"2017-07-31\",\"2017-08-31\",\"2017-09-30\",\"2017-10-31\",\"2017-11-30\",\"2017-12-31\",\"2018-01-31\",\"2018-02-28\",\"2018-03-31\",\"2018-04-30\",\"2018-05-31\",\"2018-06-30\",\"2018-07-31\",\"2018-08-31\",\"2018-09-30\",\"2018-10-31\",\"2018-11-30\",\"2018-12-31\",\"2019-01-31\",\"2019-02-28\",\"2019-03-31\",\"2019-04-30\",\"2019-05-31\",\"2019-06-30\",\"2019-07-31\",\"2019-08-31\",\"2019-09-30\",\"2019-10-31\",\"2019-11-30\",\"2019-12-31\",\"2020-01-31\",\"2020-02-29\",\"2020-03-31\",\"2020-04-30\",\"2020-05-31\",\"2020-06-30\",\"2020-07-31\",\"2020-08-31\",\"2020-09-30\",\"2020-10-31\",\"2020-11-30\",\"2020-12-31\",\"2021-01-31\",\"2021-02-28\",\"2021-03-31\",\"2021-04-30\",\"2021-05-31\",\"2021-06-30\",\"2021-07-31\",\"2021-08-31\",\"2021-09-30\",\"2021-10-31\",\"2021-11-30\"],\"y\":[0.03820386800962061,0.033185117719017665,-0.12932067811892944,-0.2658942121147818,-0.002375913414572328,0.11650935407722174,-0.13801745998869053,0.032333899298115476,0.030364201500442833,0.18704315163365193,-0.1582135162874252,-0.04460568497547557,0.19840898242965355,0.2726002067013855,0.21564329589300835,-0.07358346488166823,0.03062317976402218,0.014779235485992803,0.05007729713354725,0.11704388566328783,0.3863376782603285,-0.04030360274392919,-0.1044718406031172,0.0370246661925957,0.09667663413014727,0.10359915895415206,0.1755057413415928,0.06623761000666128,0.2160292299768356,-0.03401280179616806,0.13840832431444583,0.6426496195306555,0.31029133290201405,-0.007777223257665056,0.6280462681157353,-0.07791080375978698,0.5125427329956891,0.4501935784000697,0.8094064764769018,-0.20976913975378686,-0.1952599930683362,-0.16851309379743007,0.043474818760373735,-0.06527785406765751,-0.20050079941298082,0.10937870069773203,-0.06495797170419915,-0.024414044517716227,-0.013887986383655737,-0.2173759197676769,-0.2545372250851057,-0.05615538501108219,0.05771614946517056,0.07208098245454586,0.3294252887363929,0.5220385827603755,0.17703355290347456,0.10189397421005308,-0.011768301442042328,-0.10066828766632752,-0.05940211151686947,-0.09126600344180813,-0.07649562875155902,0.17504927118019142,0.1061466568102063,-0.3348114743760806,0.19905397146873072,0.19327128116953984,0.017853443618118137,0.05591938279689712,0.1613120898511553,-0.06682617658760559,0.16186326103323667,0.4074957201951621,0.455350408559241,0.37253833224548916,0.36364355744337473,0.18862444726521477,-0.018289234752292938,-0.2398349666775199,-0.14257139148179487,-0.023294538183937452,0.3624588177646928,-0.04085166936969964,0.29146554741564246,0.09729705824772039]},{\"marker\":{\"color\":\"rgba(255, 65, 10, 0.6)\",\"line\":{\"color\":\"rgba(255, 65, 10, 1.0)\",\"width\":1}},\"name\":\"Gold\",\"orientation\":\"v\",\"text\":\"\",\"type\":\"bar\",\"x\":[\"2014-10-31\",\"2014-11-30\",\"2014-12-31\",\"2015-01-31\",\"2015-02-28\",\"2015-03-31\",\"2015-04-30\",\"2015-05-31\",\"2015-06-30\",\"2015-07-31\",\"2015-08-31\",\"2015-09-30\",\"2015-10-31\",\"2015-11-30\",\"2015-12-31\",\"2016-01-31\",\"2016-02-29\",\"2016-03-31\",\"2016-04-30\",\"2016-05-31\",\"2016-06-30\",\"2016-07-31\",\"2016-08-31\",\"2016-09-30\",\"2016-10-31\",\"2016-11-30\",\"2016-12-31\",\"2017-01-31\",\"2017-02-28\",\"2017-03-31\",\"2017-04-30\",\"2017-05-31\",\"2017-06-30\",\"2017-07-31\",\"2017-08-31\",\"2017-09-30\",\"2017-10-31\",\"2017-11-30\",\"2017-12-31\",\"2018-01-31\",\"2018-02-28\",\"2018-03-31\",\"2018-04-30\",\"2018-05-31\",\"2018-06-30\",\"2018-07-31\",\"2018-08-31\",\"2018-09-30\",\"2018-10-31\",\"2018-11-30\",\"2018-12-31\",\"2019-01-31\",\"2019-02-28\",\"2019-03-31\",\"2019-04-30\",\"2019-05-31\",\"2019-06-30\",\"2019-07-31\",\"2019-08-31\",\"2019-09-30\",\"2019-10-31\",\"2019-11-30\",\"2019-12-31\",\"2020-01-31\",\"2020-02-29\",\"2020-03-31\",\"2020-04-30\",\"2020-05-31\",\"2020-06-30\",\"2020-07-31\",\"2020-08-31\",\"2020-09-30\",\"2020-10-31\",\"2020-11-30\",\"2020-12-31\",\"2021-01-31\",\"2021-02-28\",\"2021-03-31\",\"2021-04-30\",\"2021-05-31\",\"2021-06-30\",\"2021-07-31\",\"2021-08-31\",\"2021-09-30\",\"2021-10-31\",\"2021-11-30\"],\"y\":[-0.11088440014775891,-0.0698549349479407,-0.08587005510142465,0.08288152107382984,0.05046932513378355,-0.10368385211189535,0.1348069371292897,-0.019792341262565794,-0.10549684277155635,-0.254578946048451,-0.14244168173912852,-0.07581401737978777,0.17759159721053352,-0.042019847344909156,0.02231048926765844,0.15341279212327485,0.46441559979692326,0.09821726942227071,0.1862254832720469,0.09669628708477163,0.13440769897326388,0.04526691764702373,-0.07135726864311154,-0.1151018886179851,-0.05301270412274528,-0.09562079199465012,-0.003439071347988376,0.16335872394740347,0.09249888697409214,-0.015977779292510874,-0.004385318009485606,-0.12141068014355727,-0.019827064628823998,0.006335454043097544,0.06360321843670991,-0.01820842630702757,-0.07673175192038317,-0.09869186822066378,0.009786524460316137,0.029902879070589305,-0.14369940243810508,-0.014995867283068454,0.07964970258951509,0.0024528932280314386,-0.019060914667203943,-0.06215394122841822,-0.1443159667900632,0.0023523037179300488,0.21102845992965968,0.025300999922431178,0.030817213436118207,-0.06152386255322839,0.044037860260818684,0.026771955692507676,-0.013768486189369988,-0.053922003467602675,0.18636316625388094,0.1357252150788173,0.12363754772566926,-0.04928540004458293,-0.03943373879552836,-0.03172518837861993,0.07657374074331846,0.027318234099834138,0.07339455168852593,-0.05828528474228256,0.3738175850352161,0.04620097164969561,-0.05926118707008898,0.12710705228074115,0.0294161285217045,-0.0046753503175207545,-0.04438418413688239,-0.09053367085236452,-0.07115236015607285,0.011975995096720649,-0.10779983910201585,-0.01640617374742004,0.07030253474323889,0.10535626124707487,-0.09980016042421369,-0.014826071697079168,-0.044057339735465884,-0.0755469866457592,0.024006490107359113,0.03841061623680675]}],                        {\"legend\":{\"bgcolor\":\"#F5F6F9\",\"font\":{\"color\":\"#4D5663\"}},\"paper_bgcolor\":\"#F5F6F9\",\"plot_bgcolor\":\"#F5F6F9\",\"template\":{\"data\":{\"bar\":[{\"error_x\":{\"color\":\"#2a3f5f\"},\"error_y\":{\"color\":\"#2a3f5f\"},\"marker\":{\"line\":{\"color\":\"#E5ECF6\",\"width\":0.5},\"pattern\":{\"fillmode\":\"overlay\",\"size\":10,\"solidity\":0.2}},\"type\":\"bar\"}],\"barpolar\":[{\"marker\":{\"line\":{\"color\":\"#E5ECF6\",\"width\":0.5},\"pattern\":{\"fillmode\":\"overlay\",\"size\":10,\"solidity\":0.2}},\"type\":\"barpolar\"}],\"carpet\":[{\"aaxis\":{\"endlinecolor\":\"#2a3f5f\",\"gridcolor\":\"white\",\"linecolor\":\"white\",\"minorgridcolor\":\"white\",\"startlinecolor\":\"#2a3f5f\"},\"baxis\":{\"endlinecolor\":\"#2a3f5f\",\"gridcolor\":\"white\",\"linecolor\":\"white\",\"minorgridcolor\":\"white\",\"startlinecolor\":\"#2a3f5f\"},\"type\":\"carpet\"}],\"choropleth\":[{\"colorbar\":{\"outlinewidth\":0,\"ticks\":\"\"},\"type\":\"choropleth\"}],\"contour\":[{\"colorbar\":{\"outlinewidth\":0,\"ticks\":\"\"},\"colorscale\":[[0.0,\"#0d0887\"],[0.1111111111111111,\"#46039f\"],[0.2222222222222222,\"#7201a8\"],[0.3333333333333333,\"#9c179e\"],[0.4444444444444444,\"#bd3786\"],[0.5555555555555556,\"#d8576b\"],[0.6666666666666666,\"#ed7953\"],[0.7777777777777778,\"#fb9f3a\"],[0.8888888888888888,\"#fdca26\"],[1.0,\"#f0f921\"]],\"type\":\"contour\"}],\"contourcarpet\":[{\"colorbar\":{\"outlinewidth\":0,\"ticks\":\"\"},\"type\":\"contourcarpet\"}],\"heatmap\":[{\"colorbar\":{\"outlinewidth\":0,\"ticks\":\"\"},\"colorscale\":[[0.0,\"#0d0887\"],[0.1111111111111111,\"#46039f\"],[0.2222222222222222,\"#7201a8\"],[0.3333333333333333,\"#9c179e\"],[0.4444444444444444,\"#bd3786\"],[0.5555555555555556,\"#d8576b\"],[0.6666666666666666,\"#ed7953\"],[0.7777777777777778,\"#fb9f3a\"],[0.8888888888888888,\"#fdca26\"],[1.0,\"#f0f921\"]],\"type\":\"heatmap\"}],\"heatmapgl\":[{\"colorbar\":{\"outlinewidth\":0,\"ticks\":\"\"},\"colorscale\":[[0.0,\"#0d0887\"],[0.1111111111111111,\"#46039f\"],[0.2222222222222222,\"#7201a8\"],[0.3333333333333333,\"#9c179e\"],[0.4444444444444444,\"#bd3786\"],[0.5555555555555556,\"#d8576b\"],[0.6666666666666666,\"#ed7953\"],[0.7777777777777778,\"#fb9f3a\"],[0.8888888888888888,\"#fdca26\"],[1.0,\"#f0f921\"]],\"type\":\"heatmapgl\"}],\"histogram\":[{\"marker\":{\"pattern\":{\"fillmode\":\"overlay\",\"size\":10,\"solidity\":0.2}},\"type\":\"histogram\"}],\"histogram2d\":[{\"colorbar\":{\"outlinewidth\":0,\"ticks\":\"\"},\"colorscale\":[[0.0,\"#0d0887\"],[0.1111111111111111,\"#46039f\"],[0.2222222222222222,\"#7201a8\"],[0.3333333333333333,\"#9c179e\"],[0.4444444444444444,\"#bd3786\"],[0.5555555555555556,\"#d8576b\"],[0.6666666666666666,\"#ed7953\"],[0.7777777777777778,\"#fb9f3a\"],[0.8888888888888888,\"#fdca26\"],[1.0,\"#f0f921\"]],\"type\":\"histogram2d\"}],\"histogram2dcontour\":[{\"colorbar\":{\"outlinewidth\":0,\"ticks\":\"\"},\"colorscale\":[[0.0,\"#0d0887\"],[0.1111111111111111,\"#46039f\"],[0.2222222222222222,\"#7201a8\"],[0.3333333333333333,\"#9c179e\"],[0.4444444444444444,\"#bd3786\"],[0.5555555555555556,\"#d8576b\"],[0.6666666666666666,\"#ed7953\"],[0.7777777777777778,\"#fb9f3a\"],[0.8888888888888888,\"#fdca26\"],[1.0,\"#f0f921\"]],\"type\":\"histogram2dcontour\"}],\"mesh3d\":[{\"colorbar\":{\"outlinewidth\":0,\"ticks\":\"\"},\"type\":\"mesh3d\"}],\"parcoords\":[{\"line\":{\"colorbar\":{\"outlinewidth\":0,\"ticks\":\"\"}},\"type\":\"parcoords\"}],\"pie\":[{\"automargin\":true,\"type\":\"pie\"}],\"scatter\":[{\"marker\":{\"colorbar\":{\"outlinewidth\":0,\"ticks\":\"\"}},\"type\":\"scatter\"}],\"scatter3d\":[{\"line\":{\"colorbar\":{\"outlinewidth\":0,\"ticks\":\"\"}},\"marker\":{\"colorbar\":{\"outlinewidth\":0,\"ticks\":\"\"}},\"type\":\"scatter3d\"}],\"scattercarpet\":[{\"marker\":{\"colorbar\":{\"outlinewidth\":0,\"ticks\":\"\"}},\"type\":\"scattercarpet\"}],\"scattergeo\":[{\"marker\":{\"colorbar\":{\"outlinewidth\":0,\"ticks\":\"\"}},\"type\":\"scattergeo\"}],\"scattergl\":[{\"marker\":{\"colorbar\":{\"outlinewidth\":0,\"ticks\":\"\"}},\"type\":\"scattergl\"}],\"scattermapbox\":[{\"marker\":{\"colorbar\":{\"outlinewidth\":0,\"ticks\":\"\"}},\"type\":\"scattermapbox\"}],\"scatterpolar\":[{\"marker\":{\"colorbar\":{\"outlinewidth\":0,\"ticks\":\"\"}},\"type\":\"scatterpolar\"}],\"scatterpolargl\":[{\"marker\":{\"colorbar\":{\"outlinewidth\":0,\"ticks\":\"\"}},\"type\":\"scatterpolargl\"}],\"scatterternary\":[{\"marker\":{\"colorbar\":{\"outlinewidth\":0,\"ticks\":\"\"}},\"type\":\"scatterternary\"}],\"surface\":[{\"colorbar\":{\"outlinewidth\":0,\"ticks\":\"\"},\"colorscale\":[[0.0,\"#0d0887\"],[0.1111111111111111,\"#46039f\"],[0.2222222222222222,\"#7201a8\"],[0.3333333333333333,\"#9c179e\"],[0.4444444444444444,\"#bd3786\"],[0.5555555555555556,\"#d8576b\"],[0.6666666666666666,\"#ed7953\"],[0.7777777777777778,\"#fb9f3a\"],[0.8888888888888888,\"#fdca26\"],[1.0,\"#f0f921\"]],\"type\":\"surface\"}],\"table\":[{\"cells\":{\"fill\":{\"color\":\"#EBF0F8\"},\"line\":{\"color\":\"white\"}},\"header\":{\"fill\":{\"color\":\"#C8D4E3\"},\"line\":{\"color\":\"white\"}},\"type\":\"table\"}]},\"layout\":{\"annotationdefaults\":{\"arrowcolor\":\"#2a3f5f\",\"arrowhead\":0,\"arrowwidth\":1},\"autotypenumbers\":\"strict\",\"coloraxis\":{\"colorbar\":{\"outlinewidth\":0,\"ticks\":\"\"}},\"colorscale\":{\"diverging\":[[0,\"#8e0152\"],[0.1,\"#c51b7d\"],[0.2,\"#de77ae\"],[0.3,\"#f1b6da\"],[0.4,\"#fde0ef\"],[0.5,\"#f7f7f7\"],[0.6,\"#e6f5d0\"],[0.7,\"#b8e186\"],[0.8,\"#7fbc41\"],[0.9,\"#4d9221\"],[1,\"#276419\"]],\"sequential\":[[0.0,\"#0d0887\"],[0.1111111111111111,\"#46039f\"],[0.2222222222222222,\"#7201a8\"],[0.3333333333333333,\"#9c179e\"],[0.4444444444444444,\"#bd3786\"],[0.5555555555555556,\"#d8576b\"],[0.6666666666666666,\"#ed7953\"],[0.7777777777777778,\"#fb9f3a\"],[0.8888888888888888,\"#fdca26\"],[1.0,\"#f0f921\"]],\"sequentialminus\":[[0.0,\"#0d0887\"],[0.1111111111111111,\"#46039f\"],[0.2222222222222222,\"#7201a8\"],[0.3333333333333333,\"#9c179e\"],[0.4444444444444444,\"#bd3786\"],[0.5555555555555556,\"#d8576b\"],[0.6666666666666666,\"#ed7953\"],[0.7777777777777778,\"#fb9f3a\"],[0.8888888888888888,\"#fdca26\"],[1.0,\"#f0f921\"]]},\"colorway\":[\"#636efa\",\"#EF553B\",\"#00cc96\",\"#ab63fa\",\"#FFA15A\",\"#19d3f3\",\"#FF6692\",\"#B6E880\",\"#FF97FF\",\"#FECB52\"],\"font\":{\"color\":\"#2a3f5f\"},\"geo\":{\"bgcolor\":\"white\",\"lakecolor\":\"white\",\"landcolor\":\"#E5ECF6\",\"showlakes\":true,\"showland\":true,\"subunitcolor\":\"white\"},\"hoverlabel\":{\"align\":\"left\"},\"hovermode\":\"closest\",\"mapbox\":{\"style\":\"light\"},\"paper_bgcolor\":\"white\",\"plot_bgcolor\":\"#E5ECF6\",\"polar\":{\"angularaxis\":{\"gridcolor\":\"white\",\"linecolor\":\"white\",\"ticks\":\"\"},\"bgcolor\":\"#E5ECF6\",\"radialaxis\":{\"gridcolor\":\"white\",\"linecolor\":\"white\",\"ticks\":\"\"}},\"scene\":{\"xaxis\":{\"backgroundcolor\":\"#E5ECF6\",\"gridcolor\":\"white\",\"gridwidth\":2,\"linecolor\":\"white\",\"showbackground\":true,\"ticks\":\"\",\"zerolinecolor\":\"white\"},\"yaxis\":{\"backgroundcolor\":\"#E5ECF6\",\"gridcolor\":\"white\",\"gridwidth\":2,\"linecolor\":\"white\",\"showbackground\":true,\"ticks\":\"\",\"zerolinecolor\":\"white\"},\"zaxis\":{\"backgroundcolor\":\"#E5ECF6\",\"gridcolor\":\"white\",\"gridwidth\":2,\"linecolor\":\"white\",\"showbackground\":true,\"ticks\":\"\",\"zerolinecolor\":\"white\"}},\"shapedefaults\":{\"line\":{\"color\":\"#2a3f5f\"}},\"ternary\":{\"aaxis\":{\"gridcolor\":\"white\",\"linecolor\":\"white\",\"ticks\":\"\"},\"baxis\":{\"gridcolor\":\"white\",\"linecolor\":\"white\",\"ticks\":\"\"},\"bgcolor\":\"#E5ECF6\",\"caxis\":{\"gridcolor\":\"white\",\"linecolor\":\"white\",\"ticks\":\"\"}},\"title\":{\"x\":0.05},\"xaxis\":{\"automargin\":true,\"gridcolor\":\"white\",\"linecolor\":\"white\",\"ticks\":\"\",\"title\":{\"standoff\":15},\"zerolinecolor\":\"white\",\"zerolinewidth\":2},\"yaxis\":{\"automargin\":true,\"gridcolor\":\"white\",\"linecolor\":\"white\",\"ticks\":\"\",\"title\":{\"standoff\":15},\"zerolinecolor\":\"white\",\"zerolinewidth\":2}}},\"title\":{\"font\":{\"color\":\"#4D5663\"},\"text\":\"Month-to-month variation Bitcoin vs Gold\"},\"xaxis\":{\"gridcolor\":\"#E1E5ED\",\"showgrid\":true,\"tickfont\":{\"color\":\"#4D5663\"},\"title\":{\"font\":{\"color\":\"#4D5663\"},\"text\":\"\"},\"zerolinecolor\":\"#E1E5ED\"},\"yaxis\":{\"gridcolor\":\"#E1E5ED\",\"showgrid\":true,\"tickfont\":{\"color\":\"#4D5663\"},\"title\":{\"font\":{\"color\":\"#4D5663\"},\"text\":\"\"},\"zerolinecolor\":\"#E1E5ED\"}},                        {\"showLink\": true, \"linkText\": \"Export to plot.ly\", \"plotlyServerURL\": \"https://plot.ly\", \"responsive\": true}                    ).then(function(){\n",
       "                            \n",
       "var gd = document.getElementById('5ccf1b14-7dfb-4eae-bffa-9de89f84983e');\n",
       "var x = new MutationObserver(function (mutations, observer) {{\n",
       "        var display = window.getComputedStyle(gd).display;\n",
       "        if (!display || display === 'none') {{\n",
       "            console.log([gd, 'removed!']);\n",
       "            Plotly.purge(gd);\n",
       "            observer.disconnect();\n",
       "        }}\n",
       "}});\n",
       "\n",
       "// Listen for the removal of the full notebook cells\n",
       "var notebookContainer = gd.closest('#notebook-container');\n",
       "if (notebookContainer) {{\n",
       "    x.observe(notebookContainer, {childList: true});\n",
       "}}\n",
       "\n",
       "// Listen for the clearing of the current output cell\n",
       "var outputEl = gd.closest('.output');\n",
       "if (outputEl) {{\n",
       "    x.observe(outputEl, {childList: true});\n",
       "}}\n",
       "\n",
       "                        })                };                });            </script>        </div>"
      ]
     },
     "metadata": {},
     "output_type": "display_data"
    }
   ],
   "source": [
    "retorno_btc_vs_gold = pd.DataFrame(data=[btc_return_month,gold_return]).T\n",
    "retorno_btc_vs_gold.columns=['Bitcoin','Gold']\n",
    "retorno_btc_vs_gold.dropna(inplace=True)\n",
    "retorno_btc_vs_gold.iplot(kind='bar',colors=['#FFA15A','rgb(255,65,10)'],title=\"Month-to-month variation Bitcoin vs Gold\")"
   ]
  },
  {
   "cell_type": "code",
   "execution_count": 230,
   "metadata": {},
   "outputs": [
    {
     "data": {
      "application/vnd.plotly.v1+json": {
       "config": {
        "linkText": "Export to plot.ly",
        "plotlyServerURL": "https://plot.ly",
        "showLink": true
       },
       "data": [
        {
         "marker": {
          "color": "rgba(255, 161, 90, 0.6)",
          "line": {
           "color": "rgba(255, 161, 90, 1.0)",
           "width": 1
          }
         },
         "name": "Bitcoin",
         "orientation": "v",
         "text": "",
         "type": "bar",
         "x": [
          "2014-10-31",
          "2014-11-30",
          "2014-12-31",
          "2015-01-31",
          "2015-02-28",
          "2015-03-31",
          "2015-04-30",
          "2015-05-31",
          "2015-06-30",
          "2015-07-31",
          "2015-08-31",
          "2015-09-30",
          "2015-10-31",
          "2015-11-30",
          "2015-12-31",
          "2016-01-31",
          "2016-02-29",
          "2016-03-31",
          "2016-04-30",
          "2016-05-31",
          "2016-06-30",
          "2016-07-31",
          "2016-08-31",
          "2016-09-30",
          "2016-10-31",
          "2016-11-30",
          "2016-12-31",
          "2017-01-31",
          "2017-02-28",
          "2017-03-31",
          "2017-04-30",
          "2017-05-31",
          "2017-06-30",
          "2017-07-31",
          "2017-08-31",
          "2017-09-30",
          "2017-10-31",
          "2017-11-30",
          "2017-12-31",
          "2018-01-31",
          "2018-02-28",
          "2018-03-31",
          "2018-04-30",
          "2018-05-31",
          "2018-06-30",
          "2018-07-31",
          "2018-08-31",
          "2018-09-30",
          "2018-10-31",
          "2018-11-30",
          "2018-12-31",
          "2019-01-31",
          "2019-02-28",
          "2019-03-31",
          "2019-04-30",
          "2019-05-31",
          "2019-06-30",
          "2019-07-31",
          "2019-08-31",
          "2019-09-30",
          "2019-10-31",
          "2019-11-30",
          "2019-12-31",
          "2020-01-31",
          "2020-02-29",
          "2020-03-31",
          "2020-04-30",
          "2020-05-31",
          "2020-06-30",
          "2020-07-31",
          "2020-08-31",
          "2020-09-30",
          "2020-10-31",
          "2020-11-30",
          "2020-12-31",
          "2021-01-31",
          "2021-02-28",
          "2021-03-31",
          "2021-04-30",
          "2021-05-31",
          "2021-06-30",
          "2021-07-31",
          "2021-08-31",
          "2021-09-30",
          "2021-10-31",
          "2021-11-30"
         ],
         "y": [
          0.03820386800962061,
          0.033185117719017665,
          -0.12932067811892944,
          -0.2658942121147818,
          -0.002375913414572328,
          0.11650935407722174,
          -0.13801745998869053,
          0.032333899298115476,
          0.030364201500442833,
          0.18704315163365193,
          -0.1582135162874252,
          -0.04460568497547557,
          0.19840898242965355,
          0.2726002067013855,
          0.21564329589300835,
          -0.07358346488166823,
          0.03062317976402218,
          0.014779235485992803,
          0.05007729713354725,
          0.11704388566328783,
          0.3863376782603285,
          -0.04030360274392919,
          -0.1044718406031172,
          0.0370246661925957,
          0.09667663413014727,
          0.10359915895415206,
          0.1755057413415928,
          0.06623761000666128,
          0.2160292299768356,
          -0.03401280179616806,
          0.13840832431444583,
          0.6426496195306555,
          0.31029133290201405,
          -0.007777223257665056,
          0.6280462681157353,
          -0.07791080375978698,
          0.5125427329956891,
          0.4501935784000697,
          0.8094064764769018,
          -0.20976913975378686,
          -0.1952599930683362,
          -0.16851309379743007,
          0.043474818760373735,
          -0.06527785406765751,
          -0.20050079941298082,
          0.10937870069773203,
          -0.06495797170419915,
          -0.024414044517716227,
          -0.013887986383655737,
          -0.2173759197676769,
          -0.2545372250851057,
          -0.05615538501108219,
          0.05771614946517056,
          0.07208098245454586,
          0.3294252887363929,
          0.5220385827603755,
          0.17703355290347456,
          0.10189397421005308,
          -0.011768301442042328,
          -0.10066828766632752,
          -0.05940211151686947,
          -0.09126600344180813,
          -0.07649562875155902,
          0.17504927118019142,
          0.1061466568102063,
          -0.3348114743760806,
          0.19905397146873072,
          0.19327128116953984,
          0.017853443618118137,
          0.05591938279689712,
          0.1613120898511553,
          -0.06682617658760559,
          0.16186326103323667,
          0.4074957201951621,
          0.455350408559241,
          0.37253833224548916,
          0.36364355744337473,
          0.18862444726521477,
          -0.018289234752292938,
          -0.2398349666775199,
          -0.14257139148179487,
          -0.023294538183937452,
          0.3624588177646928,
          -0.04085166936969964,
          0.29146554741564246,
          0.09729705824772039
         ]
        },
        {
         "marker": {
          "color": "rgba(10, 75, 200, 0.6)",
          "line": {
           "color": "rgba(10, 75, 200, 1.0)",
           "width": 1
          }
         },
         "name": "Nasdaq",
         "orientation": "v",
         "text": "",
         "type": "bar",
         "x": [
          "2014-10-31",
          "2014-11-30",
          "2014-12-31",
          "2015-01-31",
          "2015-02-28",
          "2015-03-31",
          "2015-04-30",
          "2015-05-31",
          "2015-06-30",
          "2015-07-31",
          "2015-08-31",
          "2015-09-30",
          "2015-10-31",
          "2015-11-30",
          "2015-12-31",
          "2016-01-31",
          "2016-02-29",
          "2016-03-31",
          "2016-04-30",
          "2016-05-31",
          "2016-06-30",
          "2016-07-31",
          "2016-08-31",
          "2016-09-30",
          "2016-10-31",
          "2016-11-30",
          "2016-12-31",
          "2017-01-31",
          "2017-02-28",
          "2017-03-31",
          "2017-04-30",
          "2017-05-31",
          "2017-06-30",
          "2017-07-31",
          "2017-08-31",
          "2017-09-30",
          "2017-10-31",
          "2017-11-30",
          "2017-12-31",
          "2018-01-31",
          "2018-02-28",
          "2018-03-31",
          "2018-04-30",
          "2018-05-31",
          "2018-06-30",
          "2018-07-31",
          "2018-08-31",
          "2018-09-30",
          "2018-10-31",
          "2018-11-30",
          "2018-12-31",
          "2019-01-31",
          "2019-02-28",
          "2019-03-31",
          "2019-04-30",
          "2019-05-31",
          "2019-06-30",
          "2019-07-31",
          "2019-08-31",
          "2019-09-30",
          "2019-10-31",
          "2019-11-30",
          "2019-12-31",
          "2020-01-31",
          "2020-02-29",
          "2020-03-31",
          "2020-04-30",
          "2020-05-31",
          "2020-06-30",
          "2020-07-31",
          "2020-08-31",
          "2020-09-30",
          "2020-10-31",
          "2020-11-30",
          "2020-12-31",
          "2021-01-31",
          "2021-02-28",
          "2021-03-31",
          "2021-04-30",
          "2021-05-31",
          "2021-06-30",
          "2021-07-31",
          "2021-08-31",
          "2021-09-30",
          "2021-10-31",
          "2021-11-30"
         ],
         "y": [
          -0.027017731712189907,
          0.0664614719019272,
          0.0755011925204927,
          -0.012907889834405717,
          0.06884200347333036,
          0.0054866233196129155,
          -0.017119494096692556,
          0.04688123542541578,
          -0.024840083235268984,
          0.026261295583710043,
          0.015513509688521276,
          0.0031811030524426798,
          0.07972376544657567,
          0.04191923883327742,
          -0.027223130579674182,
          0.02347911925266244,
          0.07720562699080058,
          0.04562283539479517,
          -0.025187968059133925,
          0.015232973159982732,
          0.002032881214327764,
          0.05851710905877794,
          0.04120028565910183,
          -0.024921069083459924,
          -0.04160159503500993,
          -0.005756008151389547,
          0.03716999489336548,
          0.012744989399782636,
          0.03665669767408519,
          -0.007211251986857903,
          -0.015643913023721034,
          -0.02073811965744976,
          0.04963806876494892,
          0.03411720603594803,
          0.03289170869707081,
          0.007783431030663035,
          -0.03179272590322679,
          0.0454701165105984,
          0.012830864876409276,
          0.0436937765010732,
          -0.017792861583557418,
          0.06956140511115572,
          0.03376551223791657,
          0.05010919494482757,
          0.028175057258945202,
          -0.004626885026454808,
          0.008106172466813888,
          -0.03796137377817388,
          -0.07213658995900352,
          0.07466771462594624,
          -0.06873595294303092,
          0.01475132796634493,
          0.05621690547185776,
          -0.04661728526437392,
          0.06276001323223745,
          0.013359941906546657,
          0.0655118314186125,
          0.04429535799246165,
          -0.02242734861794038,
          0.027299444789482763,
          -0.016521590117040463,
          0.045071899187571374,
          0.03536709311069175,
          0.03922738828902972,
          0.012284876981516701,
          -0.1499100772177544,
          0.13751045240732318,
          0.051134634270366464,
          0.043004836521903345,
          0.08948224343702527,
          0.01975482262939332,
          -0.05006264707781638,
          0.017762484995354155,
          0.01225305311065239,
          0.014453780881115819,
          0.07546108314356692,
          0.0230099569676514,
          0.04065087320264538,
          0.08824537840360458,
          0.03764603458375104,
          0.0632455804242984,
          0.03502419285130687,
          0.05420068435302938,
          0.016568791662295412,
          0.04248659046471048,
          0.04841074997021089
         ]
        }
       ],
       "layout": {
        "legend": {
         "bgcolor": "#F5F6F9",
         "font": {
          "color": "#4D5663"
         }
        },
        "paper_bgcolor": "#F5F6F9",
        "plot_bgcolor": "#F5F6F9",
        "template": {
         "data": {
          "bar": [
           {
            "error_x": {
             "color": "#2a3f5f"
            },
            "error_y": {
             "color": "#2a3f5f"
            },
            "marker": {
             "line": {
              "color": "#E5ECF6",
              "width": 0.5
             },
             "pattern": {
              "fillmode": "overlay",
              "size": 10,
              "solidity": 0.2
             }
            },
            "type": "bar"
           }
          ],
          "barpolar": [
           {
            "marker": {
             "line": {
              "color": "#E5ECF6",
              "width": 0.5
             },
             "pattern": {
              "fillmode": "overlay",
              "size": 10,
              "solidity": 0.2
             }
            },
            "type": "barpolar"
           }
          ],
          "carpet": [
           {
            "aaxis": {
             "endlinecolor": "#2a3f5f",
             "gridcolor": "white",
             "linecolor": "white",
             "minorgridcolor": "white",
             "startlinecolor": "#2a3f5f"
            },
            "baxis": {
             "endlinecolor": "#2a3f5f",
             "gridcolor": "white",
             "linecolor": "white",
             "minorgridcolor": "white",
             "startlinecolor": "#2a3f5f"
            },
            "type": "carpet"
           }
          ],
          "choropleth": [
           {
            "colorbar": {
             "outlinewidth": 0,
             "ticks": ""
            },
            "type": "choropleth"
           }
          ],
          "contour": [
           {
            "colorbar": {
             "outlinewidth": 0,
             "ticks": ""
            },
            "colorscale": [
             [
              0,
              "#0d0887"
             ],
             [
              0.1111111111111111,
              "#46039f"
             ],
             [
              0.2222222222222222,
              "#7201a8"
             ],
             [
              0.3333333333333333,
              "#9c179e"
             ],
             [
              0.4444444444444444,
              "#bd3786"
             ],
             [
              0.5555555555555556,
              "#d8576b"
             ],
             [
              0.6666666666666666,
              "#ed7953"
             ],
             [
              0.7777777777777778,
              "#fb9f3a"
             ],
             [
              0.8888888888888888,
              "#fdca26"
             ],
             [
              1,
              "#f0f921"
             ]
            ],
            "type": "contour"
           }
          ],
          "contourcarpet": [
           {
            "colorbar": {
             "outlinewidth": 0,
             "ticks": ""
            },
            "type": "contourcarpet"
           }
          ],
          "heatmap": [
           {
            "colorbar": {
             "outlinewidth": 0,
             "ticks": ""
            },
            "colorscale": [
             [
              0,
              "#0d0887"
             ],
             [
              0.1111111111111111,
              "#46039f"
             ],
             [
              0.2222222222222222,
              "#7201a8"
             ],
             [
              0.3333333333333333,
              "#9c179e"
             ],
             [
              0.4444444444444444,
              "#bd3786"
             ],
             [
              0.5555555555555556,
              "#d8576b"
             ],
             [
              0.6666666666666666,
              "#ed7953"
             ],
             [
              0.7777777777777778,
              "#fb9f3a"
             ],
             [
              0.8888888888888888,
              "#fdca26"
             ],
             [
              1,
              "#f0f921"
             ]
            ],
            "type": "heatmap"
           }
          ],
          "heatmapgl": [
           {
            "colorbar": {
             "outlinewidth": 0,
             "ticks": ""
            },
            "colorscale": [
             [
              0,
              "#0d0887"
             ],
             [
              0.1111111111111111,
              "#46039f"
             ],
             [
              0.2222222222222222,
              "#7201a8"
             ],
             [
              0.3333333333333333,
              "#9c179e"
             ],
             [
              0.4444444444444444,
              "#bd3786"
             ],
             [
              0.5555555555555556,
              "#d8576b"
             ],
             [
              0.6666666666666666,
              "#ed7953"
             ],
             [
              0.7777777777777778,
              "#fb9f3a"
             ],
             [
              0.8888888888888888,
              "#fdca26"
             ],
             [
              1,
              "#f0f921"
             ]
            ],
            "type": "heatmapgl"
           }
          ],
          "histogram": [
           {
            "marker": {
             "pattern": {
              "fillmode": "overlay",
              "size": 10,
              "solidity": 0.2
             }
            },
            "type": "histogram"
           }
          ],
          "histogram2d": [
           {
            "colorbar": {
             "outlinewidth": 0,
             "ticks": ""
            },
            "colorscale": [
             [
              0,
              "#0d0887"
             ],
             [
              0.1111111111111111,
              "#46039f"
             ],
             [
              0.2222222222222222,
              "#7201a8"
             ],
             [
              0.3333333333333333,
              "#9c179e"
             ],
             [
              0.4444444444444444,
              "#bd3786"
             ],
             [
              0.5555555555555556,
              "#d8576b"
             ],
             [
              0.6666666666666666,
              "#ed7953"
             ],
             [
              0.7777777777777778,
              "#fb9f3a"
             ],
             [
              0.8888888888888888,
              "#fdca26"
             ],
             [
              1,
              "#f0f921"
             ]
            ],
            "type": "histogram2d"
           }
          ],
          "histogram2dcontour": [
           {
            "colorbar": {
             "outlinewidth": 0,
             "ticks": ""
            },
            "colorscale": [
             [
              0,
              "#0d0887"
             ],
             [
              0.1111111111111111,
              "#46039f"
             ],
             [
              0.2222222222222222,
              "#7201a8"
             ],
             [
              0.3333333333333333,
              "#9c179e"
             ],
             [
              0.4444444444444444,
              "#bd3786"
             ],
             [
              0.5555555555555556,
              "#d8576b"
             ],
             [
              0.6666666666666666,
              "#ed7953"
             ],
             [
              0.7777777777777778,
              "#fb9f3a"
             ],
             [
              0.8888888888888888,
              "#fdca26"
             ],
             [
              1,
              "#f0f921"
             ]
            ],
            "type": "histogram2dcontour"
           }
          ],
          "mesh3d": [
           {
            "colorbar": {
             "outlinewidth": 0,
             "ticks": ""
            },
            "type": "mesh3d"
           }
          ],
          "parcoords": [
           {
            "line": {
             "colorbar": {
              "outlinewidth": 0,
              "ticks": ""
             }
            },
            "type": "parcoords"
           }
          ],
          "pie": [
           {
            "automargin": true,
            "type": "pie"
           }
          ],
          "scatter": [
           {
            "marker": {
             "colorbar": {
              "outlinewidth": 0,
              "ticks": ""
             }
            },
            "type": "scatter"
           }
          ],
          "scatter3d": [
           {
            "line": {
             "colorbar": {
              "outlinewidth": 0,
              "ticks": ""
             }
            },
            "marker": {
             "colorbar": {
              "outlinewidth": 0,
              "ticks": ""
             }
            },
            "type": "scatter3d"
           }
          ],
          "scattercarpet": [
           {
            "marker": {
             "colorbar": {
              "outlinewidth": 0,
              "ticks": ""
             }
            },
            "type": "scattercarpet"
           }
          ],
          "scattergeo": [
           {
            "marker": {
             "colorbar": {
              "outlinewidth": 0,
              "ticks": ""
             }
            },
            "type": "scattergeo"
           }
          ],
          "scattergl": [
           {
            "marker": {
             "colorbar": {
              "outlinewidth": 0,
              "ticks": ""
             }
            },
            "type": "scattergl"
           }
          ],
          "scattermapbox": [
           {
            "marker": {
             "colorbar": {
              "outlinewidth": 0,
              "ticks": ""
             }
            },
            "type": "scattermapbox"
           }
          ],
          "scatterpolar": [
           {
            "marker": {
             "colorbar": {
              "outlinewidth": 0,
              "ticks": ""
             }
            },
            "type": "scatterpolar"
           }
          ],
          "scatterpolargl": [
           {
            "marker": {
             "colorbar": {
              "outlinewidth": 0,
              "ticks": ""
             }
            },
            "type": "scatterpolargl"
           }
          ],
          "scatterternary": [
           {
            "marker": {
             "colorbar": {
              "outlinewidth": 0,
              "ticks": ""
             }
            },
            "type": "scatterternary"
           }
          ],
          "surface": [
           {
            "colorbar": {
             "outlinewidth": 0,
             "ticks": ""
            },
            "colorscale": [
             [
              0,
              "#0d0887"
             ],
             [
              0.1111111111111111,
              "#46039f"
             ],
             [
              0.2222222222222222,
              "#7201a8"
             ],
             [
              0.3333333333333333,
              "#9c179e"
             ],
             [
              0.4444444444444444,
              "#bd3786"
             ],
             [
              0.5555555555555556,
              "#d8576b"
             ],
             [
              0.6666666666666666,
              "#ed7953"
             ],
             [
              0.7777777777777778,
              "#fb9f3a"
             ],
             [
              0.8888888888888888,
              "#fdca26"
             ],
             [
              1,
              "#f0f921"
             ]
            ],
            "type": "surface"
           }
          ],
          "table": [
           {
            "cells": {
             "fill": {
              "color": "#EBF0F8"
             },
             "line": {
              "color": "white"
             }
            },
            "header": {
             "fill": {
              "color": "#C8D4E3"
             },
             "line": {
              "color": "white"
             }
            },
            "type": "table"
           }
          ]
         },
         "layout": {
          "annotationdefaults": {
           "arrowcolor": "#2a3f5f",
           "arrowhead": 0,
           "arrowwidth": 1
          },
          "autotypenumbers": "strict",
          "coloraxis": {
           "colorbar": {
            "outlinewidth": 0,
            "ticks": ""
           }
          },
          "colorscale": {
           "diverging": [
            [
             0,
             "#8e0152"
            ],
            [
             0.1,
             "#c51b7d"
            ],
            [
             0.2,
             "#de77ae"
            ],
            [
             0.3,
             "#f1b6da"
            ],
            [
             0.4,
             "#fde0ef"
            ],
            [
             0.5,
             "#f7f7f7"
            ],
            [
             0.6,
             "#e6f5d0"
            ],
            [
             0.7,
             "#b8e186"
            ],
            [
             0.8,
             "#7fbc41"
            ],
            [
             0.9,
             "#4d9221"
            ],
            [
             1,
             "#276419"
            ]
           ],
           "sequential": [
            [
             0,
             "#0d0887"
            ],
            [
             0.1111111111111111,
             "#46039f"
            ],
            [
             0.2222222222222222,
             "#7201a8"
            ],
            [
             0.3333333333333333,
             "#9c179e"
            ],
            [
             0.4444444444444444,
             "#bd3786"
            ],
            [
             0.5555555555555556,
             "#d8576b"
            ],
            [
             0.6666666666666666,
             "#ed7953"
            ],
            [
             0.7777777777777778,
             "#fb9f3a"
            ],
            [
             0.8888888888888888,
             "#fdca26"
            ],
            [
             1,
             "#f0f921"
            ]
           ],
           "sequentialminus": [
            [
             0,
             "#0d0887"
            ],
            [
             0.1111111111111111,
             "#46039f"
            ],
            [
             0.2222222222222222,
             "#7201a8"
            ],
            [
             0.3333333333333333,
             "#9c179e"
            ],
            [
             0.4444444444444444,
             "#bd3786"
            ],
            [
             0.5555555555555556,
             "#d8576b"
            ],
            [
             0.6666666666666666,
             "#ed7953"
            ],
            [
             0.7777777777777778,
             "#fb9f3a"
            ],
            [
             0.8888888888888888,
             "#fdca26"
            ],
            [
             1,
             "#f0f921"
            ]
           ]
          },
          "colorway": [
           "#636efa",
           "#EF553B",
           "#00cc96",
           "#ab63fa",
           "#FFA15A",
           "#19d3f3",
           "#FF6692",
           "#B6E880",
           "#FF97FF",
           "#FECB52"
          ],
          "font": {
           "color": "#2a3f5f"
          },
          "geo": {
           "bgcolor": "white",
           "lakecolor": "white",
           "landcolor": "#E5ECF6",
           "showlakes": true,
           "showland": true,
           "subunitcolor": "white"
          },
          "hoverlabel": {
           "align": "left"
          },
          "hovermode": "closest",
          "mapbox": {
           "style": "light"
          },
          "paper_bgcolor": "white",
          "plot_bgcolor": "#E5ECF6",
          "polar": {
           "angularaxis": {
            "gridcolor": "white",
            "linecolor": "white",
            "ticks": ""
           },
           "bgcolor": "#E5ECF6",
           "radialaxis": {
            "gridcolor": "white",
            "linecolor": "white",
            "ticks": ""
           }
          },
          "scene": {
           "xaxis": {
            "backgroundcolor": "#E5ECF6",
            "gridcolor": "white",
            "gridwidth": 2,
            "linecolor": "white",
            "showbackground": true,
            "ticks": "",
            "zerolinecolor": "white"
           },
           "yaxis": {
            "backgroundcolor": "#E5ECF6",
            "gridcolor": "white",
            "gridwidth": 2,
            "linecolor": "white",
            "showbackground": true,
            "ticks": "",
            "zerolinecolor": "white"
           },
           "zaxis": {
            "backgroundcolor": "#E5ECF6",
            "gridcolor": "white",
            "gridwidth": 2,
            "linecolor": "white",
            "showbackground": true,
            "ticks": "",
            "zerolinecolor": "white"
           }
          },
          "shapedefaults": {
           "line": {
            "color": "#2a3f5f"
           }
          },
          "ternary": {
           "aaxis": {
            "gridcolor": "white",
            "linecolor": "white",
            "ticks": ""
           },
           "baxis": {
            "gridcolor": "white",
            "linecolor": "white",
            "ticks": ""
           },
           "bgcolor": "#E5ECF6",
           "caxis": {
            "gridcolor": "white",
            "linecolor": "white",
            "ticks": ""
           }
          },
          "title": {
           "x": 0.05
          },
          "xaxis": {
           "automargin": true,
           "gridcolor": "white",
           "linecolor": "white",
           "ticks": "",
           "title": {
            "standoff": 15
           },
           "zerolinecolor": "white",
           "zerolinewidth": 2
          },
          "yaxis": {
           "automargin": true,
           "gridcolor": "white",
           "linecolor": "white",
           "ticks": "",
           "title": {
            "standoff": 15
           },
           "zerolinecolor": "white",
           "zerolinewidth": 2
          }
         }
        },
        "title": {
         "font": {
          "color": "#4D5663"
         },
         "text": "Month-to-month variation Bitcoin vs Nasdaq"
        },
        "xaxis": {
         "gridcolor": "#E1E5ED",
         "showgrid": true,
         "tickfont": {
          "color": "#4D5663"
         },
         "title": {
          "font": {
           "color": "#4D5663"
          },
          "text": ""
         },
         "zerolinecolor": "#E1E5ED"
        },
        "yaxis": {
         "gridcolor": "#E1E5ED",
         "showgrid": true,
         "tickfont": {
          "color": "#4D5663"
         },
         "title": {
          "font": {
           "color": "#4D5663"
          },
          "text": ""
         },
         "zerolinecolor": "#E1E5ED"
        }
       }
      },
      "text/html": [
       "<div>                            <div id=\"b68a0117-ae65-4e61-9d30-6037b99196b3\" class=\"plotly-graph-div\" style=\"height:525px; width:100%;\"></div>            <script type=\"text/javascript\">                require([\"plotly\"], function(Plotly) {                    window.PLOTLYENV=window.PLOTLYENV || {};\n",
       "                    window.PLOTLYENV.BASE_URL='https://plot.ly';                                    if (document.getElementById(\"b68a0117-ae65-4e61-9d30-6037b99196b3\")) {                    Plotly.newPlot(                        \"b68a0117-ae65-4e61-9d30-6037b99196b3\",                        [{\"marker\":{\"color\":\"rgba(255, 161, 90, 0.6)\",\"line\":{\"color\":\"rgba(255, 161, 90, 1.0)\",\"width\":1}},\"name\":\"Bitcoin\",\"orientation\":\"v\",\"text\":\"\",\"type\":\"bar\",\"x\":[\"2014-10-31\",\"2014-11-30\",\"2014-12-31\",\"2015-01-31\",\"2015-02-28\",\"2015-03-31\",\"2015-04-30\",\"2015-05-31\",\"2015-06-30\",\"2015-07-31\",\"2015-08-31\",\"2015-09-30\",\"2015-10-31\",\"2015-11-30\",\"2015-12-31\",\"2016-01-31\",\"2016-02-29\",\"2016-03-31\",\"2016-04-30\",\"2016-05-31\",\"2016-06-30\",\"2016-07-31\",\"2016-08-31\",\"2016-09-30\",\"2016-10-31\",\"2016-11-30\",\"2016-12-31\",\"2017-01-31\",\"2017-02-28\",\"2017-03-31\",\"2017-04-30\",\"2017-05-31\",\"2017-06-30\",\"2017-07-31\",\"2017-08-31\",\"2017-09-30\",\"2017-10-31\",\"2017-11-30\",\"2017-12-31\",\"2018-01-31\",\"2018-02-28\",\"2018-03-31\",\"2018-04-30\",\"2018-05-31\",\"2018-06-30\",\"2018-07-31\",\"2018-08-31\",\"2018-09-30\",\"2018-10-31\",\"2018-11-30\",\"2018-12-31\",\"2019-01-31\",\"2019-02-28\",\"2019-03-31\",\"2019-04-30\",\"2019-05-31\",\"2019-06-30\",\"2019-07-31\",\"2019-08-31\",\"2019-09-30\",\"2019-10-31\",\"2019-11-30\",\"2019-12-31\",\"2020-01-31\",\"2020-02-29\",\"2020-03-31\",\"2020-04-30\",\"2020-05-31\",\"2020-06-30\",\"2020-07-31\",\"2020-08-31\",\"2020-09-30\",\"2020-10-31\",\"2020-11-30\",\"2020-12-31\",\"2021-01-31\",\"2021-02-28\",\"2021-03-31\",\"2021-04-30\",\"2021-05-31\",\"2021-06-30\",\"2021-07-31\",\"2021-08-31\",\"2021-09-30\",\"2021-10-31\",\"2021-11-30\"],\"y\":[0.03820386800962061,0.033185117719017665,-0.12932067811892944,-0.2658942121147818,-0.002375913414572328,0.11650935407722174,-0.13801745998869053,0.032333899298115476,0.030364201500442833,0.18704315163365193,-0.1582135162874252,-0.04460568497547557,0.19840898242965355,0.2726002067013855,0.21564329589300835,-0.07358346488166823,0.03062317976402218,0.014779235485992803,0.05007729713354725,0.11704388566328783,0.3863376782603285,-0.04030360274392919,-0.1044718406031172,0.0370246661925957,0.09667663413014727,0.10359915895415206,0.1755057413415928,0.06623761000666128,0.2160292299768356,-0.03401280179616806,0.13840832431444583,0.6426496195306555,0.31029133290201405,-0.007777223257665056,0.6280462681157353,-0.07791080375978698,0.5125427329956891,0.4501935784000697,0.8094064764769018,-0.20976913975378686,-0.1952599930683362,-0.16851309379743007,0.043474818760373735,-0.06527785406765751,-0.20050079941298082,0.10937870069773203,-0.06495797170419915,-0.024414044517716227,-0.013887986383655737,-0.2173759197676769,-0.2545372250851057,-0.05615538501108219,0.05771614946517056,0.07208098245454586,0.3294252887363929,0.5220385827603755,0.17703355290347456,0.10189397421005308,-0.011768301442042328,-0.10066828766632752,-0.05940211151686947,-0.09126600344180813,-0.07649562875155902,0.17504927118019142,0.1061466568102063,-0.3348114743760806,0.19905397146873072,0.19327128116953984,0.017853443618118137,0.05591938279689712,0.1613120898511553,-0.06682617658760559,0.16186326103323667,0.4074957201951621,0.455350408559241,0.37253833224548916,0.36364355744337473,0.18862444726521477,-0.018289234752292938,-0.2398349666775199,-0.14257139148179487,-0.023294538183937452,0.3624588177646928,-0.04085166936969964,0.29146554741564246,0.09729705824772039]},{\"marker\":{\"color\":\"rgba(10, 75, 200, 0.6)\",\"line\":{\"color\":\"rgba(10, 75, 200, 1.0)\",\"width\":1}},\"name\":\"Nasdaq\",\"orientation\":\"v\",\"text\":\"\",\"type\":\"bar\",\"x\":[\"2014-10-31\",\"2014-11-30\",\"2014-12-31\",\"2015-01-31\",\"2015-02-28\",\"2015-03-31\",\"2015-04-30\",\"2015-05-31\",\"2015-06-30\",\"2015-07-31\",\"2015-08-31\",\"2015-09-30\",\"2015-10-31\",\"2015-11-30\",\"2015-12-31\",\"2016-01-31\",\"2016-02-29\",\"2016-03-31\",\"2016-04-30\",\"2016-05-31\",\"2016-06-30\",\"2016-07-31\",\"2016-08-31\",\"2016-09-30\",\"2016-10-31\",\"2016-11-30\",\"2016-12-31\",\"2017-01-31\",\"2017-02-28\",\"2017-03-31\",\"2017-04-30\",\"2017-05-31\",\"2017-06-30\",\"2017-07-31\",\"2017-08-31\",\"2017-09-30\",\"2017-10-31\",\"2017-11-30\",\"2017-12-31\",\"2018-01-31\",\"2018-02-28\",\"2018-03-31\",\"2018-04-30\",\"2018-05-31\",\"2018-06-30\",\"2018-07-31\",\"2018-08-31\",\"2018-09-30\",\"2018-10-31\",\"2018-11-30\",\"2018-12-31\",\"2019-01-31\",\"2019-02-28\",\"2019-03-31\",\"2019-04-30\",\"2019-05-31\",\"2019-06-30\",\"2019-07-31\",\"2019-08-31\",\"2019-09-30\",\"2019-10-31\",\"2019-11-30\",\"2019-12-31\",\"2020-01-31\",\"2020-02-29\",\"2020-03-31\",\"2020-04-30\",\"2020-05-31\",\"2020-06-30\",\"2020-07-31\",\"2020-08-31\",\"2020-09-30\",\"2020-10-31\",\"2020-11-30\",\"2020-12-31\",\"2021-01-31\",\"2021-02-28\",\"2021-03-31\",\"2021-04-30\",\"2021-05-31\",\"2021-06-30\",\"2021-07-31\",\"2021-08-31\",\"2021-09-30\",\"2021-10-31\",\"2021-11-30\"],\"y\":[-0.027017731712189907,0.0664614719019272,0.0755011925204927,-0.012907889834405717,0.06884200347333036,0.0054866233196129155,-0.017119494096692556,0.04688123542541578,-0.024840083235268984,0.026261295583710043,0.015513509688521276,0.0031811030524426798,0.07972376544657567,0.04191923883327742,-0.027223130579674182,0.02347911925266244,0.07720562699080058,0.04562283539479517,-0.025187968059133925,0.015232973159982732,0.002032881214327764,0.05851710905877794,0.04120028565910183,-0.024921069083459924,-0.04160159503500993,-0.005756008151389547,0.03716999489336548,0.012744989399782636,0.03665669767408519,-0.007211251986857903,-0.015643913023721034,-0.02073811965744976,0.04963806876494892,0.03411720603594803,0.03289170869707081,0.007783431030663035,-0.03179272590322679,0.0454701165105984,0.012830864876409276,0.0436937765010732,-0.017792861583557418,0.06956140511115572,0.03376551223791657,0.05010919494482757,0.028175057258945202,-0.004626885026454808,0.008106172466813888,-0.03796137377817388,-0.07213658995900352,0.07466771462594624,-0.06873595294303092,0.01475132796634493,0.05621690547185776,-0.04661728526437392,0.06276001323223745,0.013359941906546657,0.0655118314186125,0.04429535799246165,-0.02242734861794038,0.027299444789482763,-0.016521590117040463,0.045071899187571374,0.03536709311069175,0.03922738828902972,0.012284876981516701,-0.1499100772177544,0.13751045240732318,0.051134634270366464,0.043004836521903345,0.08948224343702527,0.01975482262939332,-0.05006264707781638,0.017762484995354155,0.01225305311065239,0.014453780881115819,0.07546108314356692,0.0230099569676514,0.04065087320264538,0.08824537840360458,0.03764603458375104,0.0632455804242984,0.03502419285130687,0.05420068435302938,0.016568791662295412,0.04248659046471048,0.04841074997021089]}],                        {\"legend\":{\"bgcolor\":\"#F5F6F9\",\"font\":{\"color\":\"#4D5663\"}},\"paper_bgcolor\":\"#F5F6F9\",\"plot_bgcolor\":\"#F5F6F9\",\"template\":{\"data\":{\"bar\":[{\"error_x\":{\"color\":\"#2a3f5f\"},\"error_y\":{\"color\":\"#2a3f5f\"},\"marker\":{\"line\":{\"color\":\"#E5ECF6\",\"width\":0.5},\"pattern\":{\"fillmode\":\"overlay\",\"size\":10,\"solidity\":0.2}},\"type\":\"bar\"}],\"barpolar\":[{\"marker\":{\"line\":{\"color\":\"#E5ECF6\",\"width\":0.5},\"pattern\":{\"fillmode\":\"overlay\",\"size\":10,\"solidity\":0.2}},\"type\":\"barpolar\"}],\"carpet\":[{\"aaxis\":{\"endlinecolor\":\"#2a3f5f\",\"gridcolor\":\"white\",\"linecolor\":\"white\",\"minorgridcolor\":\"white\",\"startlinecolor\":\"#2a3f5f\"},\"baxis\":{\"endlinecolor\":\"#2a3f5f\",\"gridcolor\":\"white\",\"linecolor\":\"white\",\"minorgridcolor\":\"white\",\"startlinecolor\":\"#2a3f5f\"},\"type\":\"carpet\"}],\"choropleth\":[{\"colorbar\":{\"outlinewidth\":0,\"ticks\":\"\"},\"type\":\"choropleth\"}],\"contour\":[{\"colorbar\":{\"outlinewidth\":0,\"ticks\":\"\"},\"colorscale\":[[0.0,\"#0d0887\"],[0.1111111111111111,\"#46039f\"],[0.2222222222222222,\"#7201a8\"],[0.3333333333333333,\"#9c179e\"],[0.4444444444444444,\"#bd3786\"],[0.5555555555555556,\"#d8576b\"],[0.6666666666666666,\"#ed7953\"],[0.7777777777777778,\"#fb9f3a\"],[0.8888888888888888,\"#fdca26\"],[1.0,\"#f0f921\"]],\"type\":\"contour\"}],\"contourcarpet\":[{\"colorbar\":{\"outlinewidth\":0,\"ticks\":\"\"},\"type\":\"contourcarpet\"}],\"heatmap\":[{\"colorbar\":{\"outlinewidth\":0,\"ticks\":\"\"},\"colorscale\":[[0.0,\"#0d0887\"],[0.1111111111111111,\"#46039f\"],[0.2222222222222222,\"#7201a8\"],[0.3333333333333333,\"#9c179e\"],[0.4444444444444444,\"#bd3786\"],[0.5555555555555556,\"#d8576b\"],[0.6666666666666666,\"#ed7953\"],[0.7777777777777778,\"#fb9f3a\"],[0.8888888888888888,\"#fdca26\"],[1.0,\"#f0f921\"]],\"type\":\"heatmap\"}],\"heatmapgl\":[{\"colorbar\":{\"outlinewidth\":0,\"ticks\":\"\"},\"colorscale\":[[0.0,\"#0d0887\"],[0.1111111111111111,\"#46039f\"],[0.2222222222222222,\"#7201a8\"],[0.3333333333333333,\"#9c179e\"],[0.4444444444444444,\"#bd3786\"],[0.5555555555555556,\"#d8576b\"],[0.6666666666666666,\"#ed7953\"],[0.7777777777777778,\"#fb9f3a\"],[0.8888888888888888,\"#fdca26\"],[1.0,\"#f0f921\"]],\"type\":\"heatmapgl\"}],\"histogram\":[{\"marker\":{\"pattern\":{\"fillmode\":\"overlay\",\"size\":10,\"solidity\":0.2}},\"type\":\"histogram\"}],\"histogram2d\":[{\"colorbar\":{\"outlinewidth\":0,\"ticks\":\"\"},\"colorscale\":[[0.0,\"#0d0887\"],[0.1111111111111111,\"#46039f\"],[0.2222222222222222,\"#7201a8\"],[0.3333333333333333,\"#9c179e\"],[0.4444444444444444,\"#bd3786\"],[0.5555555555555556,\"#d8576b\"],[0.6666666666666666,\"#ed7953\"],[0.7777777777777778,\"#fb9f3a\"],[0.8888888888888888,\"#fdca26\"],[1.0,\"#f0f921\"]],\"type\":\"histogram2d\"}],\"histogram2dcontour\":[{\"colorbar\":{\"outlinewidth\":0,\"ticks\":\"\"},\"colorscale\":[[0.0,\"#0d0887\"],[0.1111111111111111,\"#46039f\"],[0.2222222222222222,\"#7201a8\"],[0.3333333333333333,\"#9c179e\"],[0.4444444444444444,\"#bd3786\"],[0.5555555555555556,\"#d8576b\"],[0.6666666666666666,\"#ed7953\"],[0.7777777777777778,\"#fb9f3a\"],[0.8888888888888888,\"#fdca26\"],[1.0,\"#f0f921\"]],\"type\":\"histogram2dcontour\"}],\"mesh3d\":[{\"colorbar\":{\"outlinewidth\":0,\"ticks\":\"\"},\"type\":\"mesh3d\"}],\"parcoords\":[{\"line\":{\"colorbar\":{\"outlinewidth\":0,\"ticks\":\"\"}},\"type\":\"parcoords\"}],\"pie\":[{\"automargin\":true,\"type\":\"pie\"}],\"scatter\":[{\"marker\":{\"colorbar\":{\"outlinewidth\":0,\"ticks\":\"\"}},\"type\":\"scatter\"}],\"scatter3d\":[{\"line\":{\"colorbar\":{\"outlinewidth\":0,\"ticks\":\"\"}},\"marker\":{\"colorbar\":{\"outlinewidth\":0,\"ticks\":\"\"}},\"type\":\"scatter3d\"}],\"scattercarpet\":[{\"marker\":{\"colorbar\":{\"outlinewidth\":0,\"ticks\":\"\"}},\"type\":\"scattercarpet\"}],\"scattergeo\":[{\"marker\":{\"colorbar\":{\"outlinewidth\":0,\"ticks\":\"\"}},\"type\":\"scattergeo\"}],\"scattergl\":[{\"marker\":{\"colorbar\":{\"outlinewidth\":0,\"ticks\":\"\"}},\"type\":\"scattergl\"}],\"scattermapbox\":[{\"marker\":{\"colorbar\":{\"outlinewidth\":0,\"ticks\":\"\"}},\"type\":\"scattermapbox\"}],\"scatterpolar\":[{\"marker\":{\"colorbar\":{\"outlinewidth\":0,\"ticks\":\"\"}},\"type\":\"scatterpolar\"}],\"scatterpolargl\":[{\"marker\":{\"colorbar\":{\"outlinewidth\":0,\"ticks\":\"\"}},\"type\":\"scatterpolargl\"}],\"scatterternary\":[{\"marker\":{\"colorbar\":{\"outlinewidth\":0,\"ticks\":\"\"}},\"type\":\"scatterternary\"}],\"surface\":[{\"colorbar\":{\"outlinewidth\":0,\"ticks\":\"\"},\"colorscale\":[[0.0,\"#0d0887\"],[0.1111111111111111,\"#46039f\"],[0.2222222222222222,\"#7201a8\"],[0.3333333333333333,\"#9c179e\"],[0.4444444444444444,\"#bd3786\"],[0.5555555555555556,\"#d8576b\"],[0.6666666666666666,\"#ed7953\"],[0.7777777777777778,\"#fb9f3a\"],[0.8888888888888888,\"#fdca26\"],[1.0,\"#f0f921\"]],\"type\":\"surface\"}],\"table\":[{\"cells\":{\"fill\":{\"color\":\"#EBF0F8\"},\"line\":{\"color\":\"white\"}},\"header\":{\"fill\":{\"color\":\"#C8D4E3\"},\"line\":{\"color\":\"white\"}},\"type\":\"table\"}]},\"layout\":{\"annotationdefaults\":{\"arrowcolor\":\"#2a3f5f\",\"arrowhead\":0,\"arrowwidth\":1},\"autotypenumbers\":\"strict\",\"coloraxis\":{\"colorbar\":{\"outlinewidth\":0,\"ticks\":\"\"}},\"colorscale\":{\"diverging\":[[0,\"#8e0152\"],[0.1,\"#c51b7d\"],[0.2,\"#de77ae\"],[0.3,\"#f1b6da\"],[0.4,\"#fde0ef\"],[0.5,\"#f7f7f7\"],[0.6,\"#e6f5d0\"],[0.7,\"#b8e186\"],[0.8,\"#7fbc41\"],[0.9,\"#4d9221\"],[1,\"#276419\"]],\"sequential\":[[0.0,\"#0d0887\"],[0.1111111111111111,\"#46039f\"],[0.2222222222222222,\"#7201a8\"],[0.3333333333333333,\"#9c179e\"],[0.4444444444444444,\"#bd3786\"],[0.5555555555555556,\"#d8576b\"],[0.6666666666666666,\"#ed7953\"],[0.7777777777777778,\"#fb9f3a\"],[0.8888888888888888,\"#fdca26\"],[1.0,\"#f0f921\"]],\"sequentialminus\":[[0.0,\"#0d0887\"],[0.1111111111111111,\"#46039f\"],[0.2222222222222222,\"#7201a8\"],[0.3333333333333333,\"#9c179e\"],[0.4444444444444444,\"#bd3786\"],[0.5555555555555556,\"#d8576b\"],[0.6666666666666666,\"#ed7953\"],[0.7777777777777778,\"#fb9f3a\"],[0.8888888888888888,\"#fdca26\"],[1.0,\"#f0f921\"]]},\"colorway\":[\"#636efa\",\"#EF553B\",\"#00cc96\",\"#ab63fa\",\"#FFA15A\",\"#19d3f3\",\"#FF6692\",\"#B6E880\",\"#FF97FF\",\"#FECB52\"],\"font\":{\"color\":\"#2a3f5f\"},\"geo\":{\"bgcolor\":\"white\",\"lakecolor\":\"white\",\"landcolor\":\"#E5ECF6\",\"showlakes\":true,\"showland\":true,\"subunitcolor\":\"white\"},\"hoverlabel\":{\"align\":\"left\"},\"hovermode\":\"closest\",\"mapbox\":{\"style\":\"light\"},\"paper_bgcolor\":\"white\",\"plot_bgcolor\":\"#E5ECF6\",\"polar\":{\"angularaxis\":{\"gridcolor\":\"white\",\"linecolor\":\"white\",\"ticks\":\"\"},\"bgcolor\":\"#E5ECF6\",\"radialaxis\":{\"gridcolor\":\"white\",\"linecolor\":\"white\",\"ticks\":\"\"}},\"scene\":{\"xaxis\":{\"backgroundcolor\":\"#E5ECF6\",\"gridcolor\":\"white\",\"gridwidth\":2,\"linecolor\":\"white\",\"showbackground\":true,\"ticks\":\"\",\"zerolinecolor\":\"white\"},\"yaxis\":{\"backgroundcolor\":\"#E5ECF6\",\"gridcolor\":\"white\",\"gridwidth\":2,\"linecolor\":\"white\",\"showbackground\":true,\"ticks\":\"\",\"zerolinecolor\":\"white\"},\"zaxis\":{\"backgroundcolor\":\"#E5ECF6\",\"gridcolor\":\"white\",\"gridwidth\":2,\"linecolor\":\"white\",\"showbackground\":true,\"ticks\":\"\",\"zerolinecolor\":\"white\"}},\"shapedefaults\":{\"line\":{\"color\":\"#2a3f5f\"}},\"ternary\":{\"aaxis\":{\"gridcolor\":\"white\",\"linecolor\":\"white\",\"ticks\":\"\"},\"baxis\":{\"gridcolor\":\"white\",\"linecolor\":\"white\",\"ticks\":\"\"},\"bgcolor\":\"#E5ECF6\",\"caxis\":{\"gridcolor\":\"white\",\"linecolor\":\"white\",\"ticks\":\"\"}},\"title\":{\"x\":0.05},\"xaxis\":{\"automargin\":true,\"gridcolor\":\"white\",\"linecolor\":\"white\",\"ticks\":\"\",\"title\":{\"standoff\":15},\"zerolinecolor\":\"white\",\"zerolinewidth\":2},\"yaxis\":{\"automargin\":true,\"gridcolor\":\"white\",\"linecolor\":\"white\",\"ticks\":\"\",\"title\":{\"standoff\":15},\"zerolinecolor\":\"white\",\"zerolinewidth\":2}}},\"title\":{\"font\":{\"color\":\"#4D5663\"},\"text\":\"Month-to-month variation Bitcoin vs Nasdaq\"},\"xaxis\":{\"gridcolor\":\"#E1E5ED\",\"showgrid\":true,\"tickfont\":{\"color\":\"#4D5663\"},\"title\":{\"font\":{\"color\":\"#4D5663\"},\"text\":\"\"},\"zerolinecolor\":\"#E1E5ED\"},\"yaxis\":{\"gridcolor\":\"#E1E5ED\",\"showgrid\":true,\"tickfont\":{\"color\":\"#4D5663\"},\"title\":{\"font\":{\"color\":\"#4D5663\"},\"text\":\"\"},\"zerolinecolor\":\"#E1E5ED\"}},                        {\"showLink\": true, \"linkText\": \"Export to plot.ly\", \"plotlyServerURL\": \"https://plot.ly\", \"responsive\": true}                    ).then(function(){\n",
       "                            \n",
       "var gd = document.getElementById('b68a0117-ae65-4e61-9d30-6037b99196b3');\n",
       "var x = new MutationObserver(function (mutations, observer) {{\n",
       "        var display = window.getComputedStyle(gd).display;\n",
       "        if (!display || display === 'none') {{\n",
       "            console.log([gd, 'removed!']);\n",
       "            Plotly.purge(gd);\n",
       "            observer.disconnect();\n",
       "        }}\n",
       "}});\n",
       "\n",
       "// Listen for the removal of the full notebook cells\n",
       "var notebookContainer = gd.closest('#notebook-container');\n",
       "if (notebookContainer) {{\n",
       "    x.observe(notebookContainer, {childList: true});\n",
       "}}\n",
       "\n",
       "// Listen for the clearing of the current output cell\n",
       "var outputEl = gd.closest('.output');\n",
       "if (outputEl) {{\n",
       "    x.observe(outputEl, {childList: true});\n",
       "}}\n",
       "\n",
       "                        })                };                });            </script>        </div>"
      ]
     },
     "metadata": {},
     "output_type": "display_data"
    }
   ],
   "source": [
    "retorno_btc_vs_nasdaq = pd.DataFrame(data=[btc_return_month,nasdaq_return]).T\n",
    "retorno_btc_vs_nasdaq.columns=['Bitcoin','Nasdaq']\n",
    "retorno_btc_vs_nasdaq=retorno_btc_vs_nasdaq.groupby(pd.Grouper(freq='M')).mean()\n",
    "retorno_btc_vs_nasdaq.iplot(kind='bar',colors=['#FFA15A','rgb(10,75,200)'],title=\"Month-to-month variation Bitcoin vs Nasdaq\")\n"
   ]
  }
 ],
 "metadata": {
  "interpreter": {
   "hash": "940c9370ba14b793126c658339bbdd480a746ad348422e8a3e800951c8797543"
  },
  "kernelspec": {
   "display_name": "Python 3.9.2 64-bit",
   "language": "python",
   "name": "python3"
  },
  "language_info": {
   "codemirror_mode": {
    "name": "ipython",
    "version": 3
   },
   "file_extension": ".py",
   "mimetype": "text/x-python",
   "name": "python",
   "nbconvert_exporter": "python",
   "pygments_lexer": "ipython3",
   "version": "3.9.2"
  },
  "orig_nbformat": 4
 },
 "nbformat": 4,
 "nbformat_minor": 2
}
